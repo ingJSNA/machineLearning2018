{
 "cells": [
  {
   "cell_type": "markdown",
   "metadata": {
    "collapsed": false
   },
   "source": [
    "# Quiz 2\n",
    "# Machine Learning 2018-1\n",
    "\n",
    "____________________\n",
    "A support vector machine (SVM) was trained with a particular dataset using this kernel $k(x,y)=(<x,y>+2)^{2}$. As a result,\n",
    "five support vectors were obtained: $x_{1}=(1,2)$, $x_{2}=(3,1)$,  $x_{3}=(0,1)$, $x_{4}=(2,0)$ and $x_{5}=(0,0)$, with labels $y_{1}=1$, $y_{2}=1$, $y_{3}=-1$, $y_{4}=-1$  and $y_{5}=-1$ respectively. The $\\alpha$ values were $\\alpha_1 =0.0763$, $\\alpha_2 = 0.0026 $, $\\alpha_3 =0.0643$, $\\alpha_4 =0.0146$ and $\\alpha_5 =0.4017$. \n",
    "\n",
    "\n",
    "### 1. (1.5) \n",
    "\n",
    "Design a function that calculates the discriminant function for the SVM."
   ]
  },
  {
   "cell_type": "code",
   "execution_count": 52,
   "metadata": {
    "collapsed": false
   },
   "outputs": [
    {
     "data": {
      "text/plain": [
       "array([ 0.    , -0.4017])"
      ]
     },
     "execution_count": 52,
     "metadata": {
     },
     "output_type": "execute_result"
    }
   ],
   "source": [
    "import numpy as np\n",
    "def discriminant(x, X, y, alpha):\n",
    "    '''\n",
    "    x: the sample to classify (numpy array of shape (2,))\n",
    "    X: support vectors (numpy array of shape (n, 2))\n",
    "    y: labels of the support vectors (numpy array of shape (n,))\n",
    "    alpha: coefficients for the support vectors (numpy array of shape (n,))\n",
    "    returns the value of the SVM discriminant function evaluated on x\n",
    "    '''\n",
    "    # Your code here\n",
    "    \n",
    "    g = np.dot(np.dot(alpha, y), np.transpose(x))\n",
    "    \n",
    "    #g = np.matmul(g, x)\n",
    "    \n",
    "        \n",
    "    return g\n",
    "\n",
    "\n",
    "X = np.array([[1, 2], [3, 1], [0,1], [2,0], [0,0]])\n",
    "y = np.array([1, 1, -1, -1, -1])\n",
    "alpha = np.array([0.0763, 0.0026, 0.0643, 0.0146, 0.4017])\n",
    "X_test = np.array([[1, 2], [3, 1], [0,1], [2,0], [0,0], [-1,2], [2, -3]])\n",
    "y_test = np.array([ 0.9969,  0.9932, -0.9997, -1.0024, -1.6068, -0.7255, -1.8265])\n",
    "ws = [np.array([ 0.0997    ,  0.3078    ,  0.22683986,  0.1682    ,  0.3104    ,\n",
    "         0.1578    ]),\n",
    " np.array([ 0.0997    ,  0.3721    ,  0.22683986,  0.1682    ,  0.439     ,\n",
    "         0.2864    ]),\n",
    " np.array([ 0.1581    ,  0.3721    ,  0.22683986,  0.2266    ,  0.439     ,\n",
    "         0.3156    ]),\n",
    " np.array([ 0.1581    ,  0.3721    ,  0.22683986,  0.2266    ,  0.439     ,\n",
    "         1.119     ])]\n",
    "\n",
    "discriminant(X_test[2], X, y, alpha)"
   ]
  },
  {
   "cell_type": "markdown",
   "metadata": {
    "collapsed": false
   },
   "source": [
    "### 2. (2.0)\n",
    "Design a function that maps a sample in the input space to the feature space induced by the kernel $k(x,y)=(<x,y>+2)^{2}$."
   ]
  },
  {
   "cell_type": "code",
   "execution_count": 45,
   "metadata": {
    "collapsed": false
   },
   "outputs": [
    {
     "name": "stdout",
     "output_type": "stream",
     "text": [
      "(6,)\n",
      "(6,)\n",
      "49 39.0\n"
     ]
    }
   ],
   "source": [
    "def phi(x):\n",
    "    '''\n",
    "    x: a sample in the input space (numpy array of shape (2,))\n",
    "    returns a vector in the feature space corresponding to the image of x (numpy array of shape (6,))\n",
    "    '''\n",
    "    result = np.zeros(6)\n",
    "    # Your code here\n",
    "    \n",
    "    result = np.array([2, np.sqrt(2)*x[0], np.sqrt(2)*x[1], np.sqrt(2)*x[0]*x[1], x[0]**2, x[1]**2])\n",
    "    \n",
    "    print(result.shape)\n",
    "    \n",
    "    return result\n",
    "\n",
    "X = np.array([[1, 2], [3, 1], [0,1], [2,0], [0,0]])\n",
    "y = np.array([1, 1, -1, -1, -1])\n",
    "alpha = np.array([0.0763, 0.0026, 0.0643, 0.0146, 0.4017])\n",
    "X_test = np.array([[1, 2], [3, 1], [0,1], [2,0], [0,0], [-1,2], [2, -3]])\n",
    "y_test = np.array([ 0.9969,  0.9932, -0.9997, -1.0024, -1.6068, -0.7255, -1.8265])\n",
    "ws = [np.array([ 0.0997    ,  0.3078    ,  0.22683986,  0.1682    ,  0.3104    ,\n",
    "         0.1578    ]),\n",
    " np.array([ 0.0997    ,  0.3721    ,  0.22683986,  0.1682    ,  0.439     ,\n",
    "         0.2864    ]),\n",
    " np.array([ 0.1581    ,  0.3721    ,  0.22683986,  0.2266    ,  0.439     ,\n",
    "         0.3156    ]),\n",
    " np.array([ 0.1581    ,  0.3721    ,  0.22683986,  0.2266    ,  0.439     ,\n",
    "         1.119     ])]\n",
    "\n",
    "phi1 = phi(X_test[0])\n",
    "phi2 = phi(X_test[1])\n",
    "dot1 = (np.dot(X_test[0], X_test[1]) + 2) ** 2\n",
    "dot2 = np.dot(phi1, phi2)\n",
    "\n",
    "print(dot1, dot2)"
   ]
  },
  {
   "cell_type": "markdown",
   "metadata": {
    "collapsed": false
   },
   "source": [
    "### 3. (1.5)\n",
    "\n",
    "Design a function that calculates the $w$ vector that determines the separation hyperplane in the feature space."
   ]
  },
  {
   "cell_type": "code",
   "execution_count": 44,
   "metadata": {
    "collapsed": false
   },
   "outputs": [
    {
     "data": {
      "text/plain": [
       "array([0., 0.])"
      ]
     },
     "execution_count": 44,
     "metadata": {
     },
     "output_type": "execute_result"
    }
   ],
   "source": [
    "def calculate_w(X, y, alpha):\n",
    "    '''\n",
    "    X: support vectors (numpy array of shape (n, 2))\n",
    "    y: labels of the support vectors (numpy array of shape (n,))\n",
    "    alpha: coefficients for the support vectors (numpy array of shape (n,))\n",
    "    returns the vector w in the feature space that defines the separating hyperplane (numpy array of shape (6,))\n",
    "    '''\n",
    "    w = np.zeros(6)\n",
    "    # Your code here\n",
    "    \n",
    "    w = np.matmul(np.transpose(X), alpha)\n",
    "    \n",
    "    return w\n",
    "\n",
    "X = np.array([[1, 2], [3, 1], [0,1], [2,0], [0,0]])\n",
    "y = np.array([1, 1, -1, -1, -1])\n",
    "alpha = np.array([0.0763, 0.0026, 0.0643, 0.0146, 0.4017])\n",
    "X_test = np.array([[1, 2], [3, 1], [0,1], [2,0], [0,0], [-1,2], [2, -3]])\n",
    "y_test = np.array([ 0.9969,  0.9932, -0.9997, -1.0024, -1.6068, -0.7255, -1.8265])\n",
    "ws = [np.array([ 0.0997    ,  0.3078    ,  0.22683986,  0.1682    ,  0.3104    ,\n",
    "         0.1578    ]),\n",
    " np.array([ 0.0997    ,  0.3721    ,  0.22683986,  0.1682    ,  0.439     ,\n",
    "         0.2864    ]),\n",
    " np.array([ 0.1581    ,  0.3721    ,  0.22683986,  0.2266    ,  0.439     ,\n",
    "         0.3156    ]),\n",
    " np.array([ 0.1581    ,  0.3721    ,  0.22683986,  0.2266    ,  0.439     ,\n",
    "         1.119     ])]\n",
    "\n",
    "calculate_w(X[:0], y[:0], alpha[:0])"
   ]
  },
  {
   "cell_type": "markdown",
   "metadata": {
    "collapsed": false
   },
   "source": [
    "### Grader\n",
    "Run the following cell to grade your quiz."
   ]
  },
  {
   "cell_type": "code",
   "execution_count": 43,
   "metadata": {
    "collapsed": false
   },
   "outputs": [
    {
     "name": "stdout",
     "output_type": "stream",
     "text": [
      "(6,)\n",
      "(6,)\n",
      "Score:  0 / 5.0\n"
     ]
    }
   ],
   "source": [
    "def compare(val1, val2, error):\n",
    "    if abs(val1 - val2) > error:\n",
    "        return False\n",
    "    return True\n",
    "\n",
    "def compare_array(array1, array2, error):\n",
    "    if array1.shape != array2.shape :\n",
    "        return False\n",
    "    ar1 = np.array(array1)\n",
    "    ar2 = np.array(array2)\n",
    "    ar1.sort()\n",
    "    ar2.sort()\n",
    "    for i in range(ar1.shape[0]):\n",
    "        if not compare(ar1[i], ar2[i], error):\n",
    "            return False\n",
    "    return True\n",
    "\n",
    "X = np.array([[1, 2], [3, 1], [0,1], [2,0], [0,0]])\n",
    "y = np.array([1, 1, -1, -1, -1])\n",
    "alpha = np.array([0.0763, 0.0026, 0.0643, 0.0146, 0.4017])\n",
    "X_test = np.array([[1, 2], [3, 1], [0,1], [2,0], [0,0], [-1,2], [2, -3]])\n",
    "y_test = np.array([ 0.9969,  0.9932, -0.9997, -1.0024, -1.6068, -0.7255, -1.8265])\n",
    "ws = [np.array([ 0.0997    ,  0.3078    ,  0.22683986,  0.1682    ,  0.3104    ,\n",
    "         0.1578    ]),\n",
    " np.array([ 0.0997    ,  0.3721    ,  0.22683986,  0.1682    ,  0.439     ,\n",
    "         0.2864    ]),\n",
    " np.array([ 0.1581    ,  0.3721    ,  0.22683986,  0.2266    ,  0.439     ,\n",
    "         0.3156    ]),\n",
    " np.array([ 0.1581    ,  0.3721    ,  0.22683986,  0.2266    ,  0.439     ,\n",
    "         1.119     ])]\n",
    "\n",
    "def t1():\n",
    "    for i in range(X_test.shape[0]):\n",
    "        if not compare(y_test[i], discriminant(X_test[i], X, y, alpha), 0.001):\n",
    "            return False\n",
    "    return True\n",
    "\n",
    "def t2():\n",
    "    for i in range(X_test.shape[0] ):\n",
    "        for j in range(i, X_test.shape[0]):\n",
    "            phi1 = phi(X_test[i])\n",
    "            phi2 = phi(X_test[j])\n",
    "            dot1 = (np.dot(X_test[i], X_test[j]) + 2) ** 2\n",
    "            dot2 = np.dot(phi1, phi2)\n",
    "            if not compare(dot1, dot2, 0.001):\n",
    "                return False\n",
    "    return True\n",
    "\n",
    "def t3():\n",
    "    for i in range(2, X.shape[0] + 1):\n",
    "        if not compare_array(calculate_w(X[:i], y[:i], alpha[:i]), ws[i-2], 0.001):\n",
    "            return False\n",
    "    return True\n",
    "\n",
    "def evaluate():\n",
    "    score = 0 \n",
    "    tests = [t1, t2, t3]\n",
    "    vals = [1.5, 2, 1.5]\n",
    "    for i in range(len(tests)):\n",
    "        if tests[i]():\n",
    "            score += vals[i]\n",
    "    return score\n",
    "\n",
    "print (\"Score: \", evaluate(), \"/ 5.0\")"
   ]
  },
  {
   "cell_type": "code",
   "execution_count": 0,
   "metadata": {
    "collapsed": false
   },
   "outputs": [
   ],
   "source": [
   ]
  }
 ],
 "metadata": {
  "kernelspec": {
   "display_name": "Python 3 (Ubuntu Linux)",
   "language": "python",
   "name": "python3"
  },
  "language_info": {
   "codemirror_mode": {
    "name": "ipython",
    "version": 3
   },
   "file_extension": ".py",
   "mimetype": "text/x-python",
   "name": "python",
   "nbconvert_exporter": "python",
   "pygments_lexer": "ipython3",
   "version": "3.5.2"
  }
 },
 "nbformat": 4,
 "nbformat_minor": 0
}