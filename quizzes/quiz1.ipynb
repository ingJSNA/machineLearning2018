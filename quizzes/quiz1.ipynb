{
 "cells": [
  {
   "cell_type": "markdown",
   "metadata": {},
   "source": [
    "# Quiz 1\n",
    "# Machine Learning 2018-1"
   ]
  },
  {
   "cell_type": "markdown",
   "metadata": {},
   "source": [
    "A logistic regression model is a statistical classification method that uses a generalized linear regression model to estimate $P(C=1 | \\mathbf{x})$, the probability of the sample $\\mathbf{x}\\in\\mathbb{R}^2$ belonging to class $C_1$. \n",
    "\n",
    "\\begin{equation}\n",
    "y=P(C=1|\\mathbf{x},\\mathbf{w})=\\sigma(w_0+w_1x_0 + w_2x_1)\n",
    "\\end{equation}\n",
    "where \n",
    "\\begin{equation}\n",
    "\\sigma(x)=\\frac{1}{1+e^{-x}}\n",
    "\\end{equation}"
   ]
  },
  {
   "cell_type": "markdown",
   "metadata": {},
   "source": [
    "### 1. \n",
    "Write a function that implements a logistic regression model."
   ]
  },
  {
   "cell_type": "code",
   "execution_count": 1,
   "metadata": {},
   "outputs": [
    {
     "name": "stdout",
     "output_type": "stream",
     "text": [
      "0.9933071490757153\n",
      "[-2. -2.]\n"
     ]
    }
   ],
   "source": [
    "import numpy as np\n",
    "\n",
    "def ro(x):\n",
    "    return  1 / (1 + np.exp(-x))\n",
    "\n",
    "def f_1(w, x):\n",
    "    ''' \n",
    "     w: weight vector with shape (3,)\n",
    "     x: input sample with shape (1,2)\n",
    "     returns: P(C=1|x,w)\n",
    "    '''\n",
    "    ### Your code here\n",
    "    \n",
    "    y = ro(w[0] + w[1]*x[0] + w[2]*x[1])\n",
    "    \n",
    "    \n",
    "    return  y\n",
    "\n",
    "print(f_1(np.array([0, 1, 2]), np.array([1, 2])))\n",
    "\n",
    "lst = []\n",
    "for x1 in np.linspace(-2, 1.5, 4):\n",
    "    for x2 in np.linspace(-2, 1.5, 4):\n",
    "        lst.append([x1, x2])\n",
    "X = np.array(lst)\n",
    "\n",
    "print(X[0, :])"
   ]
  },
  {
   "cell_type": "code",
   "execution_count": null,
   "metadata": {},
   "outputs": [],
   "source": []
  },
  {
   "cell_type": "markdown",
   "metadata": {},
   "source": [
    "### 2. \n",
    "Assume that the cost of a false positive (predicting class $C_1$ when the real class is $C_0$) is $L_0$ and the cost of a false negative is $L_1$. Write a function that calculates the risk of classifying a sample $\\mathbf{x}$ in class $y \\in \\{0,1\\}$.\n"
   ]
  },
  {
   "cell_type": "code",
   "execution_count": 2,
   "metadata": {},
   "outputs": [
    {
     "data": {
      "text/plain": [
       "0.004945246313269549"
      ]
     },
     "execution_count": 2,
     "metadata": {},
     "output_type": "execute_result"
    }
   ],
   "source": [
    "def f_2(w, L, x, y):\n",
    "    ''' \n",
    "     w: weight vector with shape (3,)\n",
    "     L: loss vector with shape (2,)\n",
    "     x: input sample with shape (2,1)\n",
    "     y: class value {0, 1}\n",
    "     returns: R(y|x,w)\n",
    "    '''\n",
    "    ### Your code here\n",
    "    \n",
    "    p = f_1(w, x)\n",
    "    \n",
    "    if y == 0:\n",
    "        R =  L[1]*p\n",
    "    else:\n",
    "        R =  L[0]*(1-p)\n",
    "    \n",
    "    return  R\n",
    "W1 = np.array([0, 1, 2])\n",
    "L1 = np.array([0.9, 2, 0.3])\n",
    "X = np.array([-2, -2])\n",
    "y = 0\n",
    "\n",
    "f_2(W1, L1, X, y)"
   ]
  },
  {
   "cell_type": "markdown",
   "metadata": {},
   "source": [
    "### 3. \n",
    "Write a function that implements a classifier that makes the prediction that minimizes the risk."
   ]
  },
  {
   "cell_type": "code",
   "execution_count": 3,
   "metadata": {},
   "outputs": [],
   "source": [
    "def f_3(w, L, x):\n",
    "    ''' \n",
    "     w: weight vector with shape (3,)\n",
    "     L: loss vector with shape (2,)\n",
    "     x: input sample with shape (2,1)\n",
    "     returns: predicted class {0, 1} \n",
    "    '''\n",
    "    ### Your code here\n",
    "    \n",
    "    r0 = f_2(w, L, x, 0)\n",
    "    \n",
    "    r1 = f_2(w, L, x, 1)\n",
    "    \n",
    "    if r0 <= r1 :\n",
    "        return 0\n",
    "    else:\n",
    "        return 1\n",
    "    \n",
    "    return  0"
   ]
  },
  {
   "cell_type": "markdown",
   "metadata": {},
   "source": [
    "### 4. \n",
    "Write a function that implements a classifier that makes the prediction that minimizes the risk, but that can also reject the sample. The cost of rejection is $L_2$."
   ]
  },
  {
   "cell_type": "code",
   "execution_count": 4,
   "metadata": {},
   "outputs": [],
   "source": [
    "def f_4(w, L, x):\n",
    "    ''' \n",
    "     w: weight vector with shape (3,)\n",
    "     L: loss vector with shape (3,)\n",
    "     x: input sample with shape (2,1)\n",
    "     returns: predicted class {0, 1, 2}. Rejection is 2.\n",
    "    '''\n",
    "    ### Your code here\n",
    "    \n",
    "    \n",
    "    \n",
    "    return 0\n"
   ]
  },
  {
   "cell_type": "markdown",
   "metadata": {},
   "source": [
    "### Grader\n",
    "\n",
    "Run the following cell to grade your quiz."
   ]
  },
  {
   "cell_type": "code",
   "execution_count": 5,
   "metadata": {},
   "outputs": [
    {
     "name": "stdout",
     "output_type": "stream",
     "text": [
      "Score:  3 / 4\n"
     ]
    }
   ],
   "source": [
    "def compare(val1, val2, error):\n",
    "    if abs(val1 - val2) > error:\n",
    "        return False\n",
    "    return True\n",
    "\n",
    "lst = []\n",
    "for x1 in np.linspace(-2, 1.5, 4):\n",
    "    for x2 in np.linspace(-2, 1.5, 4):\n",
    "        lst.append([x1, x2])\n",
    "X = np.array(lst)\n",
    "\n",
    "W1 = np.array([0, 1, 2])\n",
    "L1 = np.array([0.9, 2, 0.3])\n",
    "W2 = np.array([-0.3, 1, -0.5])\n",
    "Y1= [ 0.00247262,  0.02492443, 0.20860853,  0.73105858,  0.00789708,  0.07585818,\n",
    "  0.45842952,  0.89721598,  0.02492443,  0.20860853,  0.73105858,  0.9655548,\n",
    "  0.07585818,  0.45842952,  0.89721598,  0.98901306]\n",
    "R10= [ 0.00494525,  0.04984885,  0.41721705,  1.46211716,  0.01579417,  0.15171636,\n",
    "  0.91685903,  1.79443195,  0.04984885,  0.41721705,  1.46211716,  1.93110961,\n",
    "  0.15171636,  0.91685903,  1.79443195,  1.97802611]\n",
    "R11= [ 0.89777464,  0.87756802,  0.71225233,  0.24204728,  0.89289262,  0.83172764,\n",
    "  0.48741343,  0.09250562,  0.87756802,  0.71225233,  0.24204728,  0.03100068,\n",
    "  0.83172764,  0.48741343,  0.09250562,  0.00988825]\n",
    "C1= [ 0.,  0.,  0.,  1.,  0.,  0.,  1.,  1.,  0.,  0.,  1.,  1.,  0.,  1.,  1.,  1.]\n",
    "C2= [ 0.,  0.,  2.,  1.,  0.,  0.,  2.,  1.,  0.,  2.,  1.,  1.,  0.,  2.,  1.,  1.]\n",
    "Y2= [ 0.21416502,  0.13200647,  0.07822826,  0.04521747,  0.46671596,  0.32812743,\n",
    "  0.21416502,  0.13200647,  0.73756162,  0.61063923,  0.46671596,  0.32812743,\n",
    "  0.90024951,  0.83433491,  0.73756162,  0.61063923]\n",
    "\n",
    "def test1():\n",
    "    for i in range(len(lst)):\n",
    "        if not compare(Y1[i], f_1(W1, X[i, :]), 0.0001):\n",
    "            return False\n",
    "        if not compare(Y2[i], f_1(W2, X[i, :]), 0.0001):\n",
    "            return False\n",
    "    return True\n",
    "\n",
    "def test2():\n",
    "    for i in range(len(lst)):\n",
    "        if not compare(R10[i], f_2(W1, L1, X[i, :], 0), 0.0001):\n",
    "            return False\n",
    "        if not compare(R11[i], f_2(W1, L1, X[i, :], 1), 0.0001):\n",
    "            return False\n",
    "    return True\n",
    "\n",
    "def test3():\n",
    "    for i in range(len(lst)):\n",
    "        if not compare(C1[i], f_3(W1, L1[:2], X[i, :]), 0.0001):\n",
    "            return False\n",
    "    return True\n",
    "\n",
    "def test4():\n",
    "    for i in range(len(lst)):\n",
    "        if not compare(C2[i], f_4(W1, L1, X[i, :]), 0.0001):\n",
    "            return False\n",
    "    return True\n",
    "\n",
    "def evaluate():\n",
    "    score = 0 \n",
    "    for test in [test1, test2, test3, test4]:\n",
    "        if test():\n",
    "            score += 1\n",
    "    return score\n",
    "\n",
    "print (\"Score: \", evaluate(), \"/ 4\")"
   ]
  },
  {
   "cell_type": "code",
   "execution_count": 0,
   "metadata": {},
   "outputs": [],
   "source": []
  }
 ],
 "metadata": {
  "kernelspec": {
   "display_name": "Python [conda env:ml]",
   "language": "python",
   "name": "conda-env-ml-py"
  },
  "language_info": {
   "codemirror_mode": {
    "name": "ipython",
    "version": 3
   },
   "file_extension": ".py",
   "mimetype": "text/x-python",
   "name": "python",
   "nbconvert_exporter": "python",
   "pygments_lexer": "ipython3",
   "version": "3.6.4"
  }
 },
 "nbformat": 4,
 "nbformat_minor": 1
}
