{
 "cells": [
  {
   "cell_type": "markdown",
   "metadata": {},
   "source": [
    "# Final Exam\n",
    "# Machine Learning 2018-1\n",
    "Keep saving your notebook to guarantee that you don't lose your work. Whenever the end of the exam is announced save the current version. \n",
    "\n",
    "---"
   ]
  },
  {
   "cell_type": "code",
   "execution_count": 1,
   "metadata": {},
   "outputs": [],
   "source": [
    "import numpy as np\n",
    "import pylab as pl\n",
    "\n",
    "%matplotlib inline"
   ]
  },
  {
   "cell_type": "markdown",
   "metadata": {},
   "source": [
    "## 1. (0.5)\n",
    "\n",
    "Consider the following model inspired in a support vector machine. \n",
    "\n",
    "$$ f_w(x) = wx + w_0$$\n",
    "\n",
    "where \n",
    "\n",
    "$$ w=\\sum_{x_{i}\\in X}\\alpha_{i}\\phi(x_{i}) $$\n",
    "\n",
    "The loss function corresponds to the 'hinge' loss function that makes it equivalent to the traditional primal optimization formulation (without the margin or regularization term):\n",
    "\n",
    "$$E(w, x, y) = \\max(0, 1 - y f_w(x))$$\n",
    "\n",
    "Implement this model modifying the following functions:"
   ]
  },
  {
   "cell_type": "code",
   "execution_count": 2,
   "metadata": {},
   "outputs": [],
   "source": [
    "def predict_ksvm(alpha, X, kernel, x):\n",
    "    result = 0\n",
    "    # put your code here\n",
    "    f = 0\n",
    "    for i in range(len(X)):\n",
    "        f += alpha[i] * kernel(X[i], x)\n",
    "    result = f\n",
    "    return result\n",
    "\n",
    "def loss_ksvm(alpha, X, kernel, x, y):\n",
    "    result = 0\n",
    "    # put your code here\n",
    "    e = max(0, 1 - y * predict_ksvm(alpha, X, kernel, x))\n",
    "    result = e\n",
    "    return result\n"
   ]
  },
  {
   "cell_type": "markdown",
   "metadata": {},
   "source": [
    "Test your functions with the following code:"
   ]
  },
  {
   "cell_type": "code",
   "execution_count": 3,
   "metadata": {},
   "outputs": [],
   "source": [
    "def k1(x, y):\n",
    "    return np.dot(x, y)\n",
    "\n",
    "def k2(x, y):\n",
    "    return (np.dot(x, y) + 1) ** 2\n",
    "\n",
    "def test_loss_ksvm():\n",
    "    X = [[-2, -1],\n",
    "         [-1, 3],\n",
    "         [2.5, -1.5],\n",
    "         [4, 2]]\n",
    "    Y = [-1, 1, 1, -1]\n",
    "    epsilon = 0.0001\n",
    "    test1 = [0 , 0 , 6.3 , 3.3]\n",
    "    test2 = [25.775 , 0 , 11.9 , 113.0]\n",
    "    alpha = [0.1, 0.4, -0.5, 0.3]\n",
    "    for i, x_i in enumerate(X):\n",
    "        if abs(loss_ksvm(alpha, X, k1, x_i, Y[i]) - test1[i]) > epsilon:\n",
    "            raise Exception(\"loss_ksvm test failed!\")\n",
    "    for i, x_i in enumerate(X):\n",
    "        if abs(loss_ksvm(alpha, X, k2, x_i, Y[i]) - test2[i]) > epsilon:\n",
    "            raise Exception(\"loss_ksvm test failed!\")\n",
    "\n",
    "test_loss_ksvm() "
   ]
  },
  {
   "cell_type": "markdown",
   "metadata": {},
   "source": [
    "## 2. (1.5)\n",
    "\n",
    "Write a function that calculates the gradient of the loss with respect to the alpha parameter:\n",
    "\n",
    "$$ \\frac{\\partial E}{\\partial \\alpha} $$"
   ]
  },
  {
   "cell_type": "code",
   "execution_count": 4,
   "metadata": {},
   "outputs": [
    {
     "name": "stdout",
     "output_type": "stream",
     "text": [
      "[0. 0. 0. 0.]\n"
     ]
    }
   ],
   "source": [
    "def de_dalpha(alpha, X, kernel, x, y):\n",
    "    delta = np.zeros(len(alpha))\n",
    "    # put your code here\n",
    "    if loss_ksvm(alpha, X, kernel, x, y) > 0:\n",
    "        for i in range(len(X)):\n",
    "            delta[i] = -y * kernel(X[i], x)\n",
    "    return delta\n",
    "\n",
    "\n",
    "epsilon = 0.0001\n",
    "X = [[-2, -1],\n",
    "         [-1, 3],\n",
    "         [2.5, -1.5],\n",
    "         [4, 2]]\n",
    "kernel = k1\n",
    "alpha = np.random.randn(len(X))\n",
    "x = np.random.randn(2)\n",
    "y = np.random.randn(1)\n",
    "print(de_dalpha(alpha, X, kernel, x, y))"
   ]
  },
  {
   "cell_type": "markdown",
   "metadata": {},
   "source": [
    "Use the following functions to test your code:"
   ]
  },
  {
   "cell_type": "code",
   "execution_count": 5,
   "metadata": {},
   "outputs": [],
   "source": [
    "def num_de_dalpha(alpha, X, kernel, x, y, epsilon):\n",
    "    deltas = np.identity(len(alpha)) * epsilon\n",
    "    de = np.zeros(len(alpha))\n",
    "    for i in range(len(alpha)):\n",
    "        de[i] = (loss_ksvm(alpha + deltas[i, :], X, kernel, x, y) - \n",
    "                 loss_ksvm(alpha - deltas[i, :], X, kernel, x, y)) / (2 * epsilon)\n",
    "    return de\n",
    "\n",
    "def test_de_dalpha(kernel):\n",
    "    test_loss_ksvm()\n",
    "    num_tests = 100\n",
    "    epsilon = 0.0001\n",
    "    X = [[-2, -1],\n",
    "         [-1, 3],\n",
    "         [2.5, -1.5],\n",
    "         [4, 2]]\n",
    "    for i in range(num_tests):\n",
    "        talpha = np.random.randn(len(X))\n",
    "        tx = np.random.randn(2)\n",
    "        ty = np.random.randn(1)\n",
    "        if np.linalg.norm(de_dalpha(talpha, X, kernel, tx, ty) - \n",
    "                          num_de_dalpha(talpha, X, kernel, tx, ty, epsilon)) > epsilon:\n",
    "            raise Exception(\"de_dalpha test failed!\")\n",
    "\n",
    "test_de_dalpha(k1)\n",
    "test_de_dalpha(k2)"
   ]
  },
  {
   "cell_type": "markdown",
   "metadata": {},
   "source": [
    "## 3. (2.5)\n",
    "\n",
    "### (a) (1.5)\n",
    "Implement batch gradient descent"
   ]
  },
  {
   "cell_type": "code",
   "execution_count": 6,
   "metadata": {},
   "outputs": [],
   "source": [
    "def evaluate_ksvm(alpha, X, kernel, X_test, Y_test):\n",
    "    result = 0\n",
    "    for i, x in enumerate(X_test):\n",
    "        result += loss_ksvm(alpha, X, kernel, x, Y_test[i])\n",
    "    return result\n",
    "\n",
    "def train_ksvm(X, Y, epochs, eta, alpha_ini, kernel):\n",
    "    losses = []\n",
    "    alpha = alpha_ini\n",
    "    for i in range(epochs):\n",
    "        ## Your code here\n",
    "        for i, x in enumerate(X):\n",
    "            y = Y[i]\n",
    "            alpha = alpha - eta*de_dalpha(alpha, X, kernel, x, y)\n",
    "        \n",
    "        losses.append(evaluate_ksvm(alpha, X, kernel, X, Y))\n",
    "    return alpha, losses"
   ]
  },
  {
   "cell_type": "markdown",
   "metadata": {},
   "source": [
    "Here we train the model using the kernel `k1`"
   ]
  },
  {
   "cell_type": "code",
   "execution_count": 7,
   "metadata": {},
   "outputs": [
    {
     "name": "stdout",
     "output_type": "stream",
     "text": [
      "[ 0.094  0.018 -0.109  0.012]\n",
      "3.674749999999973\n",
      "-1.637999999999992\n",
      "-7.8337500000000055\n",
      "6.091999999999927\n"
     ]
    },
    {
     "data": {
      "image/png": "[encoded data removed]",
      "text/plain": [
       "<Figure size 432x288 with 1 Axes>"
      ]
     },
     "metadata": {},
     "output_type": "display_data"
    }
   ],
   "source": [
    "X = [[-2, -1],\n",
    "     [-1, 3],\n",
    "     [2.5, -1.5],\n",
    "     [4, 2]]\n",
    "Y = [-1, 1, 1, -1]\n",
    "alpha, losses = train_ksvm(X, Y, 50, 0.001, [0.1, 0.0, -0.1, 0.0], k1)\n",
    "pl.plot(losses)\n",
    "print(alpha)\n",
    "for x in X:\n",
    "    print(predict_ksvm(alpha, X, k2, x))"
   ]
  },
  {
   "cell_type": "markdown",
   "metadata": {},
   "source": [
    "### (b) (0.5)\n",
    "**Does the learned model predict well the training samples? Why? Explain**\n",
    "\n",
    "*** No, because the kernel represents a lineal relation ***\n",
    "\n",
    "-----------\n",
    "Now we will train the model using the kernel `k2`"
   ]
  },
  {
   "cell_type": "code",
   "execution_count": 8,
   "metadata": {},
   "outputs": [
    {
     "name": "stdout",
     "output_type": "stream",
     "text": [
      "[ 0.008    0.256    0.22675 -0.257  ]\n",
      "-19.1118125\n",
      "36.82599999999999\n",
      "13.2821875\n",
      "-95.873\n"
     ]
    },
    {
     "data": {
      "image/png": "[encoded data removed]",
      "text/plain": [
       "<Figure size 432x288 with 1 Axes>"
      ]
     },
     "metadata": {},
     "output_type": "display_data"
    }
   ],
   "source": [
    "alpha, losses = train_ksvm(X, Y, 50, 0.001, [0.1, 0.0, -0.1, 0.0], k2)\n",
    "pl.plot(losses)\n",
    "print(alpha)\n",
    "for x in X:\n",
    "    print(predict_ksvm(alpha, X, k2, x))"
   ]
  },
  {
   "cell_type": "markdown",
   "metadata": {},
   "source": [
    "### (c) (0.5)\n",
    "**What does happen now? Are the results different from the previous experiment? Explain.**\n",
    "\n",
    "It predict well the training samples, because it uses a polinomial kernel."
   ]
  },
  {
   "cell_type": "markdown",
   "metadata": {
    "collapsed": true
   },
   "source": [
    "## 4. (1.0)\n",
    "Implement a regularized version of the model that penalizes the square of the norm of $w$:\n",
    "$$E(w, x, y) = \\max(0, 1 - y f_w(x)) + C||w||^2$$\n",
    "where $C$ is a parameter."
   ]
  },
  {
   "cell_type": "code",
   "execution_count": 9,
   "metadata": {},
   "outputs": [],
   "source": [
    "def rloss_ksvm(alpha, X, kernel, x, y, C):\n",
    "    result = 0\n",
    "    # put your code here\n",
    "    reg = C * np.dot(np.transpose(alpha), alpha) * kernel(np.transpose(X), X)\n",
    "    print(\"reg shape {}\".format(reg.shape))\n",
    "    result = loss_ksvm(alpha, X, kernel, x, y) + reg\n",
    "    return result\n",
    "\n",
    "def rde_dalpha(alpha, X, kernel, x, y, C):\n",
    "    delta = np.zeros(len(alpha))\n",
    "    # put your code here\n",
    "    for i in range(len(X)):\n",
    "        delta[i] = -y * kernel(X[i], x) + 2*C * np.sum(alpha) * kernel(X[i], x)\n",
    "    return delta\n",
    "\n",
    "def rtrain_ksvm(X, Y, epochs, eta, C, alpha_ini, kernel):\n",
    "    losses = []\n",
    "    alpha = alpha_ini\n",
    "    for i in range(epochs):\n",
    "        ## Your code here\n",
    "        for i, x in enumerate(X):\n",
    "            y = Y[i]\n",
    "            alpha = alpha - eta*rde_dalpha(alpha, X, kernel, x, y, C)\n",
    "        ##\n",
    "        losses.append(evaluate_ksvm(alpha, X, kernel, X, Y))\n",
    "    return alpha, losses"
   ]
  },
  {
   "cell_type": "markdown",
   "metadata": {},
   "source": [
    "Evaluate your model with different values of C and showing the loss vs epochs curves.\n",
    "\n",
    "**Note:** This question does not have validation code. It will not get partial credit."
   ]
  },
  {
   "cell_type": "code",
   "execution_count": 10,
   "metadata": {},
   "outputs": [
    {
     "name": "stdout",
     "output_type": "stream",
     "text": [
      "[ -5.4375   7.4      2.7    -22.45  ]\n",
      "-1997.3249999999973\n",
      "790.5499999999996\n",
      "-960.7093749999982\n",
      "-10101.487499999987\n",
      "[ -3.68928688  15.03741898   6.6610055  -18.61589963]\n",
      "-1599.0709132541954\n",
      "1891.7807981642188\n",
      "-71.9727897237317\n",
      "-7946.802851081411\n",
      "[ -2.45875576  20.52095226   5.60150806 -24.52341716]\n",
      "-2039.9025719571532\n",
      "2463.9787587432165\n",
      "-340.5755378983481\n",
      "-10470.801097777523\n",
      "[  1.03623887  19.13938931   1.07723979 -22.27722581]\n",
      "-1760.4179425264826\n",
      "2154.1517065738794\n",
      "-633.027052634684\n",
      "-9499.123382636159\n",
      "[  4.00667025  10.6467497   -2.73651275 -12.79808012]\n",
      "-909.5075653580221\n",
      "1074.5595341547244\n",
      "-657.7227248966608\n",
      "-5398.729110912946\n"
     ]
    },
    {
     "data": {
      "image/png": "[encoded data removed]",
      "text/plain": [
       "<Figure size 432x288 with 1 Axes>"
      ]
     },
     "metadata": {},
     "output_type": "display_data"
    }
   ],
   "source": [
    "C=0.5\n",
    "for C in range(5):\n",
    "    alpha, losses = rtrain_ksvm(X, Y, 50, 0.001, C, [0.1, 0.0, -0.1, 0.0], k2)\n",
    "    pl.plot(losses, label=C)\n",
    "    print(alpha)\n",
    "    for x in X:\n",
    "        print(predict_ksvm(alpha, X, k2, x))"
   ]
  },
  {
   "cell_type": "code",
   "execution_count": null,
   "metadata": {},
   "outputs": [],
   "source": []
  }
 ],
 "metadata": {
  "kernelspec": {
   "display_name": "Python 3",
   "language": "python",
   "name": "python3"
  },
  "language_info": {
   "codemirror_mode": {
    "name": "ipython",
    "version": 3
   },
   "file_extension": ".py",
   "mimetype": "text/x-python",
   "name": "python",
   "nbconvert_exporter": "python",
   "pygments_lexer": "ipython3",
   "version": "3.6.6"
  }
 },
 "nbformat": 4,
 "nbformat_minor": 1
}
