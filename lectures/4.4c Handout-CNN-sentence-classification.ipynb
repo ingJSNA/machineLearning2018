{
 "cells": [
  {
   "cell_type": "markdown",
   "metadata": {},
   "source": [
    "# CNN for text classification handout\n",
    "## [COSC 7336 Advanced Natural Language Processing](https://fagonzalezo.github.io/dl-tau-2017-2/)"
   ]
  },
  {
   "cell_type": "code",
   "execution_count": 1,
   "metadata": {},
   "outputs": [
    {
     "name": "stderr",
     "output_type": "stream",
     "text": [
      "/home/juan/Programas/Miniconda3/envs/ml/lib/python3.6/site-packages/h5py/__init__.py:36: FutureWarning: Conversion of the second argument of issubdtype from `float` to `np.floating` is deprecated. In future, it will be treated as `np.float64 == np.dtype(float).type`.\n",
      "  from ._conv import register_converters as _register_converters\n",
      "Using TensorFlow backend.\n"
     ]
    }
   ],
   "source": [
    "import numpy as np\n",
    "import pylab as pl\n",
    "from IPython.display import SVG\n",
    "from os.path import join, exists, split\n",
    "import os\n",
    "\n",
    "from gensim.models import word2vec, KeyedVectors\n",
    "\n",
    "\n",
    "from keras.models import Sequential, Model\n",
    "from keras.layers import Dense, Dropout, Flatten, Input, MaxPooling1D, Convolution1D, Embedding, GlobalMaxPooling1D\n",
    "from keras.layers.merge import Concatenate\n",
    "from keras.datasets import imdb\n",
    "from keras.preprocessing import sequence\n",
    "from keras.utils.vis_utils import model_to_dot\n",
    "\n",
    "%matplotlib inline"
   ]
  },
  {
   "cell_type": "markdown",
   "metadata": {},
   "source": [
    "We will build the model presented in [Kim2014] using Keras. The code is based on the code from Alexander Rakhlin (https://github.com/alexander-rakhlin/CNN-for-Sentence-Classification-in-Keras). \n",
    "\n",
    "The model is depicted in the next figure:\n",
    "\n",
    "[Kim2014] Kim, Y. (2014). [Convolutional neural networks for sentence classification](https://arxiv.org/abs/1408.5882). arXiv preprint arXiv:1408.5882\n",
    "\n",
    "![CNN model](kim2014cnn.jpg \"cnn model\")\n",
    "\n",
    "First we define some general parameters"
   ]
  },
  {
   "cell_type": "code",
   "execution_count": 2,
   "metadata": {},
   "outputs": [],
   "source": [
    "# Model Hyperparameters\n",
    "embedding_dim = 300\n",
    "filter_sizes = (3, 4, 5 )\n",
    "num_filters = 100\n",
    "dropout_prob = (0.0, 0.5)\n",
    "\n",
    "# Training parameters\n",
    "batch_size = 64\n",
    "num_epochs = 10\n",
    "\n",
    "# Prepossessing parameters\n",
    "sequence_length = 20\n",
    "max_words = 5000\n",
    "\n",
    "# Word2Vec parameters \n",
    "min_word_count = 1\n",
    "context = 10"
   ]
  },
  {
   "cell_type": "markdown",
   "metadata": {},
   "source": [
    "We will use the the IMDB dataset provided by Keras. However, we will use only 1500 samples for training and 10000 for testing. "
   ]
  },
  {
   "cell_type": "code",
   "execution_count": 3,
   "metadata": {},
   "outputs": [
    {
     "name": "stdout",
     "output_type": "stream",
     "text": [
      "Downloading data from https://s3.amazonaws.com/text-datasets/imdb.npz\n",
      "17465344/17464789 [==============================] - 17s 1us/step\n",
      "Downloading data from https://s3.amazonaws.com/text-datasets/imdb_word_index.json\n",
      "1646592/1641221 [==============================] - 4s 3us/step\n",
      "x_train shape: (1500, 20)\n",
      "x_test shape: (10000, 20)\n",
      "Vocabulary Size: 88585\n"
     ]
    }
   ],
   "source": [
    "(x_train, y_train), (x_test, y_test) = imdb.load_data(num_words=max_words, start_char=None,\n",
    "                                                      oov_char=None, index_from=None)\n",
    "x_train = x_train[:1500]\n",
    "y_train = y_train[:1500]\n",
    "x_test = x_test[:10000]\n",
    "y_test = y_test[:10000]\n",
    "\n",
    "x_train = sequence.pad_sequences(x_train, maxlen=sequence_length, padding=\"post\", truncating=\"post\")\n",
    "x_test = sequence.pad_sequences(x_test, maxlen=sequence_length, padding=\"post\", truncating=\"post\")\n",
    "\n",
    "vocabulary = imdb.get_word_index()\n",
    "vocabulary_inv = dict((v, k) for k, v in vocabulary.items())\n",
    "vocabulary_inv[0] = \"<PAD/>\"\n",
    "\n",
    "print(\"x_train shape:\", x_train.shape)\n",
    "print(\"x_test shape:\", x_test.shape)\n",
    "print(\"Vocabulary Size: {:d}\".format(len(vocabulary_inv)))\n"
   ]
  },
  {
   "cell_type": "markdown",
   "metadata": {},
   "source": [
    "As described in the paper, one of the models uses a pretrained word2vec model to initialize the weights of the embedding layer. The pretrained model can be obtained from: https://drive.google.com/file/d/0B7XkCwpI5KDYNlNUTTlSS21pQmM/edit?usp=sharing"
   ]
  },
  {
   "cell_type": "code",
   "execution_count": 6,
   "metadata": {},
   "outputs": [],
   "source": [
    "embedding_model = KeyedVectors.load_word2vec_format('GoogleNews-vectors-negative300.bin', binary=True)\n",
    "embedding_weights = {key: embedding_model[word] if word in embedding_model else\n",
    "                          np.random.uniform(-0.25, 0.25, embedding_model.vector_size)\n",
    "                     for key, word in vocabulary_inv.items()}"
   ]
  },
  {
   "cell_type": "markdown",
   "metadata": {},
   "source": [
    "## CNN-rand \n",
    "\n",
    "The first model we will try is where all words are randomly initialized and then modified during training."
   ]
  },
  {
   "cell_type": "code",
   "execution_count": 7,
   "metadata": {},
   "outputs": [
    {
     "name": "stdout",
     "output_type": "stream",
     "text": [
      "WARNING:tensorflow:From /home/juan/Programas/Miniconda3/envs/ml/lib/python3.6/site-packages/tensorflow/python/util/deprecation.py:497: calling conv1d (from tensorflow.python.ops.nn_ops) with data_format=NHWC is deprecated and will be removed in a future version.\n",
      "Instructions for updating:\n",
      "`NHWC` for data_format is deprecated, use `NWC` instead\n"
     ]
    }
   ],
   "source": [
    "# Input layer\n",
    "input_shape = (sequence_length,)\n",
    "model_input = Input(shape=input_shape)\n",
    "\n",
    "# Embedding layer\n",
    "embedding_layer = Embedding(len(vocabulary_inv), embedding_dim, input_length=sequence_length, name=\"embedding\")\n",
    "z = embedding_layer(model_input)\n",
    "\n",
    "# Convolutional block\n",
    "conv_blocks = []\n",
    "for sz in filter_sizes:\n",
    "    conv = Convolution1D(filters=num_filters,\n",
    "                         kernel_size=sz,\n",
    "                         padding=\"valid\",\n",
    "                         activation=\"relu\",\n",
    "                         strides=1)(z)\n",
    "    conv = GlobalMaxPooling1D()(conv)\n",
    "    conv_blocks.append(conv)\n",
    "z = Concatenate()(conv_blocks) if len(conv_blocks) > 1 else conv_blocks[0]\n",
    "\n",
    "# Dropout \n",
    "z = Dropout(dropout_prob[1])(z)\n",
    "\n",
    "# Output layer\n",
    "model_output = Dense(1, activation=\"sigmoid\")(z)\n",
    "\n",
    "# Model compilation\n",
    "model_rand = Model(model_input, model_output)\n",
    "model_rand.compile(loss=\"binary_crossentropy\", optimizer=\"adam\", metrics=[\"accuracy\"])"
   ]
  },
  {
   "cell_type": "markdown",
   "metadata": {},
   "source": [
    "We can visualize the structure of the model:"
   ]
  },
  {
   "cell_type": "code",
   "execution_count": 12,
   "metadata": {},
   "outputs": [
    {
     "name": "stdout",
     "output_type": "stream",
     "text": [
      "_____________________________________________________________________________________\n",
      "Layer (type)                Output Shape      Param #   Connected to                 \n",
      "=====================================================================================\n",
      "input_1 (InputLayer)        (None, 20)        0                                      \n",
      "_____________________________________________________________________________________\n",
      "embedding (Embedding)       (None, 20, 300)   26575500  input_1[0][0]                \n",
      "_____________________________________________________________________________________\n",
      "conv1d_1 (Conv1D)           (None, 18, 100)   90100     embedding[0][0]              \n",
      "_____________________________________________________________________________________\n",
      "conv1d_2 (Conv1D)           (None, 17, 100)   120100    embedding[0][0]              \n",
      "_____________________________________________________________________________________\n",
      "conv1d_3 (Conv1D)           (None, 16, 100)   150100    embedding[0][0]              \n",
      "_____________________________________________________________________________________\n",
      "global_max_pooling1d_1 (Glo (None, 100)       0         conv1d_1[0][0]               \n",
      "_____________________________________________________________________________________\n",
      "global_max_pooling1d_2 (Glo (None, 100)       0         conv1d_2[0][0]               \n",
      "_____________________________________________________________________________________\n",
      "global_max_pooling1d_3 (Glo (None, 100)       0         conv1d_3[0][0]               \n",
      "_____________________________________________________________________________________\n",
      "concatenate_1 (Concatenate) (None, 300)       0         global_max_pooling1d_1[0][0] \n",
      "                                                        global_max_pooling1d_2[0][0] \n",
      "                                                        global_max_pooling1d_3[0][0] \n",
      "_____________________________________________________________________________________\n",
      "dropout_1 (Dropout)         (None, 300)       0         concatenate_1[0][0]          \n",
      "_____________________________________________________________________________________\n",
      "dense_1 (Dense)             (None, 1)         301       dropout_1[0][0]              \n",
      "=====================================================================================\n",
      "Total params: 26,936,101\n",
      "Trainable params: 26,936,101\n",
      "Non-trainable params: 0\n",
      "_____________________________________________________________________________________\n"
     ]
    },
    {
     "ename": "ImportError",
     "evalue": "Failed to import pydot. You must install pydot and graphviz for `pydotprint` to work.",
     "output_type": "error",
     "traceback": [
      "\u001b[0;31m---------------------------------------------------------------------------\u001b[0m",
      "\u001b[0;31mAttributeError\u001b[0m                            Traceback (most recent call last)",
      "\u001b[0;32m~/Programas/Miniconda3/envs/ml/lib/python3.6/site-packages/keras/utils/vis_utils.py\u001b[0m in \u001b[0;36m_check_pydot\u001b[0;34m()\u001b[0m\n\u001b[1;32m     26\u001b[0m         \u001b[0;31m# to check the pydot/graphviz installation.\u001b[0m\u001b[0;34m\u001b[0m\u001b[0;34m\u001b[0m\u001b[0m\n\u001b[0;32m---> 27\u001b[0;31m         \u001b[0mpydot\u001b[0m\u001b[0;34m.\u001b[0m\u001b[0mDot\u001b[0m\u001b[0;34m.\u001b[0m\u001b[0mcreate\u001b[0m\u001b[0;34m(\u001b[0m\u001b[0mpydot\u001b[0m\u001b[0;34m.\u001b[0m\u001b[0mDot\u001b[0m\u001b[0;34m(\u001b[0m\u001b[0;34m)\u001b[0m\u001b[0;34m)\u001b[0m\u001b[0;34m\u001b[0m\u001b[0m\n\u001b[0m\u001b[1;32m     28\u001b[0m     \u001b[0;32mexcept\u001b[0m \u001b[0mException\u001b[0m\u001b[0;34m:\u001b[0m\u001b[0;34m\u001b[0m\u001b[0m\n",
      "\u001b[0;31mAttributeError\u001b[0m: 'NoneType' object has no attribute 'Dot'",
      "\nDuring handling of the above exception, another exception occurred:\n",
      "\u001b[0;31mImportError\u001b[0m                               Traceback (most recent call last)",
      "\u001b[0;32m<ipython-input-12-8621e54d473a>\u001b[0m in \u001b[0;36m<module>\u001b[0;34m()\u001b[0m\n\u001b[1;32m      1\u001b[0m \u001b[0mmodel_rand\u001b[0m\u001b[0;34m.\u001b[0m\u001b[0msummary\u001b[0m\u001b[0;34m(\u001b[0m\u001b[0;36m85\u001b[0m\u001b[0;34m)\u001b[0m\u001b[0;34m\u001b[0m\u001b[0m\n\u001b[0;32m----> 2\u001b[0;31m \u001b[0mSVG\u001b[0m\u001b[0;34m(\u001b[0m\u001b[0mmodel_to_dot\u001b[0m\u001b[0;34m(\u001b[0m\u001b[0mmodel_rand\u001b[0m\u001b[0;34m,\u001b[0m \u001b[0mshow_shapes\u001b[0m\u001b[0;34m=\u001b[0m\u001b[0;32mTrue\u001b[0m\u001b[0;34m)\u001b[0m\u001b[0;34m.\u001b[0m\u001b[0mcreate\u001b[0m\u001b[0;34m(\u001b[0m\u001b[0mprog\u001b[0m\u001b[0;34m=\u001b[0m\u001b[0;34m'dot'\u001b[0m\u001b[0;34m,\u001b[0m \u001b[0mformat\u001b[0m\u001b[0;34m=\u001b[0m\u001b[0;34m'svg'\u001b[0m\u001b[0;34m)\u001b[0m\u001b[0;34m)\u001b[0m\u001b[0;34m\u001b[0m\u001b[0m\n\u001b[0m",
      "\u001b[0;32m~/Programas/Miniconda3/envs/ml/lib/python3.6/site-packages/keras/utils/vis_utils.py\u001b[0m in \u001b[0;36mmodel_to_dot\u001b[0;34m(model, show_shapes, show_layer_names, rankdir)\u001b[0m\n\u001b[1;32m     54\u001b[0m     \u001b[0;32mfrom\u001b[0m \u001b[0;34m.\u001b[0m\u001b[0;34m.\u001b[0m\u001b[0mmodels\u001b[0m \u001b[0;32mimport\u001b[0m \u001b[0mSequential\u001b[0m\u001b[0;34m\u001b[0m\u001b[0m\n\u001b[1;32m     55\u001b[0m \u001b[0;34m\u001b[0m\u001b[0m\n\u001b[0;32m---> 56\u001b[0;31m     \u001b[0m_check_pydot\u001b[0m\u001b[0;34m(\u001b[0m\u001b[0;34m)\u001b[0m\u001b[0;34m\u001b[0m\u001b[0m\n\u001b[0m\u001b[1;32m     57\u001b[0m     \u001b[0mdot\u001b[0m \u001b[0;34m=\u001b[0m \u001b[0mpydot\u001b[0m\u001b[0;34m.\u001b[0m\u001b[0mDot\u001b[0m\u001b[0;34m(\u001b[0m\u001b[0;34m)\u001b[0m\u001b[0;34m\u001b[0m\u001b[0m\n\u001b[1;32m     58\u001b[0m     \u001b[0mdot\u001b[0m\u001b[0;34m.\u001b[0m\u001b[0mset\u001b[0m\u001b[0;34m(\u001b[0m\u001b[0;34m'rankdir'\u001b[0m\u001b[0;34m,\u001b[0m \u001b[0mrankdir\u001b[0m\u001b[0;34m)\u001b[0m\u001b[0;34m\u001b[0m\u001b[0m\n",
      "\u001b[0;32m~/Programas/Miniconda3/envs/ml/lib/python3.6/site-packages/keras/utils/vis_utils.py\u001b[0m in \u001b[0;36m_check_pydot\u001b[0;34m()\u001b[0m\n\u001b[1;32m     29\u001b[0m         \u001b[0;31m# pydot raises a generic Exception here,\u001b[0m\u001b[0;34m\u001b[0m\u001b[0;34m\u001b[0m\u001b[0m\n\u001b[1;32m     30\u001b[0m         \u001b[0;31m# so no specific class can be caught.\u001b[0m\u001b[0;34m\u001b[0m\u001b[0;34m\u001b[0m\u001b[0m\n\u001b[0;32m---> 31\u001b[0;31m         raise ImportError('Failed to import pydot. You must install pydot'\n\u001b[0m\u001b[1;32m     32\u001b[0m                           ' and graphviz for `pydotprint` to work.')\n\u001b[1;32m     33\u001b[0m \u001b[0;34m\u001b[0m\u001b[0m\n",
      "\u001b[0;31mImportError\u001b[0m: Failed to import pydot. You must install pydot and graphviz for `pydotprint` to work."
     ]
    }
   ],
   "source": [
    "model_rand.summary(85)\n",
    "SVG(model_to_dot(model_rand, show_shapes=True).create(prog='dot', format='svg'))"
   ]
  },
  {
   "cell_type": "markdown",
   "metadata": {},
   "source": [
    "Now we are ready to train the model:"
   ]
  },
  {
   "cell_type": "code",
   "execution_count": 13,
   "metadata": {},
   "outputs": [
    {
     "name": "stdout",
     "output_type": "stream",
     "text": [
      "Train on 1500 samples, validate on 10000 samples\n",
      "Epoch 1/10\n",
      " - 15s - loss: 0.6910 - acc: 0.5447 - val_loss: 0.6853 - val_acc: 0.5886\n",
      "Epoch 2/10\n",
      " - 13s - loss: 0.6247 - acc: 0.7980 - val_loss: 0.6714 - val_acc: 0.6093\n",
      "Epoch 3/10\n",
      " - 14s - loss: 0.5457 - acc: 0.8600 - val_loss: 0.6494 - val_acc: 0.6166\n",
      "Epoch 4/10\n",
      " - 14s - loss: 0.4193 - acc: 0.9153 - val_loss: 0.6256 - val_acc: 0.6376\n",
      "Epoch 5/10\n",
      " - 13s - loss: 0.2749 - acc: 0.9487 - val_loss: 0.6487 - val_acc: 0.6352\n",
      "Epoch 6/10\n",
      " - 14s - loss: 0.1524 - acc: 0.9800 - val_loss: 0.7195 - val_acc: 0.6373\n",
      "Epoch 7/10\n",
      " - 13s - loss: 0.0734 - acc: 0.9967 - val_loss: 0.8350 - val_acc: 0.6308\n",
      "Epoch 8/10\n",
      " - 13s - loss: 0.0365 - acc: 0.9987 - val_loss: 0.9415 - val_acc: 0.6275\n",
      "Epoch 9/10\n",
      " - 13s - loss: 0.0203 - acc: 1.0000 - val_loss: 1.0395 - val_acc: 0.6260\n",
      "Epoch 10/10\n",
      " - 13s - loss: 0.0129 - acc: 1.0000 - val_loss: 1.1186 - val_acc: 0.6242\n"
     ]
    }
   ],
   "source": [
    "num_epochs = 10\n",
    "history_rand = model_rand.fit(x_train, y_train, batch_size=batch_size, epochs=num_epochs,\n",
    "          validation_data=(x_test, y_test), verbose=2)"
   ]
  },
  {
   "cell_type": "markdown",
   "metadata": {},
   "source": [
    "We can visualize the evolution of loss and accuracy for both the training and validation sets:"
   ]
  },
  {
   "cell_type": "code",
   "execution_count": 14,
   "metadata": {},
   "outputs": [
    {
     "data": {
      "text/plain": [
       "Text(0,0.5,'Loss')"
      ]
     },
     "execution_count": 14,
     "metadata": {},
     "output_type": "execute_result"
    },
    {
     "data": {
      "image/png": "[encoded data removed]",
      "text/plain": [
       "<Figure size 432x288 with 1 Axes>"
      ]
     },
     "metadata": {},
     "output_type": "display_data"
    }
   ],
   "source": [
    "pl.plot(history_rand.history['loss'], label='loss')\n",
    "pl.plot(history_rand.history['val_loss'], label='val_loss')\n",
    "pl.legend()\n",
    "pl.xlabel('Epoch')\n",
    "pl.ylabel('Loss')"
   ]
  },
  {
   "cell_type": "code",
   "execution_count": 15,
   "metadata": {},
   "outputs": [
    {
     "data": {
      "text/plain": [
       "Text(0,0.5,'Accuracy')"
      ]
     },
     "execution_count": 15,
     "metadata": {},
     "output_type": "execute_result"
    },
    {
     "data": {
      "image/png": "[encoded data removed]",
      "text/plain": [
       "<Figure size 432x288 with 1 Axes>"
      ]
     },
     "metadata": {},
     "output_type": "display_data"
    }
   ],
   "source": [
    "pl.plot(history_rand.history['acc'], label='acc')\n",
    "pl.plot(history_rand.history['val_acc'], label='val_acc')\n",
    "pl.legend()\n",
    "pl.xlabel('Epoch')\n",
    "pl.ylabel('Accuracy')"
   ]
  },
  {
   "cell_type": "markdown",
   "metadata": {},
   "source": [
    "## CNN-static\n",
    "\n",
    "This model uses word2vec vectors to initialize the embedding. The weights of the embedding are kept fixed so they are not modified by training."
   ]
  },
  {
   "cell_type": "code",
   "execution_count": 16,
   "metadata": {},
   "outputs": [
    {
     "name": "stdout",
     "output_type": "stream",
     "text": [
      "Initializing embedding layer with word2vec weights, shape (88585, 300)\n"
     ]
    }
   ],
   "source": [
    "# Input layer\n",
    "input_shape = (sequence_length,)\n",
    "model_input = Input(shape=input_shape)\n",
    "\n",
    "# Embedding layer\n",
    "embedding_layer = Embedding(len(vocabulary_inv), embedding_dim, input_length=sequence_length, name=\"embedding\")\n",
    "z = embedding_layer(model_input)\n",
    "weights = np.array([embedding_weights[i] for i in range(len(embedding_weights))])\n",
    "print(\"Initializing embedding layer with word2vec weights, shape\", weights.shape)\n",
    "embedding_layer.set_weights([weights])\n",
    "\n",
    "# Weights is embedding layer are not modified during training\n",
    "embedding_layer.trainable = False\n",
    "\n",
    "# Convolutional block\n",
    "conv_blocks = []\n",
    "for sz in filter_sizes:\n",
    "    conv = Convolution1D(filters=num_filters,\n",
    "                         kernel_size=sz,\n",
    "                         padding=\"valid\",\n",
    "                         activation=\"relu\",\n",
    "                         strides=1)(z)\n",
    "    conv = GlobalMaxPooling1D()(conv)\n",
    "    conv_blocks.append(conv)\n",
    "z = Concatenate()(conv_blocks) if len(conv_blocks) > 1 else conv_blocks[0]\n",
    "\n",
    "# Dropout \n",
    "z = Dropout(dropout_prob[1])(z)\n",
    "\n",
    "# Output layer\n",
    "model_output = Dense(1, activation=\"sigmoid\")(z)\n",
    "\n",
    "# Model compilation\n",
    "model_static = Model(model_input, model_output)\n",
    "model_static.compile(loss=\"binary_crossentropy\", optimizer=\"adam\", metrics=[\"accuracy\"])"
   ]
  },
  {
   "cell_type": "code",
   "execution_count": 17,
   "metadata": {
    "scrolled": true
   },
   "outputs": [
    {
     "name": "stdout",
     "output_type": "stream",
     "text": [
      "_____________________________________________________________________________________\n",
      "Layer (type)                Output Shape      Param #   Connected to                 \n",
      "=====================================================================================\n",
      "input_2 (InputLayer)        (None, 20)        0                                      \n",
      "_____________________________________________________________________________________\n",
      "embedding (Embedding)       (None, 20, 300)   26575500  input_2[0][0]                \n",
      "_____________________________________________________________________________________\n",
      "conv1d_4 (Conv1D)           (None, 18, 100)   90100     embedding[0][0]              \n",
      "_____________________________________________________________________________________\n",
      "conv1d_5 (Conv1D)           (None, 17, 100)   120100    embedding[0][0]              \n",
      "_____________________________________________________________________________________\n",
      "conv1d_6 (Conv1D)           (None, 16, 100)   150100    embedding[0][0]              \n",
      "_____________________________________________________________________________________\n",
      "global_max_pooling1d_4 (Glo (None, 100)       0         conv1d_4[0][0]               \n",
      "_____________________________________________________________________________________\n",
      "global_max_pooling1d_5 (Glo (None, 100)       0         conv1d_5[0][0]               \n",
      "_____________________________________________________________________________________\n",
      "global_max_pooling1d_6 (Glo (None, 100)       0         conv1d_6[0][0]               \n",
      "_____________________________________________________________________________________\n",
      "concatenate_2 (Concatenate) (None, 300)       0         global_max_pooling1d_4[0][0] \n",
      "                                                        global_max_pooling1d_5[0][0] \n",
      "                                                        global_max_pooling1d_6[0][0] \n",
      "_____________________________________________________________________________________\n",
      "dropout_2 (Dropout)         (None, 300)       0         concatenate_2[0][0]          \n",
      "_____________________________________________________________________________________\n",
      "dense_2 (Dense)             (None, 1)         301       dropout_2[0][0]              \n",
      "=====================================================================================\n",
      "Total params: 26,936,101\n",
      "Trainable params: 360,601\n",
      "Non-trainable params: 26,575,500\n",
      "_____________________________________________________________________________________\n"
     ]
    }
   ],
   "source": [
    "model_static.summary(85)"
   ]
  },
  {
   "cell_type": "code",
   "execution_count": 18,
   "metadata": {},
   "outputs": [
    {
     "name": "stdout",
     "output_type": "stream",
     "text": [
      "Train on 1500 samples, validate on 10000 samples\n",
      "Epoch 1/10\n",
      " - 6s - loss: 0.6926 - acc: 0.5547 - val_loss: 0.6576 - val_acc: 0.6043\n",
      "Epoch 2/10\n",
      " - 6s - loss: 0.5822 - acc: 0.7067 - val_loss: 0.6412 - val_acc: 0.6334\n",
      "Epoch 3/10\n",
      " - 7s - loss: 0.4989 - acc: 0.8033 - val_loss: 0.6248 - val_acc: 0.6491\n",
      "Epoch 4/10\n",
      " - 7s - loss: 0.4387 - acc: 0.8467 - val_loss: 0.6108 - val_acc: 0.6591\n",
      "Epoch 5/10\n",
      " - 6s - loss: 0.3816 - acc: 0.8907 - val_loss: 0.6037 - val_acc: 0.6643\n",
      "Epoch 6/10\n",
      " - 6s - loss: 0.3279 - acc: 0.9247 - val_loss: 0.6010 - val_acc: 0.6644\n",
      "Epoch 7/10\n",
      " - 6s - loss: 0.2802 - acc: 0.9400 - val_loss: 0.5980 - val_acc: 0.6656\n",
      "Epoch 8/10\n",
      " - 6s - loss: 0.2241 - acc: 0.9733 - val_loss: 0.6075 - val_acc: 0.6625\n",
      "Epoch 9/10\n",
      " - 6s - loss: 0.1969 - acc: 0.9673 - val_loss: 0.6026 - val_acc: 0.6706\n",
      "Epoch 10/10\n",
      " - 6s - loss: 0.1629 - acc: 0.9833 - val_loss: 0.6199 - val_acc: 0.6635\n"
     ]
    }
   ],
   "source": [
    "num_epochs = 10\n",
    "history_static = model_static.fit(x_train, y_train, batch_size=batch_size, epochs=num_epochs,\n",
    "          validation_data=(x_test, y_test), verbose=2)"
   ]
  },
  {
   "cell_type": "code",
   "execution_count": 19,
   "metadata": {},
   "outputs": [
    {
     "data": {
      "text/plain": [
       "Text(0,0.5,'Loss')"
      ]
     },
     "execution_count": 19,
     "metadata": {},
     "output_type": "execute_result"
    },
    {
     "data": {
      "image/png": "[encoded data removed]",
      "text/plain": [
       "<Figure size 432x288 with 1 Axes>"
      ]
     },
     "metadata": {},
     "output_type": "display_data"
    }
   ],
   "source": [
    "pl.plot(history_static.history['loss'], label='loss')\n",
    "pl.plot(history_static.history['val_loss'], label='val_loss')\n",
    "pl.legend()\n",
    "pl.xlabel('Epoch')\n",
    "pl.ylabel('Loss')"
   ]
  },
  {
   "cell_type": "code",
   "execution_count": 20,
   "metadata": {
    "scrolled": true
   },
   "outputs": [
    {
     "data": {
      "text/plain": [
       "Text(0,0.5,'Accuracy')"
      ]
     },
     "execution_count": 20,
     "metadata": {},
     "output_type": "execute_result"
    },
    {
     "data": {
      "image/png": "[encoded data removed]",
      "text/plain": [
       "<Figure size 432x288 with 1 Axes>"
      ]
     },
     "metadata": {},
     "output_type": "display_data"
    }
   ],
   "source": [
    "pl.plot(history_static.history['acc'], label='acc')\n",
    "pl.plot(history_static.history['val_acc'], label='val_acc')\n",
    "pl.legend()\n",
    "pl.xlabel('Epoch')\n",
    "pl.ylabel('Accuracy')"
   ]
  },
  {
   "cell_type": "markdown",
   "metadata": {},
   "source": [
    "## CNN-non-static\n",
    "\n",
    "This model is same as the previous one, but the embedding weights are allowed to change during training."
   ]
  },
  {
   "cell_type": "code",
   "execution_count": 21,
   "metadata": {},
   "outputs": [
    {
     "name": "stdout",
     "output_type": "stream",
     "text": [
      "Initializing embedding layer with word2vec weights, shape (88585, 300)\n"
     ]
    }
   ],
   "source": [
    "# Input layer\n",
    "input_shape = (sequence_length,)\n",
    "model_input = Input(shape=input_shape)\n",
    "\n",
    "# Embedding layer\n",
    "embedding_layer = Embedding(len(vocabulary_inv), embedding_dim, input_length=sequence_length, name=\"embedding\")\n",
    "z = embedding_layer(model_input)\n",
    "weights = np.array([embedding_weights[i] for i in range(len(embedding_weights))])\n",
    "print(\"Initializing embedding layer with word2vec weights, shape\", weights.shape)\n",
    "embedding_layer.set_weights([weights])\n",
    "\n",
    "# Weights is embedding layer are not modified during training\n",
    "embedding_layer.trainable = True\n",
    "\n",
    "# Convolutional block\n",
    "conv_blocks = []\n",
    "for sz in filter_sizes:\n",
    "    conv = Convolution1D(filters=num_filters,\n",
    "                         kernel_size=sz,\n",
    "                         padding=\"valid\",\n",
    "                         activation=\"relu\",\n",
    "                         strides=1)(z)\n",
    "    conv = GlobalMaxPooling1D()(conv)\n",
    "    conv_blocks.append(conv)\n",
    "z = Concatenate()(conv_blocks) if len(conv_blocks) > 1 else conv_blocks[0]\n",
    "\n",
    "# Dropout \n",
    "z = Dropout(dropout_prob[1])(z)\n",
    "\n",
    "# Output layer\n",
    "model_output = Dense(1, activation=\"sigmoid\")(z)\n",
    "\n",
    "# Model compilation\n",
    "model_non_static = Model(model_input, model_output)\n",
    "model_non_static.compile(loss=\"binary_crossentropy\", optimizer=\"adam\", metrics=[\"accuracy\"])"
   ]
  },
  {
   "cell_type": "code",
   "execution_count": 22,
   "metadata": {},
   "outputs": [
    {
     "name": "stdout",
     "output_type": "stream",
     "text": [
      "Train on 1500 samples, validate on 10000 samples\n",
      "Epoch 1/10\n",
      " - 14s - loss: 0.7180 - acc: 0.5153 - val_loss: 0.6681 - val_acc: 0.5872\n",
      "Epoch 2/10\n",
      " - 14s - loss: 0.5607 - acc: 0.7200 - val_loss: 0.6312 - val_acc: 0.6479\n",
      "Epoch 3/10\n",
      " - 13s - loss: 0.4508 - acc: 0.8513 - val_loss: 0.6109 - val_acc: 0.6622\n",
      "Epoch 4/10\n"
     ]
    },
    {
     "ename": "KeyboardInterrupt",
     "evalue": "",
     "output_type": "error",
     "traceback": [
      "\u001b[0;31m---------------------------------------------------------------------------\u001b[0m",
      "\u001b[0;31mKeyboardInterrupt\u001b[0m                         Traceback (most recent call last)",
      "\u001b[0;32m<ipython-input-22-2a51e4b0a3ec>\u001b[0m in \u001b[0;36m<module>\u001b[0;34m()\u001b[0m\n\u001b[1;32m      1\u001b[0m \u001b[0mnum_epochs\u001b[0m \u001b[0;34m=\u001b[0m \u001b[0;36m10\u001b[0m\u001b[0;34m\u001b[0m\u001b[0m\n\u001b[1;32m      2\u001b[0m history_non_static = model_non_static.fit(x_train, y_train, batch_size=batch_size, epochs=num_epochs,\n\u001b[0;32m----> 3\u001b[0;31m           validation_data=(x_test, y_test), verbose=2)\n\u001b[0m",
      "\u001b[0;32m~/Programas/Miniconda3/envs/ml/lib/python3.6/site-packages/keras/engine/training.py\u001b[0m in \u001b[0;36mfit\u001b[0;34m(self, x, y, batch_size, epochs, verbose, callbacks, validation_split, validation_data, shuffle, class_weight, sample_weight, initial_epoch, steps_per_epoch, validation_steps, **kwargs)\u001b[0m\n\u001b[1;32m   1703\u001b[0m                               \u001b[0minitial_epoch\u001b[0m\u001b[0;34m=\u001b[0m\u001b[0minitial_epoch\u001b[0m\u001b[0;34m,\u001b[0m\u001b[0;34m\u001b[0m\u001b[0m\n\u001b[1;32m   1704\u001b[0m                               \u001b[0msteps_per_epoch\u001b[0m\u001b[0;34m=\u001b[0m\u001b[0msteps_per_epoch\u001b[0m\u001b[0;34m,\u001b[0m\u001b[0;34m\u001b[0m\u001b[0m\n\u001b[0;32m-> 1705\u001b[0;31m                               validation_steps=validation_steps)\n\u001b[0m\u001b[1;32m   1706\u001b[0m \u001b[0;34m\u001b[0m\u001b[0m\n\u001b[1;32m   1707\u001b[0m     def evaluate(self, x=None, y=None,\n",
      "\u001b[0;32m~/Programas/Miniconda3/envs/ml/lib/python3.6/site-packages/keras/engine/training.py\u001b[0m in \u001b[0;36m_fit_loop\u001b[0;34m(self, f, ins, out_labels, batch_size, epochs, verbose, callbacks, val_f, val_ins, shuffle, callback_metrics, initial_epoch, steps_per_epoch, validation_steps)\u001b[0m\n\u001b[1;32m   1233\u001b[0m                         \u001b[0mins_batch\u001b[0m\u001b[0;34m[\u001b[0m\u001b[0mi\u001b[0m\u001b[0;34m]\u001b[0m \u001b[0;34m=\u001b[0m \u001b[0mins_batch\u001b[0m\u001b[0;34m[\u001b[0m\u001b[0mi\u001b[0m\u001b[0;34m]\u001b[0m\u001b[0;34m.\u001b[0m\u001b[0mtoarray\u001b[0m\u001b[0;34m(\u001b[0m\u001b[0;34m)\u001b[0m\u001b[0;34m\u001b[0m\u001b[0m\n\u001b[1;32m   1234\u001b[0m \u001b[0;34m\u001b[0m\u001b[0m\n\u001b[0;32m-> 1235\u001b[0;31m                     \u001b[0mouts\u001b[0m \u001b[0;34m=\u001b[0m \u001b[0mf\u001b[0m\u001b[0;34m(\u001b[0m\u001b[0mins_batch\u001b[0m\u001b[0;34m)\u001b[0m\u001b[0;34m\u001b[0m\u001b[0m\n\u001b[0m\u001b[1;32m   1236\u001b[0m                     \u001b[0;32mif\u001b[0m \u001b[0;32mnot\u001b[0m \u001b[0misinstance\u001b[0m\u001b[0;34m(\u001b[0m\u001b[0mouts\u001b[0m\u001b[0;34m,\u001b[0m \u001b[0mlist\u001b[0m\u001b[0;34m)\u001b[0m\u001b[0;34m:\u001b[0m\u001b[0;34m\u001b[0m\u001b[0m\n\u001b[1;32m   1237\u001b[0m                         \u001b[0mouts\u001b[0m \u001b[0;34m=\u001b[0m \u001b[0;34m[\u001b[0m\u001b[0mouts\u001b[0m\u001b[0;34m]\u001b[0m\u001b[0;34m\u001b[0m\u001b[0m\n",
      "\u001b[0;32m~/Programas/Miniconda3/envs/ml/lib/python3.6/site-packages/keras/backend/tensorflow_backend.py\u001b[0m in \u001b[0;36m__call__\u001b[0;34m(self, inputs)\u001b[0m\n\u001b[1;32m   2476\u001b[0m         \u001b[0msession\u001b[0m \u001b[0;34m=\u001b[0m \u001b[0mget_session\u001b[0m\u001b[0;34m(\u001b[0m\u001b[0;34m)\u001b[0m\u001b[0;34m\u001b[0m\u001b[0m\n\u001b[1;32m   2477\u001b[0m         updated = session.run(fetches=fetches, feed_dict=feed_dict,\n\u001b[0;32m-> 2478\u001b[0;31m                               **self.session_kwargs)\n\u001b[0m\u001b[1;32m   2479\u001b[0m         \u001b[0;32mreturn\u001b[0m \u001b[0mupdated\u001b[0m\u001b[0;34m[\u001b[0m\u001b[0;34m:\u001b[0m\u001b[0mlen\u001b[0m\u001b[0;34m(\u001b[0m\u001b[0mself\u001b[0m\u001b[0;34m.\u001b[0m\u001b[0moutputs\u001b[0m\u001b[0;34m)\u001b[0m\u001b[0;34m]\u001b[0m\u001b[0;34m\u001b[0m\u001b[0m\n\u001b[1;32m   2480\u001b[0m \u001b[0;34m\u001b[0m\u001b[0m\n",
      "\u001b[0;32m~/Programas/Miniconda3/envs/ml/lib/python3.6/site-packages/tensorflow/python/client/session.py\u001b[0m in \u001b[0;36mrun\u001b[0;34m(self, fetches, feed_dict, options, run_metadata)\u001b[0m\n\u001b[1;32m    903\u001b[0m     \u001b[0;32mtry\u001b[0m\u001b[0;34m:\u001b[0m\u001b[0;34m\u001b[0m\u001b[0m\n\u001b[1;32m    904\u001b[0m       result = self._run(None, fetches, feed_dict, options_ptr,\n\u001b[0;32m--> 905\u001b[0;31m                          run_metadata_ptr)\n\u001b[0m\u001b[1;32m    906\u001b[0m       \u001b[0;32mif\u001b[0m \u001b[0mrun_metadata\u001b[0m\u001b[0;34m:\u001b[0m\u001b[0;34m\u001b[0m\u001b[0m\n\u001b[1;32m    907\u001b[0m         \u001b[0mproto_data\u001b[0m \u001b[0;34m=\u001b[0m \u001b[0mtf_session\u001b[0m\u001b[0;34m.\u001b[0m\u001b[0mTF_GetBuffer\u001b[0m\u001b[0;34m(\u001b[0m\u001b[0mrun_metadata_ptr\u001b[0m\u001b[0;34m)\u001b[0m\u001b[0;34m\u001b[0m\u001b[0m\n",
      "\u001b[0;32m~/Programas/Miniconda3/envs/ml/lib/python3.6/site-packages/tensorflow/python/client/session.py\u001b[0m in \u001b[0;36m_run\u001b[0;34m(self, handle, fetches, feed_dict, options, run_metadata)\u001b[0m\n\u001b[1;32m   1135\u001b[0m     \u001b[0;32mif\u001b[0m \u001b[0mfinal_fetches\u001b[0m \u001b[0;32mor\u001b[0m \u001b[0mfinal_targets\u001b[0m \u001b[0;32mor\u001b[0m \u001b[0;34m(\u001b[0m\u001b[0mhandle\u001b[0m \u001b[0;32mand\u001b[0m \u001b[0mfeed_dict_tensor\u001b[0m\u001b[0;34m)\u001b[0m\u001b[0;34m:\u001b[0m\u001b[0;34m\u001b[0m\u001b[0m\n\u001b[1;32m   1136\u001b[0m       results = self._do_run(handle, final_targets, final_fetches,\n\u001b[0;32m-> 1137\u001b[0;31m                              feed_dict_tensor, options, run_metadata)\n\u001b[0m\u001b[1;32m   1138\u001b[0m     \u001b[0;32melse\u001b[0m\u001b[0;34m:\u001b[0m\u001b[0;34m\u001b[0m\u001b[0m\n\u001b[1;32m   1139\u001b[0m       \u001b[0mresults\u001b[0m \u001b[0;34m=\u001b[0m \u001b[0;34m[\u001b[0m\u001b[0;34m]\u001b[0m\u001b[0;34m\u001b[0m\u001b[0m\n",
      "\u001b[0;32m~/Programas/Miniconda3/envs/ml/lib/python3.6/site-packages/tensorflow/python/client/session.py\u001b[0m in \u001b[0;36m_do_run\u001b[0;34m(self, handle, target_list, fetch_list, feed_dict, options, run_metadata)\u001b[0m\n\u001b[1;32m   1353\u001b[0m     \u001b[0;32mif\u001b[0m \u001b[0mhandle\u001b[0m \u001b[0;32mis\u001b[0m \u001b[0;32mNone\u001b[0m\u001b[0;34m:\u001b[0m\u001b[0;34m\u001b[0m\u001b[0m\n\u001b[1;32m   1354\u001b[0m       return self._do_call(_run_fn, self._session, feeds, fetches, targets,\n\u001b[0;32m-> 1355\u001b[0;31m                            options, run_metadata)\n\u001b[0m\u001b[1;32m   1356\u001b[0m     \u001b[0;32melse\u001b[0m\u001b[0;34m:\u001b[0m\u001b[0;34m\u001b[0m\u001b[0m\n\u001b[1;32m   1357\u001b[0m       \u001b[0;32mreturn\u001b[0m \u001b[0mself\u001b[0m\u001b[0;34m.\u001b[0m\u001b[0m_do_call\u001b[0m\u001b[0;34m(\u001b[0m\u001b[0m_prun_fn\u001b[0m\u001b[0;34m,\u001b[0m \u001b[0mself\u001b[0m\u001b[0;34m.\u001b[0m\u001b[0m_session\u001b[0m\u001b[0;34m,\u001b[0m \u001b[0mhandle\u001b[0m\u001b[0;34m,\u001b[0m \u001b[0mfeeds\u001b[0m\u001b[0;34m,\u001b[0m \u001b[0mfetches\u001b[0m\u001b[0;34m)\u001b[0m\u001b[0;34m\u001b[0m\u001b[0m\n",
      "\u001b[0;32m~/Programas/Miniconda3/envs/ml/lib/python3.6/site-packages/tensorflow/python/client/session.py\u001b[0m in \u001b[0;36m_do_call\u001b[0;34m(self, fn, *args)\u001b[0m\n\u001b[1;32m   1359\u001b[0m   \u001b[0;32mdef\u001b[0m \u001b[0m_do_call\u001b[0m\u001b[0;34m(\u001b[0m\u001b[0mself\u001b[0m\u001b[0;34m,\u001b[0m \u001b[0mfn\u001b[0m\u001b[0;34m,\u001b[0m \u001b[0;34m*\u001b[0m\u001b[0margs\u001b[0m\u001b[0;34m)\u001b[0m\u001b[0;34m:\u001b[0m\u001b[0;34m\u001b[0m\u001b[0m\n\u001b[1;32m   1360\u001b[0m     \u001b[0;32mtry\u001b[0m\u001b[0;34m:\u001b[0m\u001b[0;34m\u001b[0m\u001b[0m\n\u001b[0;32m-> 1361\u001b[0;31m       \u001b[0;32mreturn\u001b[0m \u001b[0mfn\u001b[0m\u001b[0;34m(\u001b[0m\u001b[0;34m*\u001b[0m\u001b[0margs\u001b[0m\u001b[0;34m)\u001b[0m\u001b[0;34m\u001b[0m\u001b[0m\n\u001b[0m\u001b[1;32m   1362\u001b[0m     \u001b[0;32mexcept\u001b[0m \u001b[0merrors\u001b[0m\u001b[0;34m.\u001b[0m\u001b[0mOpError\u001b[0m \u001b[0;32mas\u001b[0m \u001b[0me\u001b[0m\u001b[0;34m:\u001b[0m\u001b[0;34m\u001b[0m\u001b[0m\n\u001b[1;32m   1363\u001b[0m       \u001b[0mmessage\u001b[0m \u001b[0;34m=\u001b[0m \u001b[0mcompat\u001b[0m\u001b[0;34m.\u001b[0m\u001b[0mas_text\u001b[0m\u001b[0;34m(\u001b[0m\u001b[0me\u001b[0m\u001b[0;34m.\u001b[0m\u001b[0mmessage\u001b[0m\u001b[0;34m)\u001b[0m\u001b[0;34m\u001b[0m\u001b[0m\n",
      "\u001b[0;32m~/Programas/Miniconda3/envs/ml/lib/python3.6/site-packages/tensorflow/python/client/session.py\u001b[0m in \u001b[0;36m_run_fn\u001b[0;34m(session, feed_dict, fetch_list, target_list, options, run_metadata)\u001b[0m\n\u001b[1;32m   1338\u001b[0m         \u001b[0;32melse\u001b[0m\u001b[0;34m:\u001b[0m\u001b[0;34m\u001b[0m\u001b[0m\n\u001b[1;32m   1339\u001b[0m           return tf_session.TF_Run(session, options, feed_dict, fetch_list,\n\u001b[0;32m-> 1340\u001b[0;31m                                    target_list, status, run_metadata)\n\u001b[0m\u001b[1;32m   1341\u001b[0m \u001b[0;34m\u001b[0m\u001b[0m\n\u001b[1;32m   1342\u001b[0m     \u001b[0;32mdef\u001b[0m \u001b[0m_prun_fn\u001b[0m\u001b[0;34m(\u001b[0m\u001b[0msession\u001b[0m\u001b[0;34m,\u001b[0m \u001b[0mhandle\u001b[0m\u001b[0;34m,\u001b[0m \u001b[0mfeed_dict\u001b[0m\u001b[0;34m,\u001b[0m \u001b[0mfetch_list\u001b[0m\u001b[0;34m)\u001b[0m\u001b[0;34m:\u001b[0m\u001b[0;34m\u001b[0m\u001b[0m\n",
      "\u001b[0;31mKeyboardInterrupt\u001b[0m: "
     ]
    }
   ],
   "source": [
    "num_epochs = 10\n",
    "history_non_static = model_non_static.fit(x_train, y_train, batch_size=batch_size, epochs=num_epochs,\n",
    "          validation_data=(x_test, y_test), verbose=2)"
   ]
  },
  {
   "cell_type": "code",
   "execution_count": 46,
   "metadata": {},
   "outputs": [
    {
     "data": {
      "text/plain": [
       "<matplotlib.text.Text at 0x7fd16b58b2b0>"
      ]
     },
     "execution_count": 46,
     "metadata": {},
     "output_type": "execute_result"
    },
    {
     "data": {
      "image/png": "[encoded data removed]",
      "text/plain": [
       "<matplotlib.figure.Figure at 0x7fd16b5e4da0>"
      ]
     },
     "metadata": {},
     "output_type": "display_data"
    }
   ],
   "source": [
    "pl.plot(history_non_static.history['loss'], label='loss')\n",
    "pl.plot(history_non_static.history['val_loss'], label='val_loss')\n",
    "pl.legend()\n",
    "pl.xlabel('Epoch')\n",
    "pl.ylabel('Loss')"
   ]
  },
  {
   "cell_type": "code",
   "execution_count": 47,
   "metadata": {
    "scrolled": true
   },
   "outputs": [
    {
     "data": {
      "text/plain": [
       "<matplotlib.text.Text at 0x7fd16b52a5f8>"
      ]
     },
     "execution_count": 47,
     "metadata": {},
     "output_type": "execute_result"
    },
    {
     "data": {
      "image/png": "[encoded data removed]",
      "text/plain": [
       "<matplotlib.figure.Figure at 0x7fd16b505f60>"
      ]
     },
     "metadata": {},
     "output_type": "display_data"
    }
   ],
   "source": [
    "pl.plot(history_non_static.history['acc'], label='acc')\n",
    "pl.plot(history_non_static.history['val_acc'], label='val_acc')\n",
    "pl.legend()\n",
    "pl.xlabel('Epoch')\n",
    "pl.ylabel('Accuracy')"
   ]
  },
  {
   "cell_type": "code",
   "execution_count": 48,
   "metadata": {},
   "outputs": [
    {
     "data": {
      "text/plain": [
       "<matplotlib.text.Text at 0x7fd16b41b470>"
      ]
     },
     "execution_count": 48,
     "metadata": {},
     "output_type": "execute_result"
    },
    {
     "data": {
      "image/png": "[encoded data removed]",
      "text/plain": [
       "<matplotlib.figure.Figure at 0x7fd1780091d0>"
      ]
     },
     "metadata": {},
     "output_type": "display_data"
    }
   ],
   "source": [
    "pl.plot(history_rand.history['val_acc'], label='rand')\n",
    "pl.plot(history_static.history['val_acc'], label='static')\n",
    "pl.plot(history_non_static.history['val_acc'], label='non_static')\n",
    "pl.legend()\n",
    "pl.xlabel('Epoch')\n",
    "pl.ylabel('Validation Accuracy')"
   ]
  },
  {
   "cell_type": "markdown",
   "metadata": {},
   "source": [
    "The word2vec initialization gives a boost of around 4%. Allowing the embedding to fine tune has a small advantage.\n",
    "## Increasing the data\n",
    "\n",
    "Now, we will increase the amount of data for training to 25000 samples."
   ]
  },
  {
   "cell_type": "code",
   "execution_count": 55,
   "metadata": {
    "collapsed": true
   },
   "outputs": [],
   "source": [
    "from keras import backend as K\n",
    "\n",
    "def re_initialize(model):\n",
    "    session = K.get_session()\n",
    "    for layer in model.layers: \n",
    "         for v in layer.__dict__:\n",
    "             v_arg = getattr(layer,v)\n",
    "             if hasattr(v_arg,'initializer'):\n",
    "                 initializer_method = getattr(v_arg, 'initializer')\n",
    "                 initializer_method.run(session=session)\n",
    "                 print('reinitializing layer {}.{}'.format(layer.name, v))"
   ]
  },
  {
   "cell_type": "code",
   "execution_count": 80,
   "metadata": {},
   "outputs": [
    {
     "name": "stdout",
     "output_type": "stream",
     "text": [
      "x_train shape: (25000, 20)\n",
      "x_test shape: (10000, 20)\n",
      "Vocabulary Size: 88585\n"
     ]
    }
   ],
   "source": [
    "(x_train, y_train), (x_test, y_test) = imdb.load_data(num_words=max_words, start_char=None,\n",
    "                                                      oov_char=None, index_from=None)\n",
    "\n",
    "x_test = x_test[:10000]\n",
    "y_test = y_test[:10000]\n",
    "\n",
    "x_train = sequence.pad_sequences(x_train, maxlen=sequence_length, padding=\"post\", truncating=\"post\")\n",
    "x_test = sequence.pad_sequences(x_test, maxlen=sequence_length, padding=\"post\", truncating=\"post\")\n",
    "\n",
    "vocabulary = imdb.get_word_index()\n",
    "vocabulary_inv = dict((v, k) for k, v in vocabulary.items())\n",
    "vocabulary_inv[0] = \"<PAD/>\"\n",
    "\n",
    "print(\"x_train shape:\", x_train.shape)\n",
    "print(\"x_test shape:\", x_test.shape)\n",
    "print(\"Vocabulary Size: {:d}\".format(len(vocabulary_inv)))\n"
   ]
  },
  {
   "cell_type": "code",
   "execution_count": 81,
   "metadata": {},
   "outputs": [
    {
     "name": "stdout",
     "output_type": "stream",
     "text": [
      "reinitializing layer embedding.embeddings\n",
      "reinitializing layer conv1d_10.kernel\n",
      "reinitializing layer conv1d_10.bias\n",
      "reinitializing layer conv1d_11.kernel\n",
      "reinitializing layer conv1d_11.bias\n",
      "reinitializing layer conv1d_12.kernel\n",
      "reinitializing layer conv1d_12.bias\n",
      "reinitializing layer dense_4.kernel\n",
      "reinitializing layer dense_4.bias\n",
      "Train on 25000 samples, validate on 10000 samples\n",
      "Epoch 1/10\n",
      "9s - loss: 0.5922 - acc: 0.6718 - val_loss: 0.5522 - val_acc: 0.7090\n",
      "Epoch 2/10\n",
      "9s - loss: 0.4575 - acc: 0.7826 - val_loss: 0.5571 - val_acc: 0.7138\n",
      "Epoch 3/10\n",
      "9s - loss: 0.3560 - acc: 0.8454 - val_loss: 0.6001 - val_acc: 0.7045\n",
      "Epoch 4/10\n",
      "9s - loss: 0.2477 - acc: 0.9035 - val_loss: 0.7073 - val_acc: 0.6947\n",
      "Epoch 5/10\n",
      "9s - loss: 0.1559 - acc: 0.9454 - val_loss: 0.8489 - val_acc: 0.6884\n",
      "Epoch 6/10\n",
      "9s - loss: 0.0935 - acc: 0.9699 - val_loss: 1.0158 - val_acc: 0.6878\n",
      "Epoch 7/10\n",
      "9s - loss: 0.0580 - acc: 0.9831 - val_loss: 1.1562 - val_acc: 0.6860\n",
      "Epoch 8/10\n",
      "9s - loss: 0.0473 - acc: 0.9857 - val_loss: 1.2823 - val_acc: 0.6800\n",
      "Epoch 9/10\n",
      "9s - loss: 0.0376 - acc: 0.9899 - val_loss: 1.4231 - val_acc: 0.6812\n",
      "Epoch 10/10\n",
      "9s - loss: 0.0320 - acc: 0.9900 - val_loss: 1.4728 - val_acc: 0.6791\n"
     ]
    }
   ],
   "source": [
    "num_epochs = 10\n",
    "re_initialize(model_rand)\n",
    "history_rand = model_rand.fit(x_train, y_train, batch_size=batch_size, epochs=num_epochs,\n",
    "          validation_data=(x_test, y_test), verbose=2)"
   ]
  },
  {
   "cell_type": "code",
   "execution_count": 82,
   "metadata": {},
   "outputs": [
    {
     "name": "stdout",
     "output_type": "stream",
     "text": [
      "reinitializing layer embedding.embeddings\n",
      "reinitializing layer conv1d_13.kernel\n",
      "reinitializing layer conv1d_13.bias\n",
      "reinitializing layer conv1d_14.kernel\n",
      "reinitializing layer conv1d_14.bias\n",
      "reinitializing layer conv1d_15.kernel\n",
      "reinitializing layer conv1d_15.bias\n",
      "reinitializing layer dense_5.kernel\n",
      "reinitializing layer dense_5.bias\n",
      "Train on 25000 samples, validate on 10000 samples\n",
      "Epoch 1/10\n",
      "2s - loss: 0.6050 - acc: 0.6602 - val_loss: 0.5638 - val_acc: 0.6950\n",
      "Epoch 2/10\n",
      "3s - loss: 0.5387 - acc: 0.7232 - val_loss: 0.5649 - val_acc: 0.6935\n",
      "Epoch 3/10\n",
      "2s - loss: 0.5028 - acc: 0.7524 - val_loss: 0.5556 - val_acc: 0.7017\n",
      "Epoch 4/10\n",
      "3s - loss: 0.4679 - acc: 0.7744 - val_loss: 0.5451 - val_acc: 0.7130\n",
      "Epoch 5/10\n",
      "2s - loss: 0.4254 - acc: 0.8063 - val_loss: 0.5491 - val_acc: 0.7127\n",
      "Epoch 6/10\n",
      "2s - loss: 0.3840 - acc: 0.8294 - val_loss: 0.5583 - val_acc: 0.7101\n",
      "Epoch 7/10\n",
      "3s - loss: 0.3468 - acc: 0.8520 - val_loss: 0.5620 - val_acc: 0.7141\n",
      "Epoch 8/10\n",
      "2s - loss: 0.3026 - acc: 0.8733 - val_loss: 0.5811 - val_acc: 0.7062\n",
      "Epoch 9/10\n",
      "3s - loss: 0.2719 - acc: 0.8922 - val_loss: 0.6074 - val_acc: 0.7062\n",
      "Epoch 10/10\n",
      "2s - loss: 0.2429 - acc: 0.9038 - val_loss: 0.6122 - val_acc: 0.7085\n"
     ]
    }
   ],
   "source": [
    "num_epochs = 10\n",
    "re_initialize(model_static)\n",
    "embedding_layer = model_static.get_layer(\"embedding\")\n",
    "embedding_layer.set_weights([weights])\n",
    "history_static = model_static.fit(x_train, y_train, batch_size=batch_size, epochs=num_epochs,\n",
    "          validation_data=(x_test, y_test), verbose=2)"
   ]
  },
  {
   "cell_type": "code",
   "execution_count": 83,
   "metadata": {},
   "outputs": [
    {
     "name": "stdout",
     "output_type": "stream",
     "text": [
      "reinitializing layer embedding.embeddings\n",
      "reinitializing layer conv1d_19.kernel\n",
      "reinitializing layer conv1d_19.bias\n",
      "reinitializing layer conv1d_20.kernel\n",
      "reinitializing layer conv1d_20.bias\n",
      "reinitializing layer conv1d_21.kernel\n",
      "reinitializing layer conv1d_21.bias\n",
      "reinitializing layer dense_7.kernel\n",
      "reinitializing layer dense_7.bias\n",
      "Train on 25000 samples, validate on 10000 samples\n",
      "Epoch 1/10\n",
      "9s - loss: 0.5840 - acc: 0.6838 - val_loss: 0.5348 - val_acc: 0.7199\n",
      "Epoch 2/10\n",
      "9s - loss: 0.4579 - acc: 0.7804 - val_loss: 0.5504 - val_acc: 0.7157\n",
      "Epoch 3/10\n",
      "9s - loss: 0.3773 - acc: 0.8319 - val_loss: 0.5967 - val_acc: 0.7019\n",
      "Epoch 4/10\n",
      "9s - loss: 0.2893 - acc: 0.8798 - val_loss: 0.6774 - val_acc: 0.6971\n",
      "Epoch 5/10\n",
      "9s - loss: 0.2064 - acc: 0.9221 - val_loss: 0.7492 - val_acc: 0.6970\n",
      "Epoch 6/10\n",
      "9s - loss: 0.1393 - acc: 0.9510 - val_loss: 0.8601 - val_acc: 0.6905\n",
      "Epoch 7/10\n",
      "9s - loss: 0.0991 - acc: 0.9673 - val_loss: 0.9621 - val_acc: 0.6952\n",
      "Epoch 8/10\n",
      "9s - loss: 0.0746 - acc: 0.9753 - val_loss: 1.0924 - val_acc: 0.6932\n",
      "Epoch 9/10\n",
      "9s - loss: 0.0594 - acc: 0.9819 - val_loss: 1.1485 - val_acc: 0.6844\n",
      "Epoch 10/10\n",
      "9s - loss: 0.0457 - acc: 0.9864 - val_loss: 1.2384 - val_acc: 0.6885\n"
     ]
    }
   ],
   "source": [
    "num_epochs = 10\n",
    "re_initialize(model_non_static)\n",
    "embedding_layer = model_non_static.get_layer(\"embedding\")\n",
    "embedding_layer.set_weights([weights])\n",
    "history_non_static = model_non_static.fit(x_train, y_train, batch_size=batch_size, epochs=num_epochs,\n",
    "          validation_data=(x_test, y_test), verbose=2)"
   ]
  },
  {
   "cell_type": "code",
   "execution_count": 84,
   "metadata": {},
   "outputs": [
    {
     "data": {
      "text/plain": [
       "<matplotlib.text.Text at 0x7fd1001782e8>"
      ]
     },
     "execution_count": 84,
     "metadata": {},
     "output_type": "execute_result"
    },
    {
     "data": {
      "image/png": "[encoded data removed]",
      "text/plain": [
       "<matplotlib.figure.Figure at 0x7fd1007576a0>"
      ]
     },
     "metadata": {},
     "output_type": "display_data"
    }
   ],
   "source": [
    "pl.plot(history_rand.history['val_acc'], label='rand')\n",
    "pl.plot(history_static.history['val_acc'], label='static')\n",
    "pl.plot(history_non_static.history['val_acc'], label='non_static')\n",
    "pl.legend()\n",
    "pl.xlabel('Epoch')\n",
    "pl.ylabel('Validation Accuracy')"
   ]
  },
  {
   "cell_type": "markdown",
   "metadata": {},
   "source": [
    "The rand and non_static models overfit. There is not a clear advantage on using word2vec vectors to initialize weights."
   ]
  },
  {
   "cell_type": "code",
   "execution_count": null,
   "metadata": {
    "collapsed": true
   },
   "outputs": [],
   "source": []
  }
 ],
 "metadata": {
  "kernelspec": {
   "display_name": "Python [conda env:ml]",
   "language": "python",
   "name": "conda-env-ml-py"
  },
  "language_info": {
   "codemirror_mode": {
    "name": "ipython",
    "version": 3
   },
   "file_extension": ".py",
   "mimetype": "text/x-python",
   "name": "python",
   "nbconvert_exporter": "python",
   "pygments_lexer": "ipython3",
   "version": "3.6.5"
  }
 },
 "nbformat": 4,
 "nbformat_minor": 2
}
