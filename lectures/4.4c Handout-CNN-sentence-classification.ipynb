{
 "cells": [
  {
   "cell_type": "markdown",
   "metadata": {},
   "source": [
    "# CNN for text classification handout\n",
    "## [COSC 7336 Advanced Natural Language Processing](https://fagonzalezo.github.io/dl-tau-2017-2/)"
   ]
  },
  {
   "cell_type": "code",
   "execution_count": 1,
   "metadata": {},
   "outputs": [
    {
     "name": "stderr",
     "output_type": "stream",
     "text": [
      "/home/juan/Programas/Miniconda3/envs/ml/lib/python3.6/site-packages/h5py/__init__.py:36: FutureWarning: Conversion of the second argument of issubdtype from `float` to `np.floating` is deprecated. In future, it will be treated as `np.float64 == np.dtype(float).type`.\n",
      "  from ._conv import register_converters as _register_converters\n",
      "Using TensorFlow backend.\n"
     ]
    }
   ],
   "source": [
    "import numpy as np\n",
    "import pylab as pl\n",
    "from IPython.display import SVG\n",
    "from os.path import join, exists, split\n",
    "import os\n",
    "\n",
    "from gensim.models import word2vec, KeyedVectors\n",
    "\n",
    "\n",
    "from keras.models import Sequential, Model\n",
    "from keras.layers import Dense, Dropout, Flatten, Input, MaxPooling1D, Convolution1D, Embedding, GlobalMaxPooling1D\n",
    "from keras.layers.merge import Concatenate\n",
    "from keras.datasets import imdb\n",
    "from keras.preprocessing import sequence\n",
    "from keras.utils.vis_utils import model_to_dot\n",
    "\n",
    "%matplotlib inline"
   ]
  },
  {
   "cell_type": "markdown",
   "metadata": {},
   "source": [
    "We will build the model presented in [Kim2014] using Keras. The code is based on the code from Alexander Rakhlin (https://github.com/alexander-rakhlin/CNN-for-Sentence-Classification-in-Keras). \n",
    "\n",
    "The model is depicted in the next figure:\n",
    "\n",
    "[Kim2014] Kim, Y. (2014). [Convolutional neural networks for sentence classification](https://arxiv.org/abs/1408.5882). arXiv preprint arXiv:1408.5882\n",
    "\n",
    "![CNN model](kim2014cnn.jpg \"cnn model\")\n",
    "\n",
    "First we define some general parameters"
   ]
  },
  {
   "cell_type": "code",
   "execution_count": 2,
   "metadata": {},
   "outputs": [],
   "source": [
    "# Model Hyperparameters\n",
    "embedding_dim = 300\n",
    "filter_sizes = (3, 4, 5 )\n",
    "num_filters = 100\n",
    "dropout_prob = (0.0, 0.5)\n",
    "\n",
    "# Training parameters\n",
    "batch_size = 64\n",
    "num_epochs = 10\n",
    "\n",
    "# Prepossessing parameters\n",
    "sequence_length = 20\n",
    "max_words = 5000\n",
    "\n",
    "# Word2Vec parameters \n",
    "min_word_count = 1\n",
    "context = 10"
   ]
  },
  {
   "cell_type": "markdown",
   "metadata": {},
   "source": [
    "We will use the the IMDB dataset provided by Keras. However, we will use only 1500 samples for training and 10000 for testing. "
   ]
  },
  {
   "cell_type": "code",
   "execution_count": 3,
   "metadata": {},
   "outputs": [
    {
     "name": "stdout",
     "output_type": "stream",
     "text": [
      "x_train shape: (1500, 20)\n",
      "x_test shape: (10000, 20)\n",
      "Vocabulary Size: 88585\n"
     ]
    }
   ],
   "source": [
    "(x_train, y_train), (x_test, y_test) = imdb.load_data(num_words=max_words, start_char=None,\n",
    "                                                      oov_char=None, index_from=None)\n",
    "x_train = x_train[:1500]\n",
    "y_train = y_train[:1500]\n",
    "x_test = x_test[:10000]\n",
    "y_test = y_test[:10000]\n",
    "\n",
    "x_train = sequence.pad_sequences(x_train, maxlen=sequence_length, padding=\"post\", truncating=\"post\")\n",
    "x_test = sequence.pad_sequences(x_test, maxlen=sequence_length, padding=\"post\", truncating=\"post\")\n",
    "\n",
    "vocabulary = imdb.get_word_index()\n",
    "vocabulary_inv = dict((v, k) for k, v in vocabulary.items())\n",
    "vocabulary_inv[0] = \"<PAD/>\"\n",
    "\n",
    "print(\"x_train shape:\", x_train.shape)\n",
    "print(\"x_test shape:\", x_test.shape)\n",
    "print(\"Vocabulary Size: {:d}\".format(len(vocabulary_inv)))\n"
   ]
  },
  {
   "cell_type": "markdown",
   "metadata": {},
   "source": [
    "As described in the paper, one of the models uses a pretrained word2vec model to initialize the weights of the embedding layer. The pretrained model can be obtained from: https://drive.google.com/file/d/0B7XkCwpI5KDYNlNUTTlSS21pQmM/edit?usp=sharing"
   ]
  },
  {
   "cell_type": "code",
   "execution_count": 4,
   "metadata": {},
   "outputs": [],
   "source": [
    "embedding_model = KeyedVectors.load_word2vec_format('GoogleNews-vectors-negative300.bin', binary=True)\n",
    "embedding_weights = {key: embedding_model[word] if word in embedding_model else\n",
    "                          np.random.uniform(-0.25, 0.25, embedding_model.vector_size)\n",
    "                     for key, word in vocabulary_inv.items()}"
   ]
  },
  {
   "cell_type": "markdown",
   "metadata": {},
   "source": [
    "## CNN-rand \n",
    "\n",
    "The first model we will try is where all words are randomly initialized and then modified during training."
   ]
  },
  {
   "cell_type": "code",
   "execution_count": 5,
   "metadata": {},
   "outputs": [],
   "source": [
    "# Input layer\n",
    "input_shape = (sequence_length,)\n",
    "model_input = Input(shape=input_shape)\n",
    "\n",
    "# Embedding layer\n",
    "embedding_layer = Embedding(len(vocabulary_inv), embedding_dim, input_length=sequence_length, name=\"embedding\")\n",
    "z = embedding_layer(model_input)\n",
    "\n",
    "# Convolutional block\n",
    "conv_blocks = []\n",
    "for sz in filter_sizes:\n",
    "    conv = Convolution1D(filters=num_filters,\n",
    "                         kernel_size=sz,\n",
    "                         padding=\"valid\",\n",
    "                         activation=\"relu\",\n",
    "                         strides=1)(z)\n",
    "    conv = GlobalMaxPooling1D()(conv)\n",
    "    conv_blocks.append(conv)\n",
    "z = Concatenate()(conv_blocks) if len(conv_blocks) > 1 else conv_blocks[0]\n",
    "\n",
    "# Dropout \n",
    "z = Dropout(dropout_prob[1])(z)\n",
    "\n",
    "# Output layer\n",
    "model_output = Dense(1, activation=\"sigmoid\")(z)\n",
    "\n",
    "# Model compilation\n",
    "model_rand = Model(model_input, model_output)\n",
    "model_rand.compile(loss=\"binary_crossentropy\", optimizer=\"adam\", metrics=[\"accuracy\"])"
   ]
  },
  {
   "cell_type": "markdown",
   "metadata": {},
   "source": [
    "We can visualize the structure of the model:"
   ]
  },
  {
   "cell_type": "code",
   "execution_count": 6,
   "metadata": {},
   "outputs": [
    {
     "name": "stdout",
     "output_type": "stream",
     "text": [
      "_____________________________________________________________________________________\n",
      "Layer (type)                Output Shape      Param #   Connected to                 \n",
      "=====================================================================================\n",
      "input_1 (InputLayer)        (None, 20)        0                                      \n",
      "_____________________________________________________________________________________\n",
      "embedding (Embedding)       (None, 20, 300)   26575500  input_1[0][0]                \n",
      "_____________________________________________________________________________________\n",
      "conv1d_1 (Conv1D)           (None, 18, 100)   90100     embedding[0][0]              \n",
      "_____________________________________________________________________________________\n",
      "conv1d_2 (Conv1D)           (None, 17, 100)   120100    embedding[0][0]              \n",
      "_____________________________________________________________________________________\n",
      "conv1d_3 (Conv1D)           (None, 16, 100)   150100    embedding[0][0]              \n",
      "_____________________________________________________________________________________\n",
      "global_max_pooling1d_1 (Glo (None, 100)       0         conv1d_1[0][0]               \n",
      "_____________________________________________________________________________________\n",
      "global_max_pooling1d_2 (Glo (None, 100)       0         conv1d_2[0][0]               \n",
      "_____________________________________________________________________________________\n",
      "global_max_pooling1d_3 (Glo (None, 100)       0         conv1d_3[0][0]               \n",
      "_____________________________________________________________________________________\n",
      "concatenate_1 (Concatenate) (None, 300)       0         global_max_pooling1d_1[0][0] \n",
      "                                                        global_max_pooling1d_2[0][0] \n",
      "                                                        global_max_pooling1d_3[0][0] \n",
      "_____________________________________________________________________________________\n",
      "dropout_1 (Dropout)         (None, 300)       0         concatenate_1[0][0]          \n",
      "_____________________________________________________________________________________\n",
      "dense_1 (Dense)             (None, 1)         301       dropout_1[0][0]              \n",
      "=====================================================================================\n",
      "Total params: 26,936,101\n",
      "Trainable params: 26,936,101\n",
      "Non-trainable params: 0\n",
      "_____________________________________________________________________________________\n"
     ]
    },
    {
     "data": {
      "image/svg+xml": [
       "<svg height=\"553pt\" viewBox=\"0.00 0.00 1367.00 553.00\" width=\"1367pt\" xmlns=\"http://www.w3.org/2000/svg\" xmlns:xlink=\"http://www.w3.org/1999/xlink\">\n",
       "<g class=\"graph\" id=\"graph0\" transform=\"scale(1 1) rotate(0) translate(4 549)\">\n",
       "<title>G</title>\n",
       "<polygon fill=\"#ffffff\" points=\"-4,4 -4,-549 1363,-549 1363,4 -4,4\" stroke=\"transparent\"/>\n",
       "<!-- 140229574807000 -->\n",
       "<g class=\"node\" id=\"node1\">\n",
       "<title>140229574807000</title>\n",
       "<polygon fill=\"none\" points=\"549.5,-498.5 549.5,-544.5 809.5,-544.5 809.5,-498.5 549.5,-498.5\" stroke=\"#000000\"/>\n",
       "<text fill=\"#000000\" font-family=\"Times,serif\" font-size=\"14.00\" text-anchor=\"middle\" x=\"613\" y=\"-517.8\">input_1: InputLayer</text>\n",
       "<polyline fill=\"none\" points=\"676.5,-498.5 676.5,-544.5 \" stroke=\"#000000\"/>\n",
       "<text fill=\"#000000\" font-family=\"Times,serif\" font-size=\"14.00\" text-anchor=\"middle\" x=\"704.5\" y=\"-529.3\">input:</text>\n",
       "<polyline fill=\"none\" points=\"676.5,-521.5 732.5,-521.5 \" stroke=\"#000000\"/>\n",
       "<text fill=\"#000000\" font-family=\"Times,serif\" font-size=\"14.00\" text-anchor=\"middle\" x=\"704.5\" y=\"-506.3\">output:</text>\n",
       "<polyline fill=\"none\" points=\"732.5,-498.5 732.5,-544.5 \" stroke=\"#000000\"/>\n",
       "<text fill=\"#000000\" font-family=\"Times,serif\" font-size=\"14.00\" text-anchor=\"middle\" x=\"771\" y=\"-529.3\">(None, 20)</text>\n",
       "<polyline fill=\"none\" points=\"732.5,-521.5 809.5,-521.5 \" stroke=\"#000000\"/>\n",
       "<text fill=\"#000000\" font-family=\"Times,serif\" font-size=\"14.00\" text-anchor=\"middle\" x=\"771\" y=\"-506.3\">(None, 20)</text>\n",
       "</g>\n",
       "<!-- 140229574807056 -->\n",
       "<g class=\"node\" id=\"node2\">\n",
       "<title>140229574807056</title>\n",
       "<polygon fill=\"none\" points=\"527,-415.5 527,-461.5 832,-461.5 832,-415.5 527,-415.5\" stroke=\"#000000\"/>\n",
       "<text fill=\"#000000\" font-family=\"Times,serif\" font-size=\"14.00\" text-anchor=\"middle\" x=\"600\" y=\"-434.8\">embedding: Embedding</text>\n",
       "<polyline fill=\"none\" points=\"673,-415.5 673,-461.5 \" stroke=\"#000000\"/>\n",
       "<text fill=\"#000000\" font-family=\"Times,serif\" font-size=\"14.00\" text-anchor=\"middle\" x=\"701\" y=\"-446.3\">input:</text>\n",
       "<polyline fill=\"none\" points=\"673,-438.5 729,-438.5 \" stroke=\"#000000\"/>\n",
       "<text fill=\"#000000\" font-family=\"Times,serif\" font-size=\"14.00\" text-anchor=\"middle\" x=\"701\" y=\"-423.3\">output:</text>\n",
       "<polyline fill=\"none\" points=\"729,-415.5 729,-461.5 \" stroke=\"#000000\"/>\n",
       "<text fill=\"#000000\" font-family=\"Times,serif\" font-size=\"14.00\" text-anchor=\"middle\" x=\"780.5\" y=\"-446.3\">(None, 20)</text>\n",
       "<polyline fill=\"none\" points=\"729,-438.5 832,-438.5 \" stroke=\"#000000\"/>\n",
       "<text fill=\"#000000\" font-family=\"Times,serif\" font-size=\"14.00\" text-anchor=\"middle\" x=\"780.5\" y=\"-423.3\">(None, 20, 300)</text>\n",
       "</g>\n",
       "<!-- 140229574807000&#45;&gt;140229574807056 -->\n",
       "<g class=\"edge\" id=\"edge1\">\n",
       "<title>140229574807000-&gt;140229574807056</title>\n",
       "<path d=\"M679.5,-498.3799C679.5,-490.1745 679.5,-480.7679 679.5,-471.8786\" fill=\"none\" stroke=\"#000000\"/>\n",
       "<polygon fill=\"#000000\" points=\"683.0001,-471.784 679.5,-461.784 676.0001,-471.784 683.0001,-471.784\" stroke=\"#000000\"/>\n",
       "</g>\n",
       "<!-- 140229574816040 -->\n",
       "<g class=\"node\" id=\"node3\">\n",
       "<title>140229574816040</title>\n",
       "<polygon fill=\"none\" points=\"158.5,-332.5 158.5,-378.5 440.5,-378.5 440.5,-332.5 158.5,-332.5\" stroke=\"#000000\"/>\n",
       "<text fill=\"#000000\" font-family=\"Times,serif\" font-size=\"14.00\" text-anchor=\"middle\" x=\"220\" y=\"-351.8\">conv1d_1: Conv1D</text>\n",
       "<polyline fill=\"none\" points=\"281.5,-332.5 281.5,-378.5 \" stroke=\"#000000\"/>\n",
       "<text fill=\"#000000\" font-family=\"Times,serif\" font-size=\"14.00\" text-anchor=\"middle\" x=\"309.5\" y=\"-363.3\">input:</text>\n",
       "<polyline fill=\"none\" points=\"281.5,-355.5 337.5,-355.5 \" stroke=\"#000000\"/>\n",
       "<text fill=\"#000000\" font-family=\"Times,serif\" font-size=\"14.00\" text-anchor=\"middle\" x=\"309.5\" y=\"-340.3\">output:</text>\n",
       "<polyline fill=\"none\" points=\"337.5,-332.5 337.5,-378.5 \" stroke=\"#000000\"/>\n",
       "<text fill=\"#000000\" font-family=\"Times,serif\" font-size=\"14.00\" text-anchor=\"middle\" x=\"389\" y=\"-363.3\">(None, 20, 300)</text>\n",
       "<polyline fill=\"none\" points=\"337.5,-355.5 440.5,-355.5 \" stroke=\"#000000\"/>\n",
       "<text fill=\"#000000\" font-family=\"Times,serif\" font-size=\"14.00\" text-anchor=\"middle\" x=\"389\" y=\"-340.3\">(None, 18, 100)</text>\n",
       "</g>\n",
       "<!-- 140229574807056&#45;&gt;140229574816040 -->\n",
       "<g class=\"edge\" id=\"edge2\">\n",
       "<title>140229574807056-&gt;140229574816040</title>\n",
       "<path d=\"M574.1534,-415.4901C524.733,-404.6956 465.7077,-391.8033 415.0633,-380.7415\" fill=\"none\" stroke=\"#000000\"/>\n",
       "<polygon fill=\"#000000\" points=\"415.568,-377.2693 405.0515,-378.5547 414.0743,-384.108 415.568,-377.2693\" stroke=\"#000000\"/>\n",
       "</g>\n",
       "<!-- 140235984584264 -->\n",
       "<g class=\"node\" id=\"node4\">\n",
       "<title>140235984584264</title>\n",
       "<polygon fill=\"none\" points=\"538.5,-332.5 538.5,-378.5 820.5,-378.5 820.5,-332.5 538.5,-332.5\" stroke=\"#000000\"/>\n",
       "<text fill=\"#000000\" font-family=\"Times,serif\" font-size=\"14.00\" text-anchor=\"middle\" x=\"600\" y=\"-351.8\">conv1d_2: Conv1D</text>\n",
       "<polyline fill=\"none\" points=\"661.5,-332.5 661.5,-378.5 \" stroke=\"#000000\"/>\n",
       "<text fill=\"#000000\" font-family=\"Times,serif\" font-size=\"14.00\" text-anchor=\"middle\" x=\"689.5\" y=\"-363.3\">input:</text>\n",
       "<polyline fill=\"none\" points=\"661.5,-355.5 717.5,-355.5 \" stroke=\"#000000\"/>\n",
       "<text fill=\"#000000\" font-family=\"Times,serif\" font-size=\"14.00\" text-anchor=\"middle\" x=\"689.5\" y=\"-340.3\">output:</text>\n",
       "<polyline fill=\"none\" points=\"717.5,-332.5 717.5,-378.5 \" stroke=\"#000000\"/>\n",
       "<text fill=\"#000000\" font-family=\"Times,serif\" font-size=\"14.00\" text-anchor=\"middle\" x=\"769\" y=\"-363.3\">(None, 20, 300)</text>\n",
       "<polyline fill=\"none\" points=\"717.5,-355.5 820.5,-355.5 \" stroke=\"#000000\"/>\n",
       "<text fill=\"#000000\" font-family=\"Times,serif\" font-size=\"14.00\" text-anchor=\"middle\" x=\"769\" y=\"-340.3\">(None, 17, 100)</text>\n",
       "</g>\n",
       "<!-- 140229574807056&#45;&gt;140235984584264 -->\n",
       "<g class=\"edge\" id=\"edge3\">\n",
       "<title>140229574807056-&gt;140235984584264</title>\n",
       "<path d=\"M679.5,-415.3799C679.5,-407.1745 679.5,-397.7679 679.5,-388.8786\" fill=\"none\" stroke=\"#000000\"/>\n",
       "<polygon fill=\"#000000\" points=\"683.0001,-388.784 679.5,-378.784 676.0001,-388.784 683.0001,-388.784\" stroke=\"#000000\"/>\n",
       "</g>\n",
       "<!-- 140229574166680 -->\n",
       "<g class=\"node\" id=\"node5\">\n",
       "<title>140229574166680</title>\n",
       "<polygon fill=\"none\" points=\"917.5,-332.5 917.5,-378.5 1199.5,-378.5 1199.5,-332.5 917.5,-332.5\" stroke=\"#000000\"/>\n",
       "<text fill=\"#000000\" font-family=\"Times,serif\" font-size=\"14.00\" text-anchor=\"middle\" x=\"979\" y=\"-351.8\">conv1d_3: Conv1D</text>\n",
       "<polyline fill=\"none\" points=\"1040.5,-332.5 1040.5,-378.5 \" stroke=\"#000000\"/>\n",
       "<text fill=\"#000000\" font-family=\"Times,serif\" font-size=\"14.00\" text-anchor=\"middle\" x=\"1068.5\" y=\"-363.3\">input:</text>\n",
       "<polyline fill=\"none\" points=\"1040.5,-355.5 1096.5,-355.5 \" stroke=\"#000000\"/>\n",
       "<text fill=\"#000000\" font-family=\"Times,serif\" font-size=\"14.00\" text-anchor=\"middle\" x=\"1068.5\" y=\"-340.3\">output:</text>\n",
       "<polyline fill=\"none\" points=\"1096.5,-332.5 1096.5,-378.5 \" stroke=\"#000000\"/>\n",
       "<text fill=\"#000000\" font-family=\"Times,serif\" font-size=\"14.00\" text-anchor=\"middle\" x=\"1148\" y=\"-363.3\">(None, 20, 300)</text>\n",
       "<polyline fill=\"none\" points=\"1096.5,-355.5 1199.5,-355.5 \" stroke=\"#000000\"/>\n",
       "<text fill=\"#000000\" font-family=\"Times,serif\" font-size=\"14.00\" text-anchor=\"middle\" x=\"1148\" y=\"-340.3\">(None, 16, 100)</text>\n",
       "</g>\n",
       "<!-- 140229574807056&#45;&gt;140229574166680 -->\n",
       "<g class=\"edge\" id=\"edge4\">\n",
       "<title>140229574807056-&gt;140229574166680</title>\n",
       "<path d=\"M784.5693,-415.4901C833.8597,-404.6956 892.7297,-391.8033 943.2408,-380.7415\" fill=\"none\" stroke=\"#000000\"/>\n",
       "<polygon fill=\"#000000\" points=\"944.2066,-384.113 953.2263,-378.5547 942.709,-377.275 944.2066,-384.113\" stroke=\"#000000\"/>\n",
       "</g>\n",
       "<!-- 140229574468496 -->\n",
       "<g class=\"node\" id=\"node6\">\n",
       "<title>140229574468496</title>\n",
       "<polygon fill=\"none\" points=\"0,-249.5 0,-295.5 441,-295.5 441,-249.5 0,-249.5\" stroke=\"#000000\"/>\n",
       "<text fill=\"#000000\" font-family=\"Times,serif\" font-size=\"14.00\" text-anchor=\"middle\" x=\"141\" y=\"-268.8\">global_max_pooling1d_1: GlobalMaxPooling1D</text>\n",
       "<polyline fill=\"none\" points=\"282,-249.5 282,-295.5 \" stroke=\"#000000\"/>\n",
       "<text fill=\"#000000\" font-family=\"Times,serif\" font-size=\"14.00\" text-anchor=\"middle\" x=\"310\" y=\"-280.3\">input:</text>\n",
       "<polyline fill=\"none\" points=\"282,-272.5 338,-272.5 \" stroke=\"#000000\"/>\n",
       "<text fill=\"#000000\" font-family=\"Times,serif\" font-size=\"14.00\" text-anchor=\"middle\" x=\"310\" y=\"-257.3\">output:</text>\n",
       "<polyline fill=\"none\" points=\"338,-249.5 338,-295.5 \" stroke=\"#000000\"/>\n",
       "<text fill=\"#000000\" font-family=\"Times,serif\" font-size=\"14.00\" text-anchor=\"middle\" x=\"389.5\" y=\"-280.3\">(None, 18, 100)</text>\n",
       "<polyline fill=\"none\" points=\"338,-272.5 441,-272.5 \" stroke=\"#000000\"/>\n",
       "<text fill=\"#000000\" font-family=\"Times,serif\" font-size=\"14.00\" text-anchor=\"middle\" x=\"389.5\" y=\"-257.3\">(None, 100)</text>\n",
       "</g>\n",
       "<!-- 140229574816040&#45;&gt;140229574468496 -->\n",
       "<g class=\"edge\" id=\"edge5\">\n",
       "<title>140229574816040-&gt;140229574468496</title>\n",
       "<path d=\"M277.4941,-332.3799C268.9202,-323.3718 258.9682,-312.916 249.8026,-303.2863\" fill=\"none\" stroke=\"#000000\"/>\n",
       "<polygon fill=\"#000000\" points=\"252.0915,-300.6144 242.6619,-295.784 247.0211,-305.4405 252.0915,-300.6144\" stroke=\"#000000\"/>\n",
       "</g>\n",
       "<!-- 140229574819344 -->\n",
       "<g class=\"node\" id=\"node7\">\n",
       "<title>140229574819344</title>\n",
       "<polygon fill=\"none\" points=\"459,-249.5 459,-295.5 900,-295.5 900,-249.5 459,-249.5\" stroke=\"#000000\"/>\n",
       "<text fill=\"#000000\" font-family=\"Times,serif\" font-size=\"14.00\" text-anchor=\"middle\" x=\"600\" y=\"-268.8\">global_max_pooling1d_2: GlobalMaxPooling1D</text>\n",
       "<polyline fill=\"none\" points=\"741,-249.5 741,-295.5 \" stroke=\"#000000\"/>\n",
       "<text fill=\"#000000\" font-family=\"Times,serif\" font-size=\"14.00\" text-anchor=\"middle\" x=\"769\" y=\"-280.3\">input:</text>\n",
       "<polyline fill=\"none\" points=\"741,-272.5 797,-272.5 \" stroke=\"#000000\"/>\n",
       "<text fill=\"#000000\" font-family=\"Times,serif\" font-size=\"14.00\" text-anchor=\"middle\" x=\"769\" y=\"-257.3\">output:</text>\n",
       "<polyline fill=\"none\" points=\"797,-249.5 797,-295.5 \" stroke=\"#000000\"/>\n",
       "<text fill=\"#000000\" font-family=\"Times,serif\" font-size=\"14.00\" text-anchor=\"middle\" x=\"848.5\" y=\"-280.3\">(None, 17, 100)</text>\n",
       "<polyline fill=\"none\" points=\"797,-272.5 900,-272.5 \" stroke=\"#000000\"/>\n",
       "<text fill=\"#000000\" font-family=\"Times,serif\" font-size=\"14.00\" text-anchor=\"middle\" x=\"848.5\" y=\"-257.3\">(None, 100)</text>\n",
       "</g>\n",
       "<!-- 140235984584264&#45;&gt;140229574819344 -->\n",
       "<g class=\"edge\" id=\"edge6\">\n",
       "<title>140235984584264-&gt;140229574819344</title>\n",
       "<path d=\"M679.5,-332.3799C679.5,-324.1745 679.5,-314.7679 679.5,-305.8786\" fill=\"none\" stroke=\"#000000\"/>\n",
       "<polygon fill=\"#000000\" points=\"683.0001,-305.784 679.5,-295.784 676.0001,-305.784 683.0001,-305.784\" stroke=\"#000000\"/>\n",
       "</g>\n",
       "<!-- 140229574272504 -->\n",
       "<g class=\"node\" id=\"node8\">\n",
       "<title>140229574272504</title>\n",
       "<polygon fill=\"none\" points=\"918,-249.5 918,-295.5 1359,-295.5 1359,-249.5 918,-249.5\" stroke=\"#000000\"/>\n",
       "<text fill=\"#000000\" font-family=\"Times,serif\" font-size=\"14.00\" text-anchor=\"middle\" x=\"1059\" y=\"-268.8\">global_max_pooling1d_3: GlobalMaxPooling1D</text>\n",
       "<polyline fill=\"none\" points=\"1200,-249.5 1200,-295.5 \" stroke=\"#000000\"/>\n",
       "<text fill=\"#000000\" font-family=\"Times,serif\" font-size=\"14.00\" text-anchor=\"middle\" x=\"1228\" y=\"-280.3\">input:</text>\n",
       "<polyline fill=\"none\" points=\"1200,-272.5 1256,-272.5 \" stroke=\"#000000\"/>\n",
       "<text fill=\"#000000\" font-family=\"Times,serif\" font-size=\"14.00\" text-anchor=\"middle\" x=\"1228\" y=\"-257.3\">output:</text>\n",
       "<polyline fill=\"none\" points=\"1256,-249.5 1256,-295.5 \" stroke=\"#000000\"/>\n",
       "<text fill=\"#000000\" font-family=\"Times,serif\" font-size=\"14.00\" text-anchor=\"middle\" x=\"1307.5\" y=\"-280.3\">(None, 16, 100)</text>\n",
       "<polyline fill=\"none\" points=\"1256,-272.5 1359,-272.5 \" stroke=\"#000000\"/>\n",
       "<text fill=\"#000000\" font-family=\"Times,serif\" font-size=\"14.00\" text-anchor=\"middle\" x=\"1307.5\" y=\"-257.3\">(None, 100)</text>\n",
       "</g>\n",
       "<!-- 140229574166680&#45;&gt;140229574272504 -->\n",
       "<g class=\"edge\" id=\"edge7\">\n",
       "<title>140229574166680-&gt;140229574272504</title>\n",
       "<path d=\"M1080.7845,-332.3799C1089.5529,-323.2827 1099.7445,-312.7088 1109.1019,-303.0005\" fill=\"none\" stroke=\"#000000\"/>\n",
       "<polygon fill=\"#000000\" points=\"1111.6378,-305.4129 1116.0576,-295.784 1106.5978,-300.5551 1111.6378,-305.4129\" stroke=\"#000000\"/>\n",
       "</g>\n",
       "<!-- 140229574807392 -->\n",
       "<g class=\"node\" id=\"node9\">\n",
       "<title>140229574807392</title>\n",
       "<polygon fill=\"none\" points=\"446,-166.5 446,-212.5 913,-212.5 913,-166.5 446,-166.5\" stroke=\"#000000\"/>\n",
       "<text fill=\"#000000\" font-family=\"Times,serif\" font-size=\"14.00\" text-anchor=\"middle\" x=\"532.5\" y=\"-185.8\">concatenate_1: Concatenate</text>\n",
       "<polyline fill=\"none\" points=\"619,-166.5 619,-212.5 \" stroke=\"#000000\"/>\n",
       "<text fill=\"#000000\" font-family=\"Times,serif\" font-size=\"14.00\" text-anchor=\"middle\" x=\"647\" y=\"-197.3\">input:</text>\n",
       "<polyline fill=\"none\" points=\"619,-189.5 675,-189.5 \" stroke=\"#000000\"/>\n",
       "<text fill=\"#000000\" font-family=\"Times,serif\" font-size=\"14.00\" text-anchor=\"middle\" x=\"647\" y=\"-174.3\">output:</text>\n",
       "<polyline fill=\"none\" points=\"675,-166.5 675,-212.5 \" stroke=\"#000000\"/>\n",
       "<text fill=\"#000000\" font-family=\"Times,serif\" font-size=\"14.00\" text-anchor=\"middle\" x=\"794\" y=\"-197.3\">[(None, 100), (None, 100), (None, 100)]</text>\n",
       "<polyline fill=\"none\" points=\"675,-189.5 913,-189.5 \" stroke=\"#000000\"/>\n",
       "<text fill=\"#000000\" font-family=\"Times,serif\" font-size=\"14.00\" text-anchor=\"middle\" x=\"794\" y=\"-174.3\">(None, 300)</text>\n",
       "</g>\n",
       "<!-- 140229574468496&#45;&gt;140229574807392 -->\n",
       "<g class=\"edge\" id=\"edge8\">\n",
       "<title>140229574468496-&gt;140229574807392</title>\n",
       "<path d=\"M347.7475,-249.4901C408.0641,-238.5832 480.2252,-225.5344 541.8201,-214.3964\" fill=\"none\" stroke=\"#000000\"/>\n",
       "<polygon fill=\"#000000\" points=\"542.7873,-217.7783 552.0049,-212.5547 541.5417,-210.89 542.7873,-217.7783\" stroke=\"#000000\"/>\n",
       "</g>\n",
       "<!-- 140229574819344&#45;&gt;140229574807392 -->\n",
       "<g class=\"edge\" id=\"edge9\">\n",
       "<title>140229574819344-&gt;140229574807392</title>\n",
       "<path d=\"M679.5,-249.3799C679.5,-241.1745 679.5,-231.7679 679.5,-222.8786\" fill=\"none\" stroke=\"#000000\"/>\n",
       "<polygon fill=\"#000000\" points=\"683.0001,-222.784 679.5,-212.784 676.0001,-222.784 683.0001,-222.784\" stroke=\"#000000\"/>\n",
       "</g>\n",
       "<!-- 140229574272504&#45;&gt;140229574807392 -->\n",
       "<g class=\"edge\" id=\"edge10\">\n",
       "<title>140229574272504-&gt;140229574807392</title>\n",
       "<path d=\"M1011.2525,-249.4901C950.9359,-238.5832 878.7748,-225.5344 817.1799,-214.3964\" fill=\"none\" stroke=\"#000000\"/>\n",
       "<polygon fill=\"#000000\" points=\"817.4583,-210.89 806.9951,-212.5547 816.2127,-217.7783 817.4583,-210.89\" stroke=\"#000000\"/>\n",
       "</g>\n",
       "<!-- 140229574815816 -->\n",
       "<g class=\"node\" id=\"node10\">\n",
       "<title>140229574815816</title>\n",
       "<polygon fill=\"none\" points=\"547,-83.5 547,-129.5 812,-129.5 812,-83.5 547,-83.5\" stroke=\"#000000\"/>\n",
       "<text fill=\"#000000\" font-family=\"Times,serif\" font-size=\"14.00\" text-anchor=\"middle\" x=\"610\" y=\"-102.8\">dropout_1: Dropout</text>\n",
       "<polyline fill=\"none\" points=\"673,-83.5 673,-129.5 \" stroke=\"#000000\"/>\n",
       "<text fill=\"#000000\" font-family=\"Times,serif\" font-size=\"14.00\" text-anchor=\"middle\" x=\"701\" y=\"-114.3\">input:</text>\n",
       "<polyline fill=\"none\" points=\"673,-106.5 729,-106.5 \" stroke=\"#000000\"/>\n",
       "<text fill=\"#000000\" font-family=\"Times,serif\" font-size=\"14.00\" text-anchor=\"middle\" x=\"701\" y=\"-91.3\">output:</text>\n",
       "<polyline fill=\"none\" points=\"729,-83.5 729,-129.5 \" stroke=\"#000000\"/>\n",
       "<text fill=\"#000000\" font-family=\"Times,serif\" font-size=\"14.00\" text-anchor=\"middle\" x=\"770.5\" y=\"-114.3\">(None, 300)</text>\n",
       "<polyline fill=\"none\" points=\"729,-106.5 812,-106.5 \" stroke=\"#000000\"/>\n",
       "<text fill=\"#000000\" font-family=\"Times,serif\" font-size=\"14.00\" text-anchor=\"middle\" x=\"770.5\" y=\"-91.3\">(None, 300)</text>\n",
       "</g>\n",
       "<!-- 140229574807392&#45;&gt;140229574815816 -->\n",
       "<g class=\"edge\" id=\"edge11\">\n",
       "<title>140229574807392-&gt;140229574815816</title>\n",
       "<path d=\"M679.5,-166.3799C679.5,-158.1745 679.5,-148.7679 679.5,-139.8786\" fill=\"none\" stroke=\"#000000\"/>\n",
       "<polygon fill=\"#000000\" points=\"683.0001,-139.784 679.5,-129.784 676.0001,-139.784 683.0001,-139.784\" stroke=\"#000000\"/>\n",
       "</g>\n",
       "<!-- 140229573940168 -->\n",
       "<g class=\"node\" id=\"node11\">\n",
       "<title>140229573940168</title>\n",
       "<polygon fill=\"none\" points=\"559,-.5 559,-46.5 800,-46.5 800,-.5 559,-.5\" stroke=\"#000000\"/>\n",
       "<text fill=\"#000000\" font-family=\"Times,serif\" font-size=\"14.00\" text-anchor=\"middle\" x=\"610\" y=\"-19.8\">dense_1: Dense</text>\n",
       "<polyline fill=\"none\" points=\"661,-.5 661,-46.5 \" stroke=\"#000000\"/>\n",
       "<text fill=\"#000000\" font-family=\"Times,serif\" font-size=\"14.00\" text-anchor=\"middle\" x=\"689\" y=\"-31.3\">input:</text>\n",
       "<polyline fill=\"none\" points=\"661,-23.5 717,-23.5 \" stroke=\"#000000\"/>\n",
       "<text fill=\"#000000\" font-family=\"Times,serif\" font-size=\"14.00\" text-anchor=\"middle\" x=\"689\" y=\"-8.3\">output:</text>\n",
       "<polyline fill=\"none\" points=\"717,-.5 717,-46.5 \" stroke=\"#000000\"/>\n",
       "<text fill=\"#000000\" font-family=\"Times,serif\" font-size=\"14.00\" text-anchor=\"middle\" x=\"758.5\" y=\"-31.3\">(None, 300)</text>\n",
       "<polyline fill=\"none\" points=\"717,-23.5 800,-23.5 \" stroke=\"#000000\"/>\n",
       "<text fill=\"#000000\" font-family=\"Times,serif\" font-size=\"14.00\" text-anchor=\"middle\" x=\"758.5\" y=\"-8.3\">(None, 1)</text>\n",
       "</g>\n",
       "<!-- 140229574815816&#45;&gt;140229573940168 -->\n",
       "<g class=\"edge\" id=\"edge12\">\n",
       "<title>140229574815816-&gt;140229573940168</title>\n",
       "<path d=\"M679.5,-83.3799C679.5,-75.1745 679.5,-65.7679 679.5,-56.8786\" fill=\"none\" stroke=\"#000000\"/>\n",
       "<polygon fill=\"#000000\" points=\"683.0001,-56.784 679.5,-46.784 676.0001,-56.784 683.0001,-56.784\" stroke=\"#000000\"/>\n",
       "</g>\n",
       "</g>\n",
       "</svg>"
      ],
      "text/plain": [
       "<IPython.core.display.SVG object>"
      ]
     },
     "execution_count": 6,
     "metadata": {},
     "output_type": "execute_result"
    }
   ],
   "source": [
    "model_rand.summary(85)\n",
    "SVG(model_to_dot(model_rand, show_shapes=True).create(prog='dot', format='svg'))"
   ]
  },
  {
   "cell_type": "markdown",
   "metadata": {},
   "source": [
    "Now we are ready to train the model:"
   ]
  },
  {
   "cell_type": "code",
   "execution_count": 7,
   "metadata": {},
   "outputs": [
    {
     "name": "stdout",
     "output_type": "stream",
     "text": [
      "Train on 1500 samples, validate on 10000 samples\n",
      "Epoch 1/10\n",
      " - 4s - loss: 0.6909 - acc: 0.5367 - val_loss: 0.6852 - val_acc: 0.5851\n",
      "Epoch 2/10\n",
      " - 1s - loss: 0.6249 - acc: 0.7987 - val_loss: 0.6711 - val_acc: 0.6075\n",
      "Epoch 3/10\n",
      " - 1s - loss: 0.5452 - acc: 0.8587 - val_loss: 0.6490 - val_acc: 0.6153\n",
      "Epoch 4/10\n",
      " - 1s - loss: 0.4178 - acc: 0.9160 - val_loss: 0.6254 - val_acc: 0.6370\n",
      "Epoch 5/10\n",
      " - 1s - loss: 0.2730 - acc: 0.9500 - val_loss: 0.6496 - val_acc: 0.6369\n",
      "Epoch 6/10\n",
      " - 1s - loss: 0.1497 - acc: 0.9800 - val_loss: 0.7212 - val_acc: 0.6366\n",
      "Epoch 7/10\n",
      " - 1s - loss: 0.0719 - acc: 0.9967 - val_loss: 0.8382 - val_acc: 0.6312\n",
      "Epoch 8/10\n",
      " - 1s - loss: 0.0356 - acc: 0.9987 - val_loss: 0.9433 - val_acc: 0.6260\n",
      "Epoch 9/10\n",
      " - 1s - loss: 0.0196 - acc: 1.0000 - val_loss: 1.0398 - val_acc: 0.6247\n",
      "Epoch 10/10\n",
      " - 1s - loss: 0.0128 - acc: 1.0000 - val_loss: 1.1185 - val_acc: 0.6224\n"
     ]
    }
   ],
   "source": [
    "num_epochs = 10\n",
    "history_rand = model_rand.fit(x_train, y_train, batch_size=batch_size, epochs=num_epochs,\n",
    "          validation_data=(x_test, y_test), verbose=2)"
   ]
  },
  {
   "cell_type": "markdown",
   "metadata": {},
   "source": [
    "We can visualize the evolution of loss and accuracy for both the training and validation sets:"
   ]
  },
  {
   "cell_type": "code",
   "execution_count": 8,
   "metadata": {},
   "outputs": [
    {
     "data": {
      "text/plain": [
       "Text(0,0.5,'Loss')"
      ]
     },
     "execution_count": 8,
     "metadata": {},
     "output_type": "execute_result"
    },
    {
     "data": {
      "image/png": "[encoded data removed]",
      "text/plain": [
       "<Figure size 432x288 with 1 Axes>"
      ]
     },
     "metadata": {},
     "output_type": "display_data"
    }
   ],
   "source": [
    "pl.plot(history_rand.history['loss'], label='loss')\n",
    "pl.plot(history_rand.history['val_loss'], label='val_loss')\n",
    "pl.legend()\n",
    "pl.xlabel('Epoch')\n",
    "pl.ylabel('Loss')"
   ]
  },
  {
   "cell_type": "code",
   "execution_count": 9,
   "metadata": {},
   "outputs": [
    {
     "data": {
      "text/plain": [
       "Text(0,0.5,'Accuracy')"
      ]
     },
     "execution_count": 9,
     "metadata": {},
     "output_type": "execute_result"
    },
    {
     "data": {
      "image/png": "[encoded data removed]",
      "text/plain": [
       "<Figure size 432x288 with 1 Axes>"
      ]
     },
     "metadata": {},
     "output_type": "display_data"
    }
   ],
   "source": [
    "pl.plot(history_rand.history['acc'], label='acc')\n",
    "pl.plot(history_rand.history['val_acc'], label='val_acc')\n",
    "pl.legend()\n",
    "pl.xlabel('Epoch')\n",
    "pl.ylabel('Accuracy')"
   ]
  },
  {
   "cell_type": "markdown",
   "metadata": {},
   "source": [
    "## CNN-static\n",
    "\n",
    "This model uses word2vec vectors to initialize the embedding. The weights of the embedding are kept fixed so they are not modified by training."
   ]
  },
  {
   "cell_type": "code",
   "execution_count": 10,
   "metadata": {},
   "outputs": [
    {
     "name": "stdout",
     "output_type": "stream",
     "text": [
      "Initializing embedding layer with word2vec weights, shape (88585, 300)\n"
     ]
    }
   ],
   "source": [
    "# Input layer\n",
    "input_shape = (sequence_length,)\n",
    "model_input = Input(shape=input_shape)\n",
    "\n",
    "# Embedding layer\n",
    "embedding_layer = Embedding(len(vocabulary_inv), embedding_dim, input_length=sequence_length, name=\"embedding\")\n",
    "z = embedding_layer(model_input)\n",
    "weights = np.array([embedding_weights[i] for i in range(len(embedding_weights))])\n",
    "print(\"Initializing embedding layer with word2vec weights, shape\", weights.shape)\n",
    "embedding_layer.set_weights([weights])\n",
    "\n",
    "# Weights is embedding layer are not modified during training\n",
    "embedding_layer.trainable = False\n",
    "\n",
    "# Convolutional block\n",
    "conv_blocks = []\n",
    "for sz in filter_sizes:\n",
    "    conv = Convolution1D(filters=num_filters,\n",
    "                         kernel_size=sz,\n",
    "                         padding=\"valid\",\n",
    "                         activation=\"relu\",\n",
    "                         strides=1)(z)\n",
    "    conv = GlobalMaxPooling1D()(conv)\n",
    "    conv_blocks.append(conv)\n",
    "z = Concatenate()(conv_blocks) if len(conv_blocks) > 1 else conv_blocks[0]\n",
    "\n",
    "# Dropout \n",
    "z = Dropout(dropout_prob[1])(z)\n",
    "\n",
    "# Output layer\n",
    "model_output = Dense(1, activation=\"sigmoid\")(z)\n",
    "\n",
    "# Model compilation\n",
    "model_static = Model(model_input, model_output)\n",
    "model_static.compile(loss=\"binary_crossentropy\", optimizer=\"adam\", metrics=[\"accuracy\"])"
   ]
  },
  {
   "cell_type": "code",
   "execution_count": 11,
   "metadata": {
    "scrolled": true
   },
   "outputs": [
    {
     "name": "stdout",
     "output_type": "stream",
     "text": [
      "_____________________________________________________________________________________\n",
      "Layer (type)                Output Shape      Param #   Connected to                 \n",
      "=====================================================================================\n",
      "input_2 (InputLayer)        (None, 20)        0                                      \n",
      "_____________________________________________________________________________________\n",
      "embedding (Embedding)       (None, 20, 300)   26575500  input_2[0][0]                \n",
      "_____________________________________________________________________________________\n",
      "conv1d_4 (Conv1D)           (None, 18, 100)   90100     embedding[0][0]              \n",
      "_____________________________________________________________________________________\n",
      "conv1d_5 (Conv1D)           (None, 17, 100)   120100    embedding[0][0]              \n",
      "_____________________________________________________________________________________\n",
      "conv1d_6 (Conv1D)           (None, 16, 100)   150100    embedding[0][0]              \n",
      "_____________________________________________________________________________________\n",
      "global_max_pooling1d_4 (Glo (None, 100)       0         conv1d_4[0][0]               \n",
      "_____________________________________________________________________________________\n",
      "global_max_pooling1d_5 (Glo (None, 100)       0         conv1d_5[0][0]               \n",
      "_____________________________________________________________________________________\n",
      "global_max_pooling1d_6 (Glo (None, 100)       0         conv1d_6[0][0]               \n",
      "_____________________________________________________________________________________\n",
      "concatenate_2 (Concatenate) (None, 300)       0         global_max_pooling1d_4[0][0] \n",
      "                                                        global_max_pooling1d_5[0][0] \n",
      "                                                        global_max_pooling1d_6[0][0] \n",
      "_____________________________________________________________________________________\n",
      "dropout_2 (Dropout)         (None, 300)       0         concatenate_2[0][0]          \n",
      "_____________________________________________________________________________________\n",
      "dense_2 (Dense)             (None, 1)         301       dropout_2[0][0]              \n",
      "=====================================================================================\n",
      "Total params: 26,936,101\n",
      "Trainable params: 360,601\n",
      "Non-trainable params: 26,575,500\n",
      "_____________________________________________________________________________________\n"
     ]
    }
   ],
   "source": [
    "model_static.summary(85)"
   ]
  },
  {
   "cell_type": "code",
   "execution_count": 12,
   "metadata": {},
   "outputs": [
    {
     "name": "stdout",
     "output_type": "stream",
     "text": [
      "Train on 1500 samples, validate on 10000 samples\n",
      "Epoch 1/10\n",
      " - 0s - loss: 0.6925 - acc: 0.5580 - val_loss: 0.6584 - val_acc: 0.6020\n",
      "Epoch 2/10\n",
      " - 0s - loss: 0.5840 - acc: 0.7013 - val_loss: 0.6420 - val_acc: 0.6298\n",
      "Epoch 3/10\n",
      " - 0s - loss: 0.4991 - acc: 0.8087 - val_loss: 0.6241 - val_acc: 0.6516\n",
      "Epoch 4/10\n",
      " - 0s - loss: 0.4374 - acc: 0.8513 - val_loss: 0.6106 - val_acc: 0.6567\n",
      "Epoch 5/10\n",
      " - 0s - loss: 0.3809 - acc: 0.8893 - val_loss: 0.6047 - val_acc: 0.6617\n",
      "Epoch 6/10\n",
      " - 0s - loss: 0.3269 - acc: 0.9233 - val_loss: 0.6015 - val_acc: 0.6649\n",
      "Epoch 7/10\n",
      " - 0s - loss: 0.2787 - acc: 0.9460 - val_loss: 0.5988 - val_acc: 0.6679\n",
      "Epoch 8/10\n",
      " - 0s - loss: 0.2225 - acc: 0.9747 - val_loss: 0.6081 - val_acc: 0.6638\n",
      "Epoch 9/10\n",
      " - 0s - loss: 0.1953 - acc: 0.9673 - val_loss: 0.6026 - val_acc: 0.6697\n",
      "Epoch 10/10\n",
      " - 0s - loss: 0.1618 - acc: 0.9847 - val_loss: 0.6178 - val_acc: 0.6665\n"
     ]
    }
   ],
   "source": [
    "num_epochs = 10\n",
    "history_static = model_static.fit(x_train, y_train, batch_size=batch_size, epochs=num_epochs,\n",
    "          validation_data=(x_test, y_test), verbose=2)"
   ]
  },
  {
   "cell_type": "code",
   "execution_count": 13,
   "metadata": {},
   "outputs": [
    {
     "data": {
      "text/plain": [
       "Text(0,0.5,'Loss')"
      ]
     },
     "execution_count": 13,
     "metadata": {},
     "output_type": "execute_result"
    },
    {
     "data": {
      "image/png": "[encoded data removed]",
      "text/plain": [
       "<Figure size 432x288 with 1 Axes>"
      ]
     },
     "metadata": {},
     "output_type": "display_data"
    }
   ],
   "source": [
    "pl.plot(history_static.history['loss'], label='loss')\n",
    "pl.plot(history_static.history['val_loss'], label='val_loss')\n",
    "pl.legend()\n",
    "pl.xlabel('Epoch')\n",
    "pl.ylabel('Loss')"
   ]
  },
  {
   "cell_type": "code",
   "execution_count": 14,
   "metadata": {
    "scrolled": true
   },
   "outputs": [
    {
     "data": {
      "text/plain": [
       "Text(0,0.5,'Accuracy')"
      ]
     },
     "execution_count": 14,
     "metadata": {},
     "output_type": "execute_result"
    },
    {
     "data": {
      "image/png": "[encoded data removed]",
      "text/plain": [
       "<Figure size 432x288 with 1 Axes>"
      ]
     },
     "metadata": {},
     "output_type": "display_data"
    }
   ],
   "source": [
    "pl.plot(history_static.history['acc'], label='acc')\n",
    "pl.plot(history_static.history['val_acc'], label='val_acc')\n",
    "pl.legend()\n",
    "pl.xlabel('Epoch')\n",
    "pl.ylabel('Accuracy')"
   ]
  },
  {
   "cell_type": "markdown",
   "metadata": {},
   "source": [
    "## CNN-non-static\n",
    "\n",
    "This model is same as the previous one, but the embedding weights are allowed to change during training."
   ]
  },
  {
   "cell_type": "code",
   "execution_count": 15,
   "metadata": {},
   "outputs": [
    {
     "name": "stdout",
     "output_type": "stream",
     "text": [
      "Initializing embedding layer with word2vec weights, shape (88585, 300)\n"
     ]
    }
   ],
   "source": [
    "# Input layer\n",
    "input_shape = (sequence_length,)\n",
    "model_input = Input(shape=input_shape)\n",
    "\n",
    "# Embedding layer\n",
    "embedding_layer = Embedding(len(vocabulary_inv), embedding_dim, input_length=sequence_length, name=\"embedding\")\n",
    "z = embedding_layer(model_input)\n",
    "weights = np.array([embedding_weights[i] for i in range(len(embedding_weights))])\n",
    "print(\"Initializing embedding layer with word2vec weights, shape\", weights.shape)\n",
    "embedding_layer.set_weights([weights])\n",
    "\n",
    "# Weights is embedding layer are not modified during training\n",
    "embedding_layer.trainable = True\n",
    "\n",
    "# Convolutional block\n",
    "conv_blocks = []\n",
    "for sz in filter_sizes:\n",
    "    conv = Convolution1D(filters=num_filters,\n",
    "                         kernel_size=sz,\n",
    "                         padding=\"valid\",\n",
    "                         activation=\"relu\",\n",
    "                         strides=1)(z)\n",
    "    conv = GlobalMaxPooling1D()(conv)\n",
    "    conv_blocks.append(conv)\n",
    "z = Concatenate()(conv_blocks) if len(conv_blocks) > 1 else conv_blocks[0]\n",
    "\n",
    "# Dropout \n",
    "z = Dropout(dropout_prob[1])(z)\n",
    "\n",
    "# Output layer\n",
    "model_output = Dense(1, activation=\"sigmoid\")(z)\n",
    "\n",
    "# Model compilation\n",
    "model_non_static = Model(model_input, model_output)\n",
    "model_non_static.compile(loss=\"binary_crossentropy\", optimizer=\"adam\", metrics=[\"accuracy\"])"
   ]
  },
  {
   "cell_type": "code",
   "execution_count": 16,
   "metadata": {},
   "outputs": [
    {
     "name": "stdout",
     "output_type": "stream",
     "text": [
      "Train on 1500 samples, validate on 10000 samples\n",
      "Epoch 1/10\n",
      " - 1s - loss: 0.7154 - acc: 0.5220 - val_loss: 0.6668 - val_acc: 0.5905\n",
      "Epoch 2/10\n",
      " - 1s - loss: 0.5600 - acc: 0.7260 - val_loss: 0.6316 - val_acc: 0.6446\n",
      "Epoch 3/10\n",
      " - 1s - loss: 0.4506 - acc: 0.8500 - val_loss: 0.6109 - val_acc: 0.6651\n",
      "Epoch 4/10\n",
      " - 1s - loss: 0.3639 - acc: 0.9080 - val_loss: 0.6027 - val_acc: 0.6683\n",
      "Epoch 5/10\n",
      " - 1s - loss: 0.2713 - acc: 0.9427 - val_loss: 0.6027 - val_acc: 0.6711\n",
      "Epoch 6/10\n",
      " - 1s - loss: 0.1956 - acc: 0.9700 - val_loss: 0.6140 - val_acc: 0.6689\n",
      "Epoch 7/10\n",
      " - 1s - loss: 0.1413 - acc: 0.9873 - val_loss: 0.6282 - val_acc: 0.6735\n",
      "Epoch 8/10\n",
      " - 1s - loss: 0.0983 - acc: 0.9940 - val_loss: 0.6457 - val_acc: 0.6712\n",
      "Epoch 9/10\n",
      " - 1s - loss: 0.0705 - acc: 1.0000 - val_loss: 0.6720 - val_acc: 0.6698\n",
      "Epoch 10/10\n",
      " - 1s - loss: 0.0503 - acc: 0.9993 - val_loss: 0.7051 - val_acc: 0.6694\n"
     ]
    }
   ],
   "source": [
    "num_epochs = 10\n",
    "history_non_static = model_non_static.fit(x_train, y_train, batch_size=batch_size, epochs=num_epochs,\n",
    "          validation_data=(x_test, y_test), verbose=2)"
   ]
  },
  {
   "cell_type": "code",
   "execution_count": 17,
   "metadata": {},
   "outputs": [
    {
     "data": {
      "text/plain": [
       "Text(0,0.5,'Loss')"
      ]
     },
     "execution_count": 17,
     "metadata": {},
     "output_type": "execute_result"
    },
    {
     "data": {
      "image/png": "[encoded data removed]",
      "text/plain": [
       "<Figure size 432x288 with 1 Axes>"
      ]
     },
     "metadata": {},
     "output_type": "display_data"
    }
   ],
   "source": [
    "pl.plot(history_non_static.history['loss'], label='loss')\n",
    "pl.plot(history_non_static.history['val_loss'], label='val_loss')\n",
    "pl.legend()\n",
    "pl.xlabel('Epoch')\n",
    "pl.ylabel('Loss')"
   ]
  },
  {
   "cell_type": "code",
   "execution_count": 18,
   "metadata": {
    "scrolled": true
   },
   "outputs": [
    {
     "data": {
      "text/plain": [
       "Text(0,0.5,'Accuracy')"
      ]
     },
     "execution_count": 18,
     "metadata": {},
     "output_type": "execute_result"
    },
    {
     "data": {
      "image/png": "[encoded data removed]",
      "text/plain": [
       "<Figure size 432x288 with 1 Axes>"
      ]
     },
     "metadata": {},
     "output_type": "display_data"
    }
   ],
   "source": [
    "pl.plot(history_non_static.history['acc'], label='acc')\n",
    "pl.plot(history_non_static.history['val_acc'], label='val_acc')\n",
    "pl.legend()\n",
    "pl.xlabel('Epoch')\n",
    "pl.ylabel('Accuracy')"
   ]
  },
  {
   "cell_type": "code",
   "execution_count": 19,
   "metadata": {},
   "outputs": [
    {
     "data": {
      "text/plain": [
       "Text(0,0.5,'Validation Accuracy')"
      ]
     },
     "execution_count": 19,
     "metadata": {},
     "output_type": "execute_result"
    },
    {
     "data": {
      "image/png": "[encoded data removed]",
      "text/plain": [
       "<Figure size 432x288 with 1 Axes>"
      ]
     },
     "metadata": {},
     "output_type": "display_data"
    }
   ],
   "source": [
    "pl.plot(history_rand.history['val_acc'], label='rand')\n",
    "pl.plot(history_static.history['val_acc'], label='static')\n",
    "pl.plot(history_non_static.history['val_acc'], label='non_static')\n",
    "pl.legend()\n",
    "pl.xlabel('Epoch')\n",
    "pl.ylabel('Validation Accuracy')"
   ]
  },
  {
   "cell_type": "markdown",
   "metadata": {},
   "source": [
    "The word2vec initialization gives a boost of around 4%. Allowing the embedding to fine tune has a small advantage.\n",
    "## Increasing the data\n",
    "\n",
    "Now, we will increase the amount of data for training to 25000 samples."
   ]
  },
  {
   "cell_type": "code",
   "execution_count": 20,
   "metadata": {},
   "outputs": [],
   "source": [
    "from keras import backend as K\n",
    "\n",
    "def re_initialize(model):\n",
    "    session = K.get_session()\n",
    "    for layer in model.layers: \n",
    "         for v in layer.__dict__:\n",
    "             v_arg = getattr(layer,v)\n",
    "             if hasattr(v_arg,'initializer'):\n",
    "                 initializer_method = getattr(v_arg, 'initializer')\n",
    "                 initializer_method.run(session=session)\n",
    "                 print('reinitializing layer {}.{}'.format(layer.name, v))"
   ]
  },
  {
   "cell_type": "code",
   "execution_count": 21,
   "metadata": {},
   "outputs": [
    {
     "name": "stdout",
     "output_type": "stream",
     "text": [
      "x_train shape: (25000, 20)\n",
      "x_test shape: (10000, 20)\n",
      "Vocabulary Size: 88585\n"
     ]
    }
   ],
   "source": [
    "(x_train, y_train), (x_test, y_test) = imdb.load_data(num_words=max_words, start_char=None,\n",
    "                                                      oov_char=None, index_from=None)\n",
    "\n",
    "x_test = x_test[:10000]\n",
    "y_test = y_test[:10000]\n",
    "\n",
    "x_train = sequence.pad_sequences(x_train, maxlen=sequence_length, padding=\"post\", truncating=\"post\")\n",
    "x_test = sequence.pad_sequences(x_test, maxlen=sequence_length, padding=\"post\", truncating=\"post\")\n",
    "\n",
    "vocabulary = imdb.get_word_index()\n",
    "vocabulary_inv = dict((v, k) for k, v in vocabulary.items())\n",
    "vocabulary_inv[0] = \"<PAD/>\"\n",
    "\n",
    "print(\"x_train shape:\", x_train.shape)\n",
    "print(\"x_test shape:\", x_test.shape)\n",
    "print(\"Vocabulary Size: {:d}\".format(len(vocabulary_inv)))\n"
   ]
  },
  {
   "cell_type": "code",
   "execution_count": 22,
   "metadata": {},
   "outputs": [
    {
     "name": "stdout",
     "output_type": "stream",
     "text": [
      "reinitializing layer embedding.embeddings\n",
      "reinitializing layer conv1d_1.kernel\n",
      "reinitializing layer conv1d_1.bias\n",
      "reinitializing layer conv1d_2.kernel\n",
      "reinitializing layer conv1d_2.bias\n",
      "reinitializing layer conv1d_3.kernel\n",
      "reinitializing layer conv1d_3.bias\n",
      "reinitializing layer dense_1.kernel\n",
      "reinitializing layer dense_1.bias\n",
      "Train on 25000 samples, validate on 10000 samples\n",
      "Epoch 1/10\n",
      " - 6s - loss: 0.5939 - acc: 0.6696 - val_loss: 0.5546 - val_acc: 0.7060\n",
      "Epoch 2/10\n",
      " - 6s - loss: 0.4696 - acc: 0.7742 - val_loss: 0.5659 - val_acc: 0.7059\n",
      "Epoch 3/10\n",
      " - 6s - loss: 0.3750 - acc: 0.8331 - val_loss: 0.5967 - val_acc: 0.6927\n",
      "Epoch 4/10\n",
      " - 6s - loss: 0.2695 - acc: 0.8924 - val_loss: 0.7009 - val_acc: 0.6881\n",
      "Epoch 5/10\n",
      " - 6s - loss: 0.1692 - acc: 0.9380 - val_loss: 0.8607 - val_acc: 0.6866\n",
      "Epoch 6/10\n",
      " - 6s - loss: 0.1075 - acc: 0.9642 - val_loss: 0.9890 - val_acc: 0.6796\n",
      "Epoch 7/10\n",
      " - 6s - loss: 0.0716 - acc: 0.9780 - val_loss: 1.1377 - val_acc: 0.6817\n",
      "Epoch 8/10\n",
      " - 6s - loss: 0.0494 - acc: 0.9856 - val_loss: 1.2470 - val_acc: 0.6765\n",
      "Epoch 9/10\n",
      " - 6s - loss: 0.0392 - acc: 0.9891 - val_loss: 1.4175 - val_acc: 0.6749\n",
      "Epoch 10/10\n",
      " - 6s - loss: 0.0348 - acc: 0.9892 - val_loss: 1.4680 - val_acc: 0.6707\n"
     ]
    }
   ],
   "source": [
    "num_epochs = 10\n",
    "re_initialize(model_rand)\n",
    "history_rand = model_rand.fit(x_train, y_train, batch_size=batch_size, epochs=num_epochs,\n",
    "          validation_data=(x_test, y_test), verbose=2)"
   ]
  },
  {
   "cell_type": "code",
   "execution_count": 23,
   "metadata": {},
   "outputs": [
    {
     "name": "stdout",
     "output_type": "stream",
     "text": [
      "reinitializing layer embedding.embeddings\n",
      "reinitializing layer conv1d_4.kernel\n",
      "reinitializing layer conv1d_4.bias\n",
      "reinitializing layer conv1d_5.kernel\n",
      "reinitializing layer conv1d_5.bias\n",
      "reinitializing layer conv1d_6.kernel\n",
      "reinitializing layer conv1d_6.bias\n",
      "reinitializing layer dense_2.kernel\n",
      "reinitializing layer dense_2.bias\n",
      "Train on 25000 samples, validate on 10000 samples\n",
      "Epoch 1/10\n",
      " - 2s - loss: 0.6082 - acc: 0.6570 - val_loss: 0.5668 - val_acc: 0.6935\n",
      "Epoch 2/10\n",
      " - 2s - loss: 0.5375 - acc: 0.7241 - val_loss: 0.5591 - val_acc: 0.7002\n",
      "Epoch 3/10\n",
      " - 2s - loss: 0.5016 - acc: 0.7502 - val_loss: 0.5554 - val_acc: 0.7034\n",
      "Epoch 4/10\n",
      " - 2s - loss: 0.4640 - acc: 0.7761 - val_loss: 0.5575 - val_acc: 0.7027\n",
      "Epoch 5/10\n",
      " - 2s - loss: 0.4263 - acc: 0.8047 - val_loss: 0.5621 - val_acc: 0.7015\n",
      "Epoch 6/10\n",
      " - 2s - loss: 0.3776 - acc: 0.8333 - val_loss: 0.5684 - val_acc: 0.7026\n",
      "Epoch 7/10\n",
      " - 2s - loss: 0.3425 - acc: 0.8519 - val_loss: 0.5827 - val_acc: 0.7018\n",
      "Epoch 8/10\n",
      " - 2s - loss: 0.2979 - acc: 0.8784 - val_loss: 0.5939 - val_acc: 0.7026\n",
      "Epoch 9/10\n",
      " - 2s - loss: 0.2646 - acc: 0.8962 - val_loss: 0.6187 - val_acc: 0.6958\n",
      "Epoch 10/10\n",
      " - 2s - loss: 0.2385 - acc: 0.9055 - val_loss: 0.6354 - val_acc: 0.6941\n"
     ]
    }
   ],
   "source": [
    "num_epochs = 10\n",
    "re_initialize(model_static)\n",
    "embedding_layer = model_static.get_layer(\"embedding\")\n",
    "embedding_layer.set_weights([weights])\n",
    "history_static = model_static.fit(x_train, y_train, batch_size=batch_size, epochs=num_epochs,\n",
    "          validation_data=(x_test, y_test), verbose=2)"
   ]
  },
  {
   "cell_type": "code",
   "execution_count": 24,
   "metadata": {},
   "outputs": [
    {
     "name": "stdout",
     "output_type": "stream",
     "text": [
      "reinitializing layer embedding.embeddings\n",
      "reinitializing layer conv1d_7.kernel\n",
      "reinitializing layer conv1d_7.bias\n",
      "reinitializing layer conv1d_8.kernel\n",
      "reinitializing layer conv1d_8.bias\n",
      "reinitializing layer conv1d_9.kernel\n",
      "reinitializing layer conv1d_9.bias\n",
      "reinitializing layer dense_3.kernel\n",
      "reinitializing layer dense_3.bias\n",
      "Train on 25000 samples, validate on 10000 samples\n",
      "Epoch 1/10\n",
      " - 7s - loss: 0.5854 - acc: 0.6808 - val_loss: 0.5435 - val_acc: 0.7131\n",
      "Epoch 2/10\n",
      " - 7s - loss: 0.4673 - acc: 0.7755 - val_loss: 0.5487 - val_acc: 0.7138\n",
      "Epoch 3/10\n",
      " - 7s - loss: 0.3924 - acc: 0.8234 - val_loss: 0.5728 - val_acc: 0.7061\n",
      "Epoch 4/10\n",
      " - 6s - loss: 0.3119 - acc: 0.8699 - val_loss: 0.6218 - val_acc: 0.7021\n",
      "Epoch 5/10\n",
      " - 6s - loss: 0.2292 - acc: 0.9126 - val_loss: 0.7038 - val_acc: 0.6975\n",
      "Epoch 6/10\n",
      " - 6s - loss: 0.1622 - acc: 0.9427 - val_loss: 0.7741 - val_acc: 0.6923\n",
      "Epoch 7/10\n",
      " - 6s - loss: 0.1094 - acc: 0.9633 - val_loss: 0.9104 - val_acc: 0.6965\n",
      "Epoch 8/10\n",
      " - 6s - loss: 0.0785 - acc: 0.9761 - val_loss: 0.9752 - val_acc: 0.6909\n",
      "Epoch 9/10\n",
      " - 6s - loss: 0.0640 - acc: 0.9800 - val_loss: 1.0802 - val_acc: 0.6880\n",
      "Epoch 10/10\n",
      " - 6s - loss: 0.0485 - acc: 0.9852 - val_loss: 1.1478 - val_acc: 0.6857\n"
     ]
    }
   ],
   "source": [
    "num_epochs = 10\n",
    "re_initialize(model_non_static)\n",
    "embedding_layer = model_non_static.get_layer(\"embedding\")\n",
    "embedding_layer.set_weights([weights])\n",
    "history_non_static = model_non_static.fit(x_train, y_train, batch_size=batch_size, epochs=num_epochs,\n",
    "          validation_data=(x_test, y_test), verbose=2)"
   ]
  },
  {
   "cell_type": "code",
   "execution_count": 25,
   "metadata": {},
   "outputs": [
    {
     "data": {
      "text/plain": [
       "Text(0,0.5,'Validation Accuracy')"
      ]
     },
     "execution_count": 25,
     "metadata": {},
     "output_type": "execute_result"
    },
    {
     "data": {
      "image/png": "[encoded data removed]",
      "text/plain": [
       "<Figure size 432x288 with 1 Axes>"
      ]
     },
     "metadata": {},
     "output_type": "display_data"
    }
   ],
   "source": [
    "pl.plot(history_rand.history['val_acc'], label='rand')\n",
    "pl.plot(history_static.history['val_acc'], label='static')\n",
    "pl.plot(history_non_static.history['val_acc'], label='non_static')\n",
    "pl.legend()\n",
    "pl.xlabel('Epoch')\n",
    "pl.ylabel('Validation Accuracy')"
   ]
  },
  {
   "cell_type": "markdown",
   "metadata": {},
   "source": [
    "The rand and non_static models overfit. There is not a clear advantage on using word2vec vectors to initialize weights."
   ]
  },
  {
   "cell_type": "code",
   "execution_count": null,
   "metadata": {},
   "outputs": [],
   "source": []
  }
 ],
 "metadata": {
  "kernelspec": {
   "display_name": "Python [conda env:ml]",
   "language": "python",
   "name": "conda-env-ml-py"
  },
  "language_info": {
   "codemirror_mode": {
    "name": "ipython",
    "version": 3
   },
   "file_extension": ".py",
   "mimetype": "text/x-python",
   "name": "python",
   "nbconvert_exporter": "python",
   "pygments_lexer": "ipython3",
   "version": "3.6.5"
  }
 },
 "nbformat": 4,
 "nbformat_minor": 2
}
