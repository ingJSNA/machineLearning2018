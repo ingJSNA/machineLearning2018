{
 "cells": [
  {
   "cell_type": "markdown",
   "metadata": {},
   "source": [
    "# CNN for text classification handout\n",
    "## [COSC 7336 Advanced Natural Language Processing](https://fagonzalezo.github.io/dl-tau-2017-2/)"
   ]
  },
  {
   "cell_type": "code",
   "execution_count": 1,
   "metadata": {},
   "outputs": [
    {
     "name": "stderr",
     "output_type": "stream",
     "text": [
      "Using TensorFlow backend.\n"
     ]
    }
   ],
   "source": [
    "import numpy as np\n",
    "import pylab as pl\n",
    "from IPython.display import SVG\n",
    "from os.path import join, exists, split\n",
    "import os\n",
    "\n",
    "from gensim.models import word2vec, KeyedVectors\n",
    "\n",
    "\n",
    "from keras.models import Sequential, Model\n",
    "from keras.layers import Dense, Dropout, Flatten, Input, MaxPooling1D, Convolution1D, Embedding, GlobalMaxPooling1D\n",
    "from keras.layers.merge import Concatenate\n",
    "from keras.datasets import imdb\n",
    "from keras.preprocessing import sequence\n",
    "from keras.utils.vis_utils import model_to_dot\n",
    "\n",
    "%matplotlib inline"
   ]
  },
  {
   "cell_type": "markdown",
   "metadata": {},
   "source": [
    "We will build the model presented in [Kim2014] using Keras. The code is based on the code from Alexander Rakhlin (https://github.com/alexander-rakhlin/CNN-for-Sentence-Classification-in-Keras). \n",
    "\n",
    "The model is depicted in the next figure:\n",
    "\n",
    "[Kim2014] Kim, Y. (2014). [Convolutional neural networks for sentence classification](https://arxiv.org/abs/1408.5882). arXiv preprint arXiv:1408.5882\n",
    "\n",
    "![CNN model](kim2014cnn.jpg \"cnn model\")\n",
    "\n",
    "First we define some general parameters"
   ]
  },
  {
   "cell_type": "code",
   "execution_count": 25,
   "metadata": {
    "collapsed": true
   },
   "outputs": [],
   "source": [
    "# Model Hyperparameters\n",
    "embedding_dim = 300\n",
    "filter_sizes = (3, 4, 5 )\n",
    "num_filters = 100\n",
    "dropout_prob = (0.0, 0.5)\n",
    "\n",
    "# Training parameters\n",
    "batch_size = 64\n",
    "num_epochs = 10\n",
    "\n",
    "# Prepossessing parameters\n",
    "sequence_length = 20\n",
    "max_words = 5000\n",
    "\n",
    "# Word2Vec parameters \n",
    "min_word_count = 1\n",
    "context = 10"
   ]
  },
  {
   "cell_type": "markdown",
   "metadata": {},
   "source": [
    "We will use the the IMDB dataset provided by Keras. However, we will use only 1500 samples for training and 10000 for testing. "
   ]
  },
  {
   "cell_type": "code",
   "execution_count": 26,
   "metadata": {},
   "outputs": [
    {
     "name": "stdout",
     "output_type": "stream",
     "text": [
      "x_train shape: (1500, 20)\n",
      "x_test shape: (10000, 20)\n",
      "Vocabulary Size: 88585\n"
     ]
    }
   ],
   "source": [
    "(x_train, y_train), (x_test, y_test) = imdb.load_data(num_words=max_words, start_char=None,\n",
    "                                                      oov_char=None, index_from=None)\n",
    "x_train = x_train[:1500]\n",
    "y_train = y_train[:1500]\n",
    "x_test = x_test[:10000]\n",
    "y_test = y_test[:10000]\n",
    "\n",
    "x_train = sequence.pad_sequences(x_train, maxlen=sequence_length, padding=\"post\", truncating=\"post\")\n",
    "x_test = sequence.pad_sequences(x_test, maxlen=sequence_length, padding=\"post\", truncating=\"post\")\n",
    "\n",
    "vocabulary = imdb.get_word_index()\n",
    "vocabulary_inv = dict((v, k) for k, v in vocabulary.items())\n",
    "vocabulary_inv[0] = \"<PAD/>\"\n",
    "\n",
    "print(\"x_train shape:\", x_train.shape)\n",
    "print(\"x_test shape:\", x_test.shape)\n",
    "print(\"Vocabulary Size: {:d}\".format(len(vocabulary_inv)))\n"
   ]
  },
  {
   "cell_type": "markdown",
   "metadata": {},
   "source": [
    "As described in the paper, one of the models uses a pretrained word2vec model to initialize the weights of the embedding layer. The pretrained model can be obtained from: https://drive.google.com/file/d/0B7XkCwpI5KDYNlNUTTlSS21pQmM/edit?usp=sharing"
   ]
  },
  {
   "cell_type": "code",
   "execution_count": 4,
   "metadata": {
    "collapsed": true
   },
   "outputs": [],
   "source": [
    "embedding_model = KeyedVectors.load_word2vec_format('GNvectors.bin', binary=True)\n",
    "embedding_weights = {key: embedding_model[word] if word in embedding_model else\n",
    "                          np.random.uniform(-0.25, 0.25, embedding_model.vector_size)\n",
    "                     for key, word in vocabulary_inv.items()}"
   ]
  },
  {
   "cell_type": "markdown",
   "metadata": {},
   "source": [
    "## CNN-rand \n",
    "\n",
    "The first model we will try is where all words are randomly initialized and then modified during training."
   ]
  },
  {
   "cell_type": "code",
   "execution_count": 27,
   "metadata": {
    "collapsed": true
   },
   "outputs": [],
   "source": [
    "# Input layer\n",
    "input_shape = (sequence_length,)\n",
    "model_input = Input(shape=input_shape)\n",
    "\n",
    "# Embedding layer\n",
    "embedding_layer = Embedding(len(vocabulary_inv), embedding_dim, input_length=sequence_length, name=\"embedding\")\n",
    "z = embedding_layer(model_input)\n",
    "\n",
    "# Convolutional block\n",
    "conv_blocks = []\n",
    "for sz in filter_sizes:\n",
    "    conv = Convolution1D(filters=num_filters,\n",
    "                         kernel_size=sz,\n",
    "                         padding=\"valid\",\n",
    "                         activation=\"relu\",\n",
    "                         strides=1)(z)\n",
    "    conv = GlobalMaxPooling1D()(conv)\n",
    "    conv_blocks.append(conv)\n",
    "z = Concatenate()(conv_blocks) if len(conv_blocks) > 1 else conv_blocks[0]\n",
    "\n",
    "# Dropout \n",
    "z = Dropout(dropout_prob[1])(z)\n",
    "\n",
    "# Output layer\n",
    "model_output = Dense(1, activation=\"sigmoid\")(z)\n",
    "\n",
    "# Model compilation\n",
    "model_rand = Model(model_input, model_output)\n",
    "model_rand.compile(loss=\"binary_crossentropy\", optimizer=\"adam\", metrics=[\"accuracy\"])"
   ]
  },
  {
   "cell_type": "markdown",
   "metadata": {},
   "source": [
    "We can visualize the structure of the model:"
   ]
  },
  {
   "cell_type": "code",
   "execution_count": 92,
   "metadata": {},
   "outputs": [
    {
     "name": "stdout",
     "output_type": "stream",
     "text": [
      "_____________________________________________________________________________________\n",
      "Layer (type)                Output Shape      Param #   Connected to                 \n",
      "=====================================================================================\n",
      "input_4 (InputLayer)        (None, 20)        0                                      \n",
      "_____________________________________________________________________________________\n",
      "embedding (Embedding)       (None, 20, 300)   26575500  input_4[0][0]                \n",
      "_____________________________________________________________________________________\n",
      "conv1d_10 (Conv1D)          (None, 18, 100)   90100     embedding[0][0]              \n",
      "_____________________________________________________________________________________\n",
      "conv1d_11 (Conv1D)          (None, 17, 100)   120100    embedding[0][0]              \n",
      "_____________________________________________________________________________________\n",
      "conv1d_12 (Conv1D)          (None, 16, 100)   150100    embedding[0][0]              \n",
      "_____________________________________________________________________________________\n",
      "global_max_pooling1d_10 (Gl (None, 100)       0         conv1d_10[0][0]              \n",
      "_____________________________________________________________________________________\n",
      "global_max_pooling1d_11 (Gl (None, 100)       0         conv1d_11[0][0]              \n",
      "_____________________________________________________________________________________\n",
      "global_max_pooling1d_12 (Gl (None, 100)       0         conv1d_12[0][0]              \n",
      "_____________________________________________________________________________________\n",
      "concatenate_4 (Concatenate) (None, 300)       0         global_max_pooling1d_10[0][0]\n",
      "                                                        global_max_pooling1d_11[0][0]\n",
      "                                                        global_max_pooling1d_12[0][0]\n",
      "_____________________________________________________________________________________\n",
      "dropout_4 (Dropout)         (None, 300)       0         concatenate_4[0][0]          \n",
      "_____________________________________________________________________________________\n",
      "dense_4 (Dense)             (None, 1)         301       dropout_4[0][0]              \n",
      "=====================================================================================\n",
      "Total params: 26,936,101\n",
      "Trainable params: 26,936,101\n",
      "Non-trainable params: 0\n",
      "_____________________________________________________________________________________\n"
     ]
    },
    {
     "data": {
      "image/svg+xml": [
       "<svg height=\"553pt\" viewBox=\"0.00 0.00 1394.00 553.00\" width=\"1394pt\" xmlns=\"http://www.w3.org/2000/svg\" xmlns:xlink=\"http://www.w3.org/1999/xlink\">\n",
       "<g class=\"graph\" id=\"graph0\" transform=\"scale(1 1) rotate(0) translate(4 549)\">\n",
       "<title>G</title>\n",
       "<polygon fill=\"white\" points=\"-4,4 -4,-549 1390,-549 1390,4 -4,4\" stroke=\"none\"/>\n",
       "<!-- 140546557289304 -->\n",
       "<g class=\"node\" id=\"node1\"><title>140546557289304</title>\n",
       "<polygon fill=\"none\" points=\"565,-498.5 565,-544.5 821,-544.5 821,-498.5 565,-498.5\" stroke=\"black\"/>\n",
       "<text font-family=\"Times,serif\" font-size=\"14.00\" text-anchor=\"middle\" x=\"627.5\" y=\"-517.8\">input_4: InputLayer</text>\n",
       "<polyline fill=\"none\" points=\"690,-498.5 690,-544.5 \" stroke=\"black\"/>\n",
       "<text font-family=\"Times,serif\" font-size=\"14.00\" text-anchor=\"middle\" x=\"717.5\" y=\"-529.3\">input:</text>\n",
       "<polyline fill=\"none\" points=\"690,-521.5 745,-521.5 \" stroke=\"black\"/>\n",
       "<text font-family=\"Times,serif\" font-size=\"14.00\" text-anchor=\"middle\" x=\"717.5\" y=\"-506.3\">output:</text>\n",
       "<polyline fill=\"none\" points=\"745,-498.5 745,-544.5 \" stroke=\"black\"/>\n",
       "<text font-family=\"Times,serif\" font-size=\"14.00\" text-anchor=\"middle\" x=\"783\" y=\"-529.3\">(None, 20)</text>\n",
       "<polyline fill=\"none\" points=\"745,-521.5 821,-521.5 \" stroke=\"black\"/>\n",
       "<text font-family=\"Times,serif\" font-size=\"14.00\" text-anchor=\"middle\" x=\"783\" y=\"-506.3\">(None, 20)</text>\n",
       "</g>\n",
       "<!-- 140546557289360 -->\n",
       "<g class=\"node\" id=\"node2\"><title>140546557289360</title>\n",
       "<polygon fill=\"none\" points=\"539.5,-415.5 539.5,-461.5 846.5,-461.5 846.5,-415.5 539.5,-415.5\" stroke=\"black\"/>\n",
       "<text font-family=\"Times,serif\" font-size=\"14.00\" text-anchor=\"middle\" x=\"613.5\" y=\"-434.8\">embedding: Embedding</text>\n",
       "<polyline fill=\"none\" points=\"687.5,-415.5 687.5,-461.5 \" stroke=\"black\"/>\n",
       "<text font-family=\"Times,serif\" font-size=\"14.00\" text-anchor=\"middle\" x=\"715\" y=\"-446.3\">input:</text>\n",
       "<polyline fill=\"none\" points=\"687.5,-438.5 742.5,-438.5 \" stroke=\"black\"/>\n",
       "<text font-family=\"Times,serif\" font-size=\"14.00\" text-anchor=\"middle\" x=\"715\" y=\"-423.3\">output:</text>\n",
       "<polyline fill=\"none\" points=\"742.5,-415.5 742.5,-461.5 \" stroke=\"black\"/>\n",
       "<text font-family=\"Times,serif\" font-size=\"14.00\" text-anchor=\"middle\" x=\"794.5\" y=\"-446.3\">(None, 20)</text>\n",
       "<polyline fill=\"none\" points=\"742.5,-438.5 846.5,-438.5 \" stroke=\"black\"/>\n",
       "<text font-family=\"Times,serif\" font-size=\"14.00\" text-anchor=\"middle\" x=\"794.5\" y=\"-423.3\">(None, 20, 300)</text>\n",
       "</g>\n",
       "<!-- 140546557289304&#45;&gt;140546557289360 -->\n",
       "<g class=\"edge\" id=\"edge1\"><title>140546557289304-&gt;140546557289360</title>\n",
       "<path d=\"M693,-498.366C693,-490.152 693,-480.658 693,-471.725\" fill=\"none\" stroke=\"black\"/>\n",
       "<polygon fill=\"black\" points=\"696.5,-471.607 693,-461.607 689.5,-471.607 696.5,-471.607\" stroke=\"black\"/>\n",
       "</g>\n",
       "<!-- 140546557288856 -->\n",
       "<g class=\"node\" id=\"node3\"><title>140546557288856</title>\n",
       "<polygon fill=\"none\" points=\"160.5,-332.5 160.5,-378.5 449.5,-378.5 449.5,-332.5 160.5,-332.5\" stroke=\"black\"/>\n",
       "<text font-family=\"Times,serif\" font-size=\"14.00\" text-anchor=\"middle\" x=\"225.5\" y=\"-351.8\">conv1d_10: Conv1D</text>\n",
       "<polyline fill=\"none\" points=\"290.5,-332.5 290.5,-378.5 \" stroke=\"black\"/>\n",
       "<text font-family=\"Times,serif\" font-size=\"14.00\" text-anchor=\"middle\" x=\"318\" y=\"-363.3\">input:</text>\n",
       "<polyline fill=\"none\" points=\"290.5,-355.5 345.5,-355.5 \" stroke=\"black\"/>\n",
       "<text font-family=\"Times,serif\" font-size=\"14.00\" text-anchor=\"middle\" x=\"318\" y=\"-340.3\">output:</text>\n",
       "<polyline fill=\"none\" points=\"345.5,-332.5 345.5,-378.5 \" stroke=\"black\"/>\n",
       "<text font-family=\"Times,serif\" font-size=\"14.00\" text-anchor=\"middle\" x=\"397.5\" y=\"-363.3\">(None, 20, 300)</text>\n",
       "<polyline fill=\"none\" points=\"345.5,-355.5 449.5,-355.5 \" stroke=\"black\"/>\n",
       "<text font-family=\"Times,serif\" font-size=\"14.00\" text-anchor=\"middle\" x=\"397.5\" y=\"-340.3\">(None, 18, 100)</text>\n",
       "</g>\n",
       "<!-- 140546557289360&#45;&gt;140546557288856 -->\n",
       "<g class=\"edge\" id=\"edge2\"><title>140546557289360-&gt;140546557288856</title>\n",
       "<path d=\"M587.49,-415.473C535.84,-404.691 473.54,-391.685 420.602,-380.633\" fill=\"none\" stroke=\"black\"/>\n",
       "<polygon fill=\"black\" points=\"420.993,-377.14 410.489,-378.522 419.563,-383.992 420.993,-377.14\" stroke=\"black\"/>\n",
       "</g>\n",
       "<!-- 140546557814768 -->\n",
       "<g class=\"node\" id=\"node4\"><title>140546557814768</title>\n",
       "<polygon fill=\"none\" points=\"548.5,-332.5 548.5,-378.5 837.5,-378.5 837.5,-332.5 548.5,-332.5\" stroke=\"black\"/>\n",
       "<text font-family=\"Times,serif\" font-size=\"14.00\" text-anchor=\"middle\" x=\"613.5\" y=\"-351.8\">conv1d_11: Conv1D</text>\n",
       "<polyline fill=\"none\" points=\"678.5,-332.5 678.5,-378.5 \" stroke=\"black\"/>\n",
       "<text font-family=\"Times,serif\" font-size=\"14.00\" text-anchor=\"middle\" x=\"706\" y=\"-363.3\">input:</text>\n",
       "<polyline fill=\"none\" points=\"678.5,-355.5 733.5,-355.5 \" stroke=\"black\"/>\n",
       "<text font-family=\"Times,serif\" font-size=\"14.00\" text-anchor=\"middle\" x=\"706\" y=\"-340.3\">output:</text>\n",
       "<polyline fill=\"none\" points=\"733.5,-332.5 733.5,-378.5 \" stroke=\"black\"/>\n",
       "<text font-family=\"Times,serif\" font-size=\"14.00\" text-anchor=\"middle\" x=\"785.5\" y=\"-363.3\">(None, 20, 300)</text>\n",
       "<polyline fill=\"none\" points=\"733.5,-355.5 837.5,-355.5 \" stroke=\"black\"/>\n",
       "<text font-family=\"Times,serif\" font-size=\"14.00\" text-anchor=\"middle\" x=\"785.5\" y=\"-340.3\">(None, 17, 100)</text>\n",
       "</g>\n",
       "<!-- 140546557289360&#45;&gt;140546557814768 -->\n",
       "<g class=\"edge\" id=\"edge3\"><title>140546557289360-&gt;140546557814768</title>\n",
       "<path d=\"M693,-415.366C693,-407.152 693,-397.658 693,-388.725\" fill=\"none\" stroke=\"black\"/>\n",
       "<polygon fill=\"black\" points=\"696.5,-388.607 693,-378.607 689.5,-388.607 696.5,-388.607\" stroke=\"black\"/>\n",
       "</g>\n",
       "<!-- 140537407881904 -->\n",
       "<g class=\"node\" id=\"node5\"><title>140537407881904</title>\n",
       "<polygon fill=\"none\" points=\"935.5,-332.5 935.5,-378.5 1224.5,-378.5 1224.5,-332.5 935.5,-332.5\" stroke=\"black\"/>\n",
       "<text font-family=\"Times,serif\" font-size=\"14.00\" text-anchor=\"middle\" x=\"1000.5\" y=\"-351.8\">conv1d_12: Conv1D</text>\n",
       "<polyline fill=\"none\" points=\"1065.5,-332.5 1065.5,-378.5 \" stroke=\"black\"/>\n",
       "<text font-family=\"Times,serif\" font-size=\"14.00\" text-anchor=\"middle\" x=\"1093\" y=\"-363.3\">input:</text>\n",
       "<polyline fill=\"none\" points=\"1065.5,-355.5 1120.5,-355.5 \" stroke=\"black\"/>\n",
       "<text font-family=\"Times,serif\" font-size=\"14.00\" text-anchor=\"middle\" x=\"1093\" y=\"-340.3\">output:</text>\n",
       "<polyline fill=\"none\" points=\"1120.5,-332.5 1120.5,-378.5 \" stroke=\"black\"/>\n",
       "<text font-family=\"Times,serif\" font-size=\"14.00\" text-anchor=\"middle\" x=\"1172.5\" y=\"-363.3\">(None, 20, 300)</text>\n",
       "<polyline fill=\"none\" points=\"1120.5,-355.5 1224.5,-355.5 \" stroke=\"black\"/>\n",
       "<text font-family=\"Times,serif\" font-size=\"14.00\" text-anchor=\"middle\" x=\"1172.5\" y=\"-340.3\">(None, 16, 100)</text>\n",
       "</g>\n",
       "<!-- 140546557289360&#45;&gt;140537407881904 -->\n",
       "<g class=\"edge\" id=\"edge4\"><title>140546557289360-&gt;140537407881904</title>\n",
       "<path d=\"M798.238,-415.473C849.755,-404.691 911.895,-391.685 964.696,-380.633\" fill=\"none\" stroke=\"black\"/>\n",
       "<polygon fill=\"black\" points=\"965.712,-383.997 974.783,-378.522 964.278,-377.145 965.712,-383.997\" stroke=\"black\"/>\n",
       "</g>\n",
       "<!-- 140546557288688 -->\n",
       "<g class=\"node\" id=\"node6\"><title>140546557288688</title>\n",
       "<polygon fill=\"none\" points=\"0,-249.5 0,-295.5 450,-295.5 450,-249.5 0,-249.5\" stroke=\"black\"/>\n",
       "<text font-family=\"Times,serif\" font-size=\"14.00\" text-anchor=\"middle\" x=\"145.5\" y=\"-268.8\">global_max_pooling1d_10: GlobalMaxPooling1D</text>\n",
       "<polyline fill=\"none\" points=\"291,-249.5 291,-295.5 \" stroke=\"black\"/>\n",
       "<text font-family=\"Times,serif\" font-size=\"14.00\" text-anchor=\"middle\" x=\"318.5\" y=\"-280.3\">input:</text>\n",
       "<polyline fill=\"none\" points=\"291,-272.5 346,-272.5 \" stroke=\"black\"/>\n",
       "<text font-family=\"Times,serif\" font-size=\"14.00\" text-anchor=\"middle\" x=\"318.5\" y=\"-257.3\">output:</text>\n",
       "<polyline fill=\"none\" points=\"346,-249.5 346,-295.5 \" stroke=\"black\"/>\n",
       "<text font-family=\"Times,serif\" font-size=\"14.00\" text-anchor=\"middle\" x=\"398\" y=\"-280.3\">(None, 18, 100)</text>\n",
       "<polyline fill=\"none\" points=\"346,-272.5 450,-272.5 \" stroke=\"black\"/>\n",
       "<text font-family=\"Times,serif\" font-size=\"14.00\" text-anchor=\"middle\" x=\"398\" y=\"-257.3\">(None, 100)</text>\n",
       "</g>\n",
       "<!-- 140546557288856&#45;&gt;140546557288688 -->\n",
       "<g class=\"edge\" id=\"edge5\"><title>140546557288856-&gt;140546557288688</title>\n",
       "<path d=\"M283.14,-332.366C274.144,-323.259 263.596,-312.579 253.972,-302.835\" fill=\"none\" stroke=\"black\"/>\n",
       "<polygon fill=\"black\" points=\"256.351,-300.262 246.834,-295.607 251.371,-305.181 256.351,-300.262\" stroke=\"black\"/>\n",
       "</g>\n",
       "<!-- 140546557308544 -->\n",
       "<g class=\"node\" id=\"node7\"><title>140546557308544</title>\n",
       "<polygon fill=\"none\" points=\"468,-249.5 468,-295.5 918,-295.5 918,-249.5 468,-249.5\" stroke=\"black\"/>\n",
       "<text font-family=\"Times,serif\" font-size=\"14.00\" text-anchor=\"middle\" x=\"613.5\" y=\"-268.8\">global_max_pooling1d_11: GlobalMaxPooling1D</text>\n",
       "<polyline fill=\"none\" points=\"759,-249.5 759,-295.5 \" stroke=\"black\"/>\n",
       "<text font-family=\"Times,serif\" font-size=\"14.00\" text-anchor=\"middle\" x=\"786.5\" y=\"-280.3\">input:</text>\n",
       "<polyline fill=\"none\" points=\"759,-272.5 814,-272.5 \" stroke=\"black\"/>\n",
       "<text font-family=\"Times,serif\" font-size=\"14.00\" text-anchor=\"middle\" x=\"786.5\" y=\"-257.3\">output:</text>\n",
       "<polyline fill=\"none\" points=\"814,-249.5 814,-295.5 \" stroke=\"black\"/>\n",
       "<text font-family=\"Times,serif\" font-size=\"14.00\" text-anchor=\"middle\" x=\"866\" y=\"-280.3\">(None, 17, 100)</text>\n",
       "<polyline fill=\"none\" points=\"814,-272.5 918,-272.5 \" stroke=\"black\"/>\n",
       "<text font-family=\"Times,serif\" font-size=\"14.00\" text-anchor=\"middle\" x=\"866\" y=\"-257.3\">(None, 100)</text>\n",
       "</g>\n",
       "<!-- 140546557814768&#45;&gt;140546557308544 -->\n",
       "<g class=\"edge\" id=\"edge6\"><title>140546557814768-&gt;140546557308544</title>\n",
       "<path d=\"M693,-332.366C693,-324.152 693,-314.658 693,-305.725\" fill=\"none\" stroke=\"black\"/>\n",
       "<polygon fill=\"black\" points=\"696.5,-305.607 693,-295.607 689.5,-305.607 696.5,-305.607\" stroke=\"black\"/>\n",
       "</g>\n",
       "<!-- 140546406566544 -->\n",
       "<g class=\"node\" id=\"node8\"><title>140546406566544</title>\n",
       "<polygon fill=\"none\" points=\"936,-249.5 936,-295.5 1386,-295.5 1386,-249.5 936,-249.5\" stroke=\"black\"/>\n",
       "<text font-family=\"Times,serif\" font-size=\"14.00\" text-anchor=\"middle\" x=\"1081.5\" y=\"-268.8\">global_max_pooling1d_12: GlobalMaxPooling1D</text>\n",
       "<polyline fill=\"none\" points=\"1227,-249.5 1227,-295.5 \" stroke=\"black\"/>\n",
       "<text font-family=\"Times,serif\" font-size=\"14.00\" text-anchor=\"middle\" x=\"1254.5\" y=\"-280.3\">input:</text>\n",
       "<polyline fill=\"none\" points=\"1227,-272.5 1282,-272.5 \" stroke=\"black\"/>\n",
       "<text font-family=\"Times,serif\" font-size=\"14.00\" text-anchor=\"middle\" x=\"1254.5\" y=\"-257.3\">output:</text>\n",
       "<polyline fill=\"none\" points=\"1282,-249.5 1282,-295.5 \" stroke=\"black\"/>\n",
       "<text font-family=\"Times,serif\" font-size=\"14.00\" text-anchor=\"middle\" x=\"1334\" y=\"-280.3\">(None, 16, 100)</text>\n",
       "<polyline fill=\"none\" points=\"1282,-272.5 1386,-272.5 \" stroke=\"black\"/>\n",
       "<text font-family=\"Times,serif\" font-size=\"14.00\" text-anchor=\"middle\" x=\"1334\" y=\"-257.3\">(None, 100)</text>\n",
       "</g>\n",
       "<!-- 140537407881904&#45;&gt;140546406566544 -->\n",
       "<g class=\"edge\" id=\"edge7\"><title>140537407881904-&gt;140546406566544</title>\n",
       "<path d=\"M1102.13,-332.366C1111.24,-323.259 1121.92,-312.579 1131.67,-302.835\" fill=\"none\" stroke=\"black\"/>\n",
       "<polygon fill=\"black\" points=\"1134.3,-305.153 1138.89,-295.607 1129.35,-300.203 1134.3,-305.153\" stroke=\"black\"/>\n",
       "</g>\n",
       "<!-- 140546557288632 -->\n",
       "<g class=\"node\" id=\"node9\"><title>140546557288632</title>\n",
       "<polygon fill=\"none\" points=\"462,-166.5 462,-212.5 924,-212.5 924,-166.5 462,-166.5\" stroke=\"black\"/>\n",
       "<text font-family=\"Times,serif\" font-size=\"14.00\" text-anchor=\"middle\" x=\"546\" y=\"-185.8\">concatenate_4: Concatenate</text>\n",
       "<polyline fill=\"none\" points=\"630,-166.5 630,-212.5 \" stroke=\"black\"/>\n",
       "<text font-family=\"Times,serif\" font-size=\"14.00\" text-anchor=\"middle\" x=\"657.5\" y=\"-197.3\">input:</text>\n",
       "<polyline fill=\"none\" points=\"630,-189.5 685,-189.5 \" stroke=\"black\"/>\n",
       "<text font-family=\"Times,serif\" font-size=\"14.00\" text-anchor=\"middle\" x=\"657.5\" y=\"-174.3\">output:</text>\n",
       "<polyline fill=\"none\" points=\"685,-166.5 685,-212.5 \" stroke=\"black\"/>\n",
       "<text font-family=\"Times,serif\" font-size=\"14.00\" text-anchor=\"middle\" x=\"804.5\" y=\"-197.3\">[(None, 100), (None, 100), (None, 100)]</text>\n",
       "<polyline fill=\"none\" points=\"685,-189.5 924,-189.5 \" stroke=\"black\"/>\n",
       "<text font-family=\"Times,serif\" font-size=\"14.00\" text-anchor=\"middle\" x=\"804.5\" y=\"-174.3\">(None, 300)</text>\n",
       "</g>\n",
       "<!-- 140546557288688&#45;&gt;140546557288632 -->\n",
       "<g class=\"edge\" id=\"edge8\"><title>140546557288688-&gt;140546557288632</title>\n",
       "<path d=\"M352.265,-249.473C415.212,-238.579 491.274,-225.414 555.55,-214.289\" fill=\"none\" stroke=\"black\"/>\n",
       "<polygon fill=\"black\" points=\"556.504,-217.676 565.76,-212.522 555.31,-210.779 556.504,-217.676\" stroke=\"black\"/>\n",
       "</g>\n",
       "<!-- 140546557308544&#45;&gt;140546557288632 -->\n",
       "<g class=\"edge\" id=\"edge9\"><title>140546557308544-&gt;140546557288632</title>\n",
       "<path d=\"M693,-249.366C693,-241.152 693,-231.658 693,-222.725\" fill=\"none\" stroke=\"black\"/>\n",
       "<polygon fill=\"black\" points=\"696.5,-222.607 693,-212.607 689.5,-222.607 696.5,-222.607\" stroke=\"black\"/>\n",
       "</g>\n",
       "<!-- 140546406566544&#45;&gt;140546557288632 -->\n",
       "<g class=\"edge\" id=\"edge10\"><title>140546406566544-&gt;140546557288632</title>\n",
       "<path d=\"M1033.74,-249.473C970.788,-238.579 894.726,-225.414 830.45,-214.289\" fill=\"none\" stroke=\"black\"/>\n",
       "<polygon fill=\"black\" points=\"830.69,-210.779 820.24,-212.522 829.496,-217.676 830.69,-210.779\" stroke=\"black\"/>\n",
       "</g>\n",
       "<!-- 140546557289024 -->\n",
       "<g class=\"node\" id=\"node10\"><title>140546557289024</title>\n",
       "<polygon fill=\"none\" points=\"561.5,-83.5 561.5,-129.5 824.5,-129.5 824.5,-83.5 561.5,-83.5\" stroke=\"black\"/>\n",
       "<text font-family=\"Times,serif\" font-size=\"14.00\" text-anchor=\"middle\" x=\"624\" y=\"-102.8\">dropout_4: Dropout</text>\n",
       "<polyline fill=\"none\" points=\"686.5,-83.5 686.5,-129.5 \" stroke=\"black\"/>\n",
       "<text font-family=\"Times,serif\" font-size=\"14.00\" text-anchor=\"middle\" x=\"714\" y=\"-114.3\">input:</text>\n",
       "<polyline fill=\"none\" points=\"686.5,-106.5 741.5,-106.5 \" stroke=\"black\"/>\n",
       "<text font-family=\"Times,serif\" font-size=\"14.00\" text-anchor=\"middle\" x=\"714\" y=\"-91.3\">output:</text>\n",
       "<polyline fill=\"none\" points=\"741.5,-83.5 741.5,-129.5 \" stroke=\"black\"/>\n",
       "<text font-family=\"Times,serif\" font-size=\"14.00\" text-anchor=\"middle\" x=\"783\" y=\"-114.3\">(None, 300)</text>\n",
       "<polyline fill=\"none\" points=\"741.5,-106.5 824.5,-106.5 \" stroke=\"black\"/>\n",
       "<text font-family=\"Times,serif\" font-size=\"14.00\" text-anchor=\"middle\" x=\"783\" y=\"-91.3\">(None, 300)</text>\n",
       "</g>\n",
       "<!-- 140546557288632&#45;&gt;140546557289024 -->\n",
       "<g class=\"edge\" id=\"edge11\"><title>140546557288632-&gt;140546557289024</title>\n",
       "<path d=\"M693,-166.366C693,-158.152 693,-148.658 693,-139.725\" fill=\"none\" stroke=\"black\"/>\n",
       "<polygon fill=\"black\" points=\"696.5,-139.607 693,-129.607 689.5,-139.607 696.5,-139.607\" stroke=\"black\"/>\n",
       "</g>\n",
       "<!-- 140546557288968 -->\n",
       "<g class=\"node\" id=\"node11\"><title>140546557288968</title>\n",
       "<polygon fill=\"none\" points=\"573,-0.5 573,-46.5 813,-46.5 813,-0.5 573,-0.5\" stroke=\"black\"/>\n",
       "<text font-family=\"Times,serif\" font-size=\"14.00\" text-anchor=\"middle\" x=\"624\" y=\"-19.8\">dense_4: Dense</text>\n",
       "<polyline fill=\"none\" points=\"675,-0.5 675,-46.5 \" stroke=\"black\"/>\n",
       "<text font-family=\"Times,serif\" font-size=\"14.00\" text-anchor=\"middle\" x=\"702.5\" y=\"-31.3\">input:</text>\n",
       "<polyline fill=\"none\" points=\"675,-23.5 730,-23.5 \" stroke=\"black\"/>\n",
       "<text font-family=\"Times,serif\" font-size=\"14.00\" text-anchor=\"middle\" x=\"702.5\" y=\"-8.3\">output:</text>\n",
       "<polyline fill=\"none\" points=\"730,-0.5 730,-46.5 \" stroke=\"black\"/>\n",
       "<text font-family=\"Times,serif\" font-size=\"14.00\" text-anchor=\"middle\" x=\"771.5\" y=\"-31.3\">(None, 300)</text>\n",
       "<polyline fill=\"none\" points=\"730,-23.5 813,-23.5 \" stroke=\"black\"/>\n",
       "<text font-family=\"Times,serif\" font-size=\"14.00\" text-anchor=\"middle\" x=\"771.5\" y=\"-8.3\">(None, 1)</text>\n",
       "</g>\n",
       "<!-- 140546557289024&#45;&gt;140546557288968 -->\n",
       "<g class=\"edge\" id=\"edge12\"><title>140546557289024-&gt;140546557288968</title>\n",
       "<path d=\"M693,-83.3664C693,-75.1516 693,-65.6579 693,-56.7252\" fill=\"none\" stroke=\"black\"/>\n",
       "<polygon fill=\"black\" points=\"696.5,-56.6068 693,-46.6068 689.5,-56.6069 696.5,-56.6068\" stroke=\"black\"/>\n",
       "</g>\n",
       "</g>\n",
       "</svg>"
      ],
      "text/plain": [
       "<IPython.core.display.SVG object>"
      ]
     },
     "execution_count": 92,
     "metadata": {},
     "output_type": "execute_result"
    }
   ],
   "source": [
    "model_rand.summary(85)\n",
    "SVG(model_to_dot(model_rand, show_shapes=True).create(prog='dot', format='svg'))"
   ]
  },
  {
   "cell_type": "markdown",
   "metadata": {},
   "source": [
    "Now we are ready to train the model:"
   ]
  },
  {
   "cell_type": "code",
   "execution_count": 29,
   "metadata": {},
   "outputs": [
    {
     "name": "stdout",
     "output_type": "stream",
     "text": [
      "Train on 1500 samples, validate on 10000 samples\n",
      "Epoch 1/10\n",
      "1s - loss: 0.6919 - acc: 0.5213 - val_loss: 0.6863 - val_acc: 0.5282\n",
      "Epoch 2/10\n",
      "0s - loss: 0.6277 - acc: 0.7900 - val_loss: 0.6702 - val_acc: 0.6077\n",
      "Epoch 3/10\n",
      "0s - loss: 0.5417 - acc: 0.8827 - val_loss: 0.6436 - val_acc: 0.6300\n",
      "Epoch 4/10\n",
      "0s - loss: 0.4167 - acc: 0.9233 - val_loss: 0.6204 - val_acc: 0.6409\n",
      "Epoch 5/10\n",
      "0s - loss: 0.2696 - acc: 0.9567 - val_loss: 0.6393 - val_acc: 0.6410\n",
      "Epoch 6/10\n",
      "0s - loss: 0.1482 - acc: 0.9800 - val_loss: 0.7308 - val_acc: 0.6304\n",
      "Epoch 7/10\n",
      "0s - loss: 0.0733 - acc: 0.9947 - val_loss: 0.8258 - val_acc: 0.6317\n",
      "Epoch 8/10\n",
      "0s - loss: 0.0366 - acc: 1.0000 - val_loss: 0.9274 - val_acc: 0.6326\n",
      "Epoch 9/10\n",
      "0s - loss: 0.0204 - acc: 0.9993 - val_loss: 1.0130 - val_acc: 0.6305\n",
      "Epoch 10/10\n",
      "0s - loss: 0.0128 - acc: 1.0000 - val_loss: 1.0894 - val_acc: 0.6303\n"
     ]
    }
   ],
   "source": [
    "num_epochs = 10\n",
    "history_rand = model_rand.fit(x_train, y_train, batch_size=batch_size, epochs=num_epochs,\n",
    "          validation_data=(x_test, y_test), verbose=2)"
   ]
  },
  {
   "cell_type": "markdown",
   "metadata": {},
   "source": [
    "We can visualize the evolution of loss and accuracy for both the training and validation sets:"
   ]
  },
  {
   "cell_type": "code",
   "execution_count": 30,
   "metadata": {},
   "outputs": [
    {
     "data": {
      "text/plain": [
       "<matplotlib.text.Text at 0x7fd16bf40518>"
      ]
     },
     "execution_count": 30,
     "metadata": {},
     "output_type": "execute_result"
    },
    {
     "data": {
      "image/png": "[encoded data removed]",
      "text/plain": [
       "<matplotlib.figure.Figure at 0x7fd16bf58278>"
      ]
     },
     "metadata": {},
     "output_type": "display_data"
    }
   ],
   "source": [
    "pl.plot(history_rand.history['loss'], label='loss')\n",
    "pl.plot(history_rand.history['val_loss'], label='val_loss')\n",
    "pl.legend()\n",
    "pl.xlabel('Epoch')\n",
    "pl.ylabel('Loss')"
   ]
  },
  {
   "cell_type": "code",
   "execution_count": 31,
   "metadata": {},
   "outputs": [
    {
     "data": {
      "text/plain": [
       "<matplotlib.text.Text at 0x7fd178b25438>"
      ]
     },
     "execution_count": 31,
     "metadata": {},
     "output_type": "execute_result"
    },
    {
     "data": {
      "image/png": "[encoded data removed]",
      "text/plain": [
       "<matplotlib.figure.Figure at 0x7fd16bf51a58>"
      ]
     },
     "metadata": {},
     "output_type": "display_data"
    }
   ],
   "source": [
    "pl.plot(history_rand.history['acc'], label='acc')\n",
    "pl.plot(history_rand.history['val_acc'], label='val_acc')\n",
    "pl.legend()\n",
    "pl.xlabel('Epoch')\n",
    "pl.ylabel('Accuracy')"
   ]
  },
  {
   "cell_type": "markdown",
   "metadata": {},
   "source": [
    "## CNN-static\n",
    "\n",
    "This model uses word2vec vectors to initialize the embedding. The weights of the embedding are kept fixed so they are not modified by training."
   ]
  },
  {
   "cell_type": "code",
   "execution_count": 32,
   "metadata": {},
   "outputs": [
    {
     "name": "stdout",
     "output_type": "stream",
     "text": [
      "Initializing embedding layer with word2vec weights, shape (88585, 300)\n"
     ]
    }
   ],
   "source": [
    "# Input layer\n",
    "input_shape = (sequence_length,)\n",
    "model_input = Input(shape=input_shape)\n",
    "\n",
    "# Embedding layer\n",
    "embedding_layer = Embedding(len(vocabulary_inv), embedding_dim, input_length=sequence_length, name=\"embedding\")\n",
    "z = embedding_layer(model_input)\n",
    "weights = np.array([embedding_weights[i] for i in range(len(embedding_weights))])\n",
    "print(\"Initializing embedding layer with word2vec weights, shape\", weights.shape)\n",
    "embedding_layer.set_weights([weights])\n",
    "\n",
    "# Weights is embedding layer are not modified during training\n",
    "embedding_layer.trainable = False\n",
    "\n",
    "# Convolutional block\n",
    "conv_blocks = []\n",
    "for sz in filter_sizes:\n",
    "    conv = Convolution1D(filters=num_filters,\n",
    "                         kernel_size=sz,\n",
    "                         padding=\"valid\",\n",
    "                         activation=\"relu\",\n",
    "                         strides=1)(z)\n",
    "    conv = GlobalMaxPooling1D()(conv)\n",
    "    conv_blocks.append(conv)\n",
    "z = Concatenate()(conv_blocks) if len(conv_blocks) > 1 else conv_blocks[0]\n",
    "\n",
    "# Dropout \n",
    "z = Dropout(dropout_prob[1])(z)\n",
    "\n",
    "# Output layer\n",
    "model_output = Dense(1, activation=\"sigmoid\")(z)\n",
    "\n",
    "# Model compilation\n",
    "model_static = Model(model_input, model_output)\n",
    "model_static.compile(loss=\"binary_crossentropy\", optimizer=\"adam\", metrics=[\"accuracy\"])"
   ]
  },
  {
   "cell_type": "code",
   "execution_count": 91,
   "metadata": {
    "scrolled": true
   },
   "outputs": [
    {
     "name": "stdout",
     "output_type": "stream",
     "text": [
      "_____________________________________________________________________________________\n",
      "Layer (type)                Output Shape      Param #   Connected to                 \n",
      "=====================================================================================\n",
      "input_5 (InputLayer)        (None, 20)        0                                      \n",
      "_____________________________________________________________________________________\n",
      "embedding (Embedding)       (None, 20, 300)   26575500  input_5[0][0]                \n",
      "_____________________________________________________________________________________\n",
      "conv1d_13 (Conv1D)          (None, 18, 100)   90100     embedding[0][0]              \n",
      "_____________________________________________________________________________________\n",
      "conv1d_14 (Conv1D)          (None, 17, 100)   120100    embedding[0][0]              \n",
      "_____________________________________________________________________________________\n",
      "conv1d_15 (Conv1D)          (None, 16, 100)   150100    embedding[0][0]              \n",
      "_____________________________________________________________________________________\n",
      "global_max_pooling1d_13 (Gl (None, 100)       0         conv1d_13[0][0]              \n",
      "_____________________________________________________________________________________\n",
      "global_max_pooling1d_14 (Gl (None, 100)       0         conv1d_14[0][0]              \n",
      "_____________________________________________________________________________________\n",
      "global_max_pooling1d_15 (Gl (None, 100)       0         conv1d_15[0][0]              \n",
      "_____________________________________________________________________________________\n",
      "concatenate_5 (Concatenate) (None, 300)       0         global_max_pooling1d_13[0][0]\n",
      "                                                        global_max_pooling1d_14[0][0]\n",
      "                                                        global_max_pooling1d_15[0][0]\n",
      "_____________________________________________________________________________________\n",
      "dropout_5 (Dropout)         (None, 300)       0         concatenate_5[0][0]          \n",
      "_____________________________________________________________________________________\n",
      "dense_5 (Dense)             (None, 1)         301       dropout_5[0][0]              \n",
      "=====================================================================================\n",
      "Total params: 26,936,101\n",
      "Trainable params: 360,601\n",
      "Non-trainable params: 26,575,500\n",
      "_____________________________________________________________________________________\n"
     ]
    }
   ],
   "source": [
    "model_static.summary(85)"
   ]
  },
  {
   "cell_type": "code",
   "execution_count": 34,
   "metadata": {},
   "outputs": [
    {
     "name": "stdout",
     "output_type": "stream",
     "text": [
      "Train on 1500 samples, validate on 10000 samples\n",
      "Epoch 1/10\n",
      "0s - loss: 0.7075 - acc: 0.5180 - val_loss: 0.6629 - val_acc: 0.5909\n",
      "Epoch 2/10\n",
      "0s - loss: 0.5845 - acc: 0.7027 - val_loss: 0.6341 - val_acc: 0.6471\n",
      "Epoch 3/10\n",
      "0s - loss: 0.5109 - acc: 0.7887 - val_loss: 0.6178 - val_acc: 0.6627\n",
      "Epoch 4/10\n",
      "0s - loss: 0.4470 - acc: 0.8493 - val_loss: 0.6051 - val_acc: 0.6662\n",
      "Epoch 5/10\n",
      "0s - loss: 0.3841 - acc: 0.8960 - val_loss: 0.5984 - val_acc: 0.6709\n",
      "Epoch 6/10\n",
      "0s - loss: 0.3311 - acc: 0.9113 - val_loss: 0.5966 - val_acc: 0.6750\n",
      "Epoch 7/10\n",
      "0s - loss: 0.2816 - acc: 0.9447 - val_loss: 0.5945 - val_acc: 0.6734\n",
      "Epoch 8/10\n",
      "0s - loss: 0.2394 - acc: 0.9573 - val_loss: 0.6275 - val_acc: 0.6605\n",
      "Epoch 9/10\n",
      "0s - loss: 0.2057 - acc: 0.9627 - val_loss: 0.5952 - val_acc: 0.6805\n",
      "Epoch 10/10\n",
      "0s - loss: 0.1681 - acc: 0.9833 - val_loss: 0.5995 - val_acc: 0.6793\n"
     ]
    }
   ],
   "source": [
    "num_epochs = 10\n",
    "history_static = model_static.fit(x_train, y_train, batch_size=batch_size, epochs=num_epochs,\n",
    "          validation_data=(x_test, y_test), verbose=2)"
   ]
  },
  {
   "cell_type": "code",
   "execution_count": 35,
   "metadata": {},
   "outputs": [
    {
     "data": {
      "text/plain": [
       "<matplotlib.text.Text at 0x7fd178d85dd8>"
      ]
     },
     "execution_count": 35,
     "metadata": {},
     "output_type": "execute_result"
    },
    {
     "data": {
      "image/png": "[encoded data removed]",
      "text/plain": [
       "<matplotlib.figure.Figure at 0x7fd178e29a58>"
      ]
     },
     "metadata": {},
     "output_type": "display_data"
    }
   ],
   "source": [
    "pl.plot(history_static.history['loss'], label='loss')\n",
    "pl.plot(history_static.history['val_loss'], label='val_loss')\n",
    "pl.legend()\n",
    "pl.xlabel('Epoch')\n",
    "pl.ylabel('Loss')"
   ]
  },
  {
   "cell_type": "code",
   "execution_count": 36,
   "metadata": {
    "scrolled": true
   },
   "outputs": [
    {
     "data": {
      "text/plain": [
       "<matplotlib.text.Text at 0x7fd178d29198>"
      ]
     },
     "execution_count": 36,
     "metadata": {},
     "output_type": "execute_result"
    },
    {
     "data": {
      "image/png": "[encoded data removed]",
      "text/plain": [
       "<matplotlib.figure.Figure at 0x7fd178b40630>"
      ]
     },
     "metadata": {},
     "output_type": "display_data"
    }
   ],
   "source": [
    "pl.plot(history_static.history['acc'], label='acc')\n",
    "pl.plot(history_static.history['val_acc'], label='val_acc')\n",
    "pl.legend()\n",
    "pl.xlabel('Epoch')\n",
    "pl.ylabel('Accuracy')"
   ]
  },
  {
   "cell_type": "markdown",
   "metadata": {},
   "source": [
    "## CNN-non-static\n",
    "\n",
    "This model is same as the previous one, but the embedding weights are allowed to change during training."
   ]
  },
  {
   "cell_type": "code",
   "execution_count": 44,
   "metadata": {},
   "outputs": [
    {
     "name": "stdout",
     "output_type": "stream",
     "text": [
      "Initializing embedding layer with word2vec weights, shape (88585, 300)\n"
     ]
    }
   ],
   "source": [
    "# Input layer\n",
    "input_shape = (sequence_length,)\n",
    "model_input = Input(shape=input_shape)\n",
    "\n",
    "# Embedding layer\n",
    "embedding_layer = Embedding(len(vocabulary_inv), embedding_dim, input_length=sequence_length, name=\"embedding\")\n",
    "z = embedding_layer(model_input)\n",
    "weights = np.array([embedding_weights[i] for i in range(len(embedding_weights))])\n",
    "print(\"Initializing embedding layer with word2vec weights, shape\", weights.shape)\n",
    "embedding_layer.set_weights([weights])\n",
    "\n",
    "# Weights is embedding layer are not modified during training\n",
    "embedding_layer.trainable = True\n",
    "\n",
    "# Convolutional block\n",
    "conv_blocks = []\n",
    "for sz in filter_sizes:\n",
    "    conv = Convolution1D(filters=num_filters,\n",
    "                         kernel_size=sz,\n",
    "                         padding=\"valid\",\n",
    "                         activation=\"relu\",\n",
    "                         strides=1)(z)\n",
    "    conv = GlobalMaxPooling1D()(conv)\n",
    "    conv_blocks.append(conv)\n",
    "z = Concatenate()(conv_blocks) if len(conv_blocks) > 1 else conv_blocks[0]\n",
    "\n",
    "# Dropout \n",
    "z = Dropout(dropout_prob[1])(z)\n",
    "\n",
    "# Output layer\n",
    "model_output = Dense(1, activation=\"sigmoid\")(z)\n",
    "\n",
    "# Model compilation\n",
    "model_non_static = Model(model_input, model_output)\n",
    "model_non_static.compile(loss=\"binary_crossentropy\", optimizer=\"adam\", metrics=[\"accuracy\"])"
   ]
  },
  {
   "cell_type": "code",
   "execution_count": 45,
   "metadata": {},
   "outputs": [
    {
     "name": "stdout",
     "output_type": "stream",
     "text": [
      "Train on 1500 samples, validate on 10000 samples\n",
      "Epoch 1/10\n",
      "1s - loss: 0.7058 - acc: 0.5387 - val_loss: 0.6562 - val_acc: 0.6048\n",
      "Epoch 2/10\n",
      "0s - loss: 0.5617 - acc: 0.7287 - val_loss: 0.6333 - val_acc: 0.6384\n",
      "Epoch 3/10\n",
      "0s - loss: 0.4491 - acc: 0.8467 - val_loss: 0.6081 - val_acc: 0.6683\n",
      "Epoch 4/10\n",
      "0s - loss: 0.3504 - acc: 0.9160 - val_loss: 0.5934 - val_acc: 0.6735\n",
      "Epoch 5/10\n",
      "0s - loss: 0.2751 - acc: 0.9387 - val_loss: 0.5934 - val_acc: 0.6772\n",
      "Epoch 6/10\n",
      "0s - loss: 0.1946 - acc: 0.9740 - val_loss: 0.5981 - val_acc: 0.6817\n",
      "Epoch 7/10\n",
      "0s - loss: 0.1379 - acc: 0.9880 - val_loss: 0.6125 - val_acc: 0.6802\n",
      "Epoch 8/10\n",
      "0s - loss: 0.0947 - acc: 0.9953 - val_loss: 0.6370 - val_acc: 0.6794\n",
      "Epoch 9/10\n",
      "0s - loss: 0.0648 - acc: 0.9973 - val_loss: 0.6596 - val_acc: 0.6796\n",
      "Epoch 10/10\n",
      "0s - loss: 0.0454 - acc: 1.0000 - val_loss: 0.6862 - val_acc: 0.6775\n"
     ]
    }
   ],
   "source": [
    "num_epochs = 10\n",
    "history_non_static = model_non_static.fit(x_train, y_train, batch_size=batch_size, epochs=num_epochs,\n",
    "          validation_data=(x_test, y_test), verbose=2)"
   ]
  },
  {
   "cell_type": "code",
   "execution_count": 46,
   "metadata": {},
   "outputs": [
    {
     "data": {
      "text/plain": [
       "<matplotlib.text.Text at 0x7fd16b58b2b0>"
      ]
     },
     "execution_count": 46,
     "metadata": {},
     "output_type": "execute_result"
    },
    {
     "data": {
      "image/png": "[encoded data removed]",
      "text/plain": [
       "<matplotlib.figure.Figure at 0x7fd16b5e4da0>"
      ]
     },
     "metadata": {},
     "output_type": "display_data"
    }
   ],
   "source": [
    "pl.plot(history_non_static.history['loss'], label='loss')\n",
    "pl.plot(history_non_static.history['val_loss'], label='val_loss')\n",
    "pl.legend()\n",
    "pl.xlabel('Epoch')\n",
    "pl.ylabel('Loss')"
   ]
  },
  {
   "cell_type": "code",
   "execution_count": 47,
   "metadata": {
    "scrolled": true
   },
   "outputs": [
    {
     "data": {
      "text/plain": [
       "<matplotlib.text.Text at 0x7fd16b52a5f8>"
      ]
     },
     "execution_count": 47,
     "metadata": {},
     "output_type": "execute_result"
    },
    {
     "data": {
      "image/png": "[encoded data removed]",
      "text/plain": [
       "<matplotlib.figure.Figure at 0x7fd16b505f60>"
      ]
     },
     "metadata": {},
     "output_type": "display_data"
    }
   ],
   "source": [
    "pl.plot(history_non_static.history['acc'], label='acc')\n",
    "pl.plot(history_non_static.history['val_acc'], label='val_acc')\n",
    "pl.legend()\n",
    "pl.xlabel('Epoch')\n",
    "pl.ylabel('Accuracy')"
   ]
  },
  {
   "cell_type": "code",
   "execution_count": 48,
   "metadata": {},
   "outputs": [
    {
     "data": {
      "text/plain": [
       "<matplotlib.text.Text at 0x7fd16b41b470>"
      ]
     },
     "execution_count": 48,
     "metadata": {},
     "output_type": "execute_result"
    },
    {
     "data": {
      "image/png": "[encoded data removed]",
      "text/plain": [
       "<matplotlib.figure.Figure at 0x7fd1780091d0>"
      ]
     },
     "metadata": {},
     "output_type": "display_data"
    }
   ],
   "source": [
    "pl.plot(history_rand.history['val_acc'], label='rand')\n",
    "pl.plot(history_static.history['val_acc'], label='static')\n",
    "pl.plot(history_non_static.history['val_acc'], label='non_static')\n",
    "pl.legend()\n",
    "pl.xlabel('Epoch')\n",
    "pl.ylabel('Validation Accuracy')"
   ]
  },
  {
   "cell_type": "markdown",
   "metadata": {},
   "source": [
    "The word2vec initialization gives a boost of around 4%. Allowing the embedding to fine tune has a small advantage.\n",
    "## Increasing the data\n",
    "\n",
    "Now, we will increase the amount of data for training to 25000 samples."
   ]
  },
  {
   "cell_type": "code",
   "execution_count": 55,
   "metadata": {
    "collapsed": true
   },
   "outputs": [],
   "source": [
    "from keras import backend as K\n",
    "\n",
    "def re_initialize(model):\n",
    "    session = K.get_session()\n",
    "    for layer in model.layers: \n",
    "         for v in layer.__dict__:\n",
    "             v_arg = getattr(layer,v)\n",
    "             if hasattr(v_arg,'initializer'):\n",
    "                 initializer_method = getattr(v_arg, 'initializer')\n",
    "                 initializer_method.run(session=session)\n",
    "                 print('reinitializing layer {}.{}'.format(layer.name, v))"
   ]
  },
  {
   "cell_type": "code",
   "execution_count": 80,
   "metadata": {},
   "outputs": [
    {
     "name": "stdout",
     "output_type": "stream",
     "text": [
      "x_train shape: (25000, 20)\n",
      "x_test shape: (10000, 20)\n",
      "Vocabulary Size: 88585\n"
     ]
    }
   ],
   "source": [
    "(x_train, y_train), (x_test, y_test) = imdb.load_data(num_words=max_words, start_char=None,\n",
    "                                                      oov_char=None, index_from=None)\n",
    "\n",
    "x_test = x_test[:10000]\n",
    "y_test = y_test[:10000]\n",
    "\n",
    "x_train = sequence.pad_sequences(x_train, maxlen=sequence_length, padding=\"post\", truncating=\"post\")\n",
    "x_test = sequence.pad_sequences(x_test, maxlen=sequence_length, padding=\"post\", truncating=\"post\")\n",
    "\n",
    "vocabulary = imdb.get_word_index()\n",
    "vocabulary_inv = dict((v, k) for k, v in vocabulary.items())\n",
    "vocabulary_inv[0] = \"<PAD/>\"\n",
    "\n",
    "print(\"x_train shape:\", x_train.shape)\n",
    "print(\"x_test shape:\", x_test.shape)\n",
    "print(\"Vocabulary Size: {:d}\".format(len(vocabulary_inv)))\n"
   ]
  },
  {
   "cell_type": "code",
   "execution_count": 81,
   "metadata": {},
   "outputs": [
    {
     "name": "stdout",
     "output_type": "stream",
     "text": [
      "reinitializing layer embedding.embeddings\n",
      "reinitializing layer conv1d_10.kernel\n",
      "reinitializing layer conv1d_10.bias\n",
      "reinitializing layer conv1d_11.kernel\n",
      "reinitializing layer conv1d_11.bias\n",
      "reinitializing layer conv1d_12.kernel\n",
      "reinitializing layer conv1d_12.bias\n",
      "reinitializing layer dense_4.kernel\n",
      "reinitializing layer dense_4.bias\n",
      "Train on 25000 samples, validate on 10000 samples\n",
      "Epoch 1/10\n",
      "9s - loss: 0.5922 - acc: 0.6718 - val_loss: 0.5522 - val_acc: 0.7090\n",
      "Epoch 2/10\n",
      "9s - loss: 0.4575 - acc: 0.7826 - val_loss: 0.5571 - val_acc: 0.7138\n",
      "Epoch 3/10\n",
      "9s - loss: 0.3560 - acc: 0.8454 - val_loss: 0.6001 - val_acc: 0.7045\n",
      "Epoch 4/10\n",
      "9s - loss: 0.2477 - acc: 0.9035 - val_loss: 0.7073 - val_acc: 0.6947\n",
      "Epoch 5/10\n",
      "9s - loss: 0.1559 - acc: 0.9454 - val_loss: 0.8489 - val_acc: 0.6884\n",
      "Epoch 6/10\n",
      "9s - loss: 0.0935 - acc: 0.9699 - val_loss: 1.0158 - val_acc: 0.6878\n",
      "Epoch 7/10\n",
      "9s - loss: 0.0580 - acc: 0.9831 - val_loss: 1.1562 - val_acc: 0.6860\n",
      "Epoch 8/10\n",
      "9s - loss: 0.0473 - acc: 0.9857 - val_loss: 1.2823 - val_acc: 0.6800\n",
      "Epoch 9/10\n",
      "9s - loss: 0.0376 - acc: 0.9899 - val_loss: 1.4231 - val_acc: 0.6812\n",
      "Epoch 10/10\n",
      "9s - loss: 0.0320 - acc: 0.9900 - val_loss: 1.4728 - val_acc: 0.6791\n"
     ]
    }
   ],
   "source": [
    "num_epochs = 10\n",
    "re_initialize(model_rand)\n",
    "history_rand = model_rand.fit(x_train, y_train, batch_size=batch_size, epochs=num_epochs,\n",
    "          validation_data=(x_test, y_test), verbose=2)"
   ]
  },
  {
   "cell_type": "code",
   "execution_count": 82,
   "metadata": {},
   "outputs": [
    {
     "name": "stdout",
     "output_type": "stream",
     "text": [
      "reinitializing layer embedding.embeddings\n",
      "reinitializing layer conv1d_13.kernel\n",
      "reinitializing layer conv1d_13.bias\n",
      "reinitializing layer conv1d_14.kernel\n",
      "reinitializing layer conv1d_14.bias\n",
      "reinitializing layer conv1d_15.kernel\n",
      "reinitializing layer conv1d_15.bias\n",
      "reinitializing layer dense_5.kernel\n",
      "reinitializing layer dense_5.bias\n",
      "Train on 25000 samples, validate on 10000 samples\n",
      "Epoch 1/10\n",
      "2s - loss: 0.6050 - acc: 0.6602 - val_loss: 0.5638 - val_acc: 0.6950\n",
      "Epoch 2/10\n",
      "3s - loss: 0.5387 - acc: 0.7232 - val_loss: 0.5649 - val_acc: 0.6935\n",
      "Epoch 3/10\n",
      "2s - loss: 0.5028 - acc: 0.7524 - val_loss: 0.5556 - val_acc: 0.7017\n",
      "Epoch 4/10\n",
      "3s - loss: 0.4679 - acc: 0.7744 - val_loss: 0.5451 - val_acc: 0.7130\n",
      "Epoch 5/10\n",
      "2s - loss: 0.4254 - acc: 0.8063 - val_loss: 0.5491 - val_acc: 0.7127\n",
      "Epoch 6/10\n",
      "2s - loss: 0.3840 - acc: 0.8294 - val_loss: 0.5583 - val_acc: 0.7101\n",
      "Epoch 7/10\n",
      "3s - loss: 0.3468 - acc: 0.8520 - val_loss: 0.5620 - val_acc: 0.7141\n",
      "Epoch 8/10\n",
      "2s - loss: 0.3026 - acc: 0.8733 - val_loss: 0.5811 - val_acc: 0.7062\n",
      "Epoch 9/10\n",
      "3s - loss: 0.2719 - acc: 0.8922 - val_loss: 0.6074 - val_acc: 0.7062\n",
      "Epoch 10/10\n",
      "2s - loss: 0.2429 - acc: 0.9038 - val_loss: 0.6122 - val_acc: 0.7085\n"
     ]
    }
   ],
   "source": [
    "num_epochs = 10\n",
    "re_initialize(model_static)\n",
    "embedding_layer = model_static.get_layer(\"embedding\")\n",
    "embedding_layer.set_weights([weights])\n",
    "history_static = model_static.fit(x_train, y_train, batch_size=batch_size, epochs=num_epochs,\n",
    "          validation_data=(x_test, y_test), verbose=2)"
   ]
  },
  {
   "cell_type": "code",
   "execution_count": 83,
   "metadata": {},
   "outputs": [
    {
     "name": "stdout",
     "output_type": "stream",
     "text": [
      "reinitializing layer embedding.embeddings\n",
      "reinitializing layer conv1d_19.kernel\n",
      "reinitializing layer conv1d_19.bias\n",
      "reinitializing layer conv1d_20.kernel\n",
      "reinitializing layer conv1d_20.bias\n",
      "reinitializing layer conv1d_21.kernel\n",
      "reinitializing layer conv1d_21.bias\n",
      "reinitializing layer dense_7.kernel\n",
      "reinitializing layer dense_7.bias\n",
      "Train on 25000 samples, validate on 10000 samples\n",
      "Epoch 1/10\n",
      "9s - loss: 0.5840 - acc: 0.6838 - val_loss: 0.5348 - val_acc: 0.7199\n",
      "Epoch 2/10\n",
      "9s - loss: 0.4579 - acc: 0.7804 - val_loss: 0.5504 - val_acc: 0.7157\n",
      "Epoch 3/10\n",
      "9s - loss: 0.3773 - acc: 0.8319 - val_loss: 0.5967 - val_acc: 0.7019\n",
      "Epoch 4/10\n",
      "9s - loss: 0.2893 - acc: 0.8798 - val_loss: 0.6774 - val_acc: 0.6971\n",
      "Epoch 5/10\n",
      "9s - loss: 0.2064 - acc: 0.9221 - val_loss: 0.7492 - val_acc: 0.6970\n",
      "Epoch 6/10\n",
      "9s - loss: 0.1393 - acc: 0.9510 - val_loss: 0.8601 - val_acc: 0.6905\n",
      "Epoch 7/10\n",
      "9s - loss: 0.0991 - acc: 0.9673 - val_loss: 0.9621 - val_acc: 0.6952\n",
      "Epoch 8/10\n",
      "9s - loss: 0.0746 - acc: 0.9753 - val_loss: 1.0924 - val_acc: 0.6932\n",
      "Epoch 9/10\n",
      "9s - loss: 0.0594 - acc: 0.9819 - val_loss: 1.1485 - val_acc: 0.6844\n",
      "Epoch 10/10\n",
      "9s - loss: 0.0457 - acc: 0.9864 - val_loss: 1.2384 - val_acc: 0.6885\n"
     ]
    }
   ],
   "source": [
    "num_epochs = 10\n",
    "re_initialize(model_non_static)\n",
    "embedding_layer = model_non_static.get_layer(\"embedding\")\n",
    "embedding_layer.set_weights([weights])\n",
    "history_non_static = model_non_static.fit(x_train, y_train, batch_size=batch_size, epochs=num_epochs,\n",
    "          validation_data=(x_test, y_test), verbose=2)"
   ]
  },
  {
   "cell_type": "code",
   "execution_count": 84,
   "metadata": {},
   "outputs": [
    {
     "data": {
      "text/plain": [
       "<matplotlib.text.Text at 0x7fd1001782e8>"
      ]
     },
     "execution_count": 84,
     "metadata": {},
     "output_type": "execute_result"
    },
    {
     "data": {
      "image/png": "[encoded data removed]",
      "text/plain": [
       "<matplotlib.figure.Figure at 0x7fd1007576a0>"
      ]
     },
     "metadata": {},
     "output_type": "display_data"
    }
   ],
   "source": [
    "pl.plot(history_rand.history['val_acc'], label='rand')\n",
    "pl.plot(history_static.history['val_acc'], label='static')\n",
    "pl.plot(history_non_static.history['val_acc'], label='non_static')\n",
    "pl.legend()\n",
    "pl.xlabel('Epoch')\n",
    "pl.ylabel('Validation Accuracy')"
   ]
  },
  {
   "cell_type": "markdown",
   "metadata": {},
   "source": [
    "The rand and non_static models overfit. There is not a clear advantage on using word2vec vectors to initialize weights."
   ]
  },
  {
   "cell_type": "code",
   "execution_count": null,
   "metadata": {
    "collapsed": true
   },
   "outputs": [],
   "source": []
  }
 ],
 "metadata": {
  "kernelspec": {
   "display_name": "Python [default]",
   "language": "python",
   "name": "python3"
  },
  "language_info": {
   "codemirror_mode": {
    "name": "ipython",
    "version": 3
   },
   "file_extension": ".py",
   "mimetype": "text/x-python",
   "name": "python",
   "nbconvert_exporter": "python",
   "pygments_lexer": "ipython3",
   "version": "3.6.5"
  }
 },
 "nbformat": 4,
 "nbformat_minor": 2
}
