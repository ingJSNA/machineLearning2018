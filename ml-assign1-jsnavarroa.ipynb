{
 "cells": [
  {
   "cell_type": "markdown",
   "metadata": {},
   "source": [
    "# Assigment 1\n",
    "\n",
    "Juan Navarro, <jsnavarroa@unal.edu.co>\n",
    "\n",
    "### 1. Do the tutorial “Kaggle Python Tutorial on Machine Learning” (https://www.datacamp.com/courses/kaggle-python-tutorial-on-machine-learning). Complete the 3 chapters and include a screenshot showing the 100% completion of each chapter, as well as a screenshot of the submission to Kaggle."
   ]
  },
  {
   "cell_type": "code",
   "execution_count": 15,
   "metadata": {},
   "outputs": [
    {
     "ename": "FileNotFoundError",
     "evalue": "[Errno 2] No such file or directory: './img/tutorial1.png'",
     "output_type": "error",
     "traceback": [
      "\u001b[0;31m---------------------------------------------------------------------------\u001b[0m",
      "\u001b[0;31mFileNotFoundError\u001b[0m                         Traceback (most recent call last)",
      "\u001b[0;32m<ipython-input-15-1b9044daa7df>\u001b[0m in \u001b[0;36m<module>\u001b[0;34m()\u001b[0m\n\u001b[1;32m      1\u001b[0m \u001b[0;32mfrom\u001b[0m \u001b[0mIPython\u001b[0m\u001b[0;34m.\u001b[0m\u001b[0mdisplay\u001b[0m \u001b[0;32mimport\u001b[0m \u001b[0mdisplay\u001b[0m\u001b[0;34m,\u001b[0m \u001b[0mImage\u001b[0m\u001b[0;34m\u001b[0m\u001b[0m\n\u001b[1;32m      2\u001b[0m \u001b[0;34m\u001b[0m\u001b[0m\n\u001b[0;32m----> 3\u001b[0;31m \u001b[0mdisplay\u001b[0m\u001b[0;34m(\u001b[0m\u001b[0mImage\u001b[0m\u001b[0;34m(\u001b[0m\u001b[0mfilename\u001b[0m\u001b[0;34m=\u001b[0m\u001b[0;34m'./img/tutorial1.png'\u001b[0m\u001b[0;34m)\u001b[0m\u001b[0;34m)\u001b[0m\u001b[0;34m\u001b[0m\u001b[0m\n\u001b[0m\u001b[1;32m      4\u001b[0m \u001b[0mdisplay\u001b[0m\u001b[0;34m(\u001b[0m\u001b[0mImage\u001b[0m\u001b[0;34m(\u001b[0m\u001b[0mfilename\u001b[0m\u001b[0;34m=\u001b[0m\u001b[0;34m'./img/submission1.png'\u001b[0m\u001b[0;34m)\u001b[0m\u001b[0;34m)\u001b[0m\u001b[0;34m\u001b[0m\u001b[0m\n",
      "\u001b[0;32m~/Programas/miniconda3/lib/python3.6/site-packages/IPython/core/display.py\u001b[0m in \u001b[0;36m__init__\u001b[0;34m(self, data, url, filename, format, embed, width, height, retina, unconfined, metadata)\u001b[0m\n\u001b[1;32m   1146\u001b[0m         \u001b[0mself\u001b[0m\u001b[0;34m.\u001b[0m\u001b[0munconfined\u001b[0m \u001b[0;34m=\u001b[0m \u001b[0munconfined\u001b[0m\u001b[0;34m\u001b[0m\u001b[0m\n\u001b[1;32m   1147\u001b[0m         super(Image, self).__init__(data=data, url=url, filename=filename, \n\u001b[0;32m-> 1148\u001b[0;31m                 metadata=metadata)\n\u001b[0m\u001b[1;32m   1149\u001b[0m \u001b[0;34m\u001b[0m\u001b[0m\n\u001b[1;32m   1150\u001b[0m         \u001b[0;32mif\u001b[0m \u001b[0mself\u001b[0m\u001b[0;34m.\u001b[0m\u001b[0mwidth\u001b[0m \u001b[0;32mis\u001b[0m \u001b[0;32mNone\u001b[0m \u001b[0;32mand\u001b[0m \u001b[0mself\u001b[0m\u001b[0;34m.\u001b[0m\u001b[0mmetadata\u001b[0m\u001b[0;34m.\u001b[0m\u001b[0mget\u001b[0m\u001b[0;34m(\u001b[0m\u001b[0;34m'width'\u001b[0m\u001b[0;34m,\u001b[0m \u001b[0;34m{\u001b[0m\u001b[0;34m}\u001b[0m\u001b[0;34m)\u001b[0m\u001b[0;34m:\u001b[0m\u001b[0;34m\u001b[0m\u001b[0m\n",
      "\u001b[0;32m~/Programas/miniconda3/lib/python3.6/site-packages/IPython/core/display.py\u001b[0m in \u001b[0;36m__init__\u001b[0;34m(self, data, url, filename, metadata)\u001b[0m\n\u001b[1;32m    607\u001b[0m             \u001b[0mself\u001b[0m\u001b[0;34m.\u001b[0m\u001b[0mmetadata\u001b[0m \u001b[0;34m=\u001b[0m \u001b[0;34m{\u001b[0m\u001b[0;34m}\u001b[0m\u001b[0;34m\u001b[0m\u001b[0m\n\u001b[1;32m    608\u001b[0m \u001b[0;34m\u001b[0m\u001b[0m\n\u001b[0;32m--> 609\u001b[0;31m         \u001b[0mself\u001b[0m\u001b[0;34m.\u001b[0m\u001b[0mreload\u001b[0m\u001b[0;34m(\u001b[0m\u001b[0;34m)\u001b[0m\u001b[0;34m\u001b[0m\u001b[0m\n\u001b[0m\u001b[1;32m    610\u001b[0m         \u001b[0mself\u001b[0m\u001b[0;34m.\u001b[0m\u001b[0m_check_data\u001b[0m\u001b[0;34m(\u001b[0m\u001b[0;34m)\u001b[0m\u001b[0;34m\u001b[0m\u001b[0m\n\u001b[1;32m    611\u001b[0m \u001b[0;34m\u001b[0m\u001b[0m\n",
      "\u001b[0;32m~/Programas/miniconda3/lib/python3.6/site-packages/IPython/core/display.py\u001b[0m in \u001b[0;36mreload\u001b[0;34m(self)\u001b[0m\n\u001b[1;32m   1177\u001b[0m         \u001b[0;34m\"\"\"Reload the raw data from file or URL.\"\"\"\u001b[0m\u001b[0;34m\u001b[0m\u001b[0m\n\u001b[1;32m   1178\u001b[0m         \u001b[0;32mif\u001b[0m \u001b[0mself\u001b[0m\u001b[0;34m.\u001b[0m\u001b[0membed\u001b[0m\u001b[0;34m:\u001b[0m\u001b[0;34m\u001b[0m\u001b[0m\n\u001b[0;32m-> 1179\u001b[0;31m             \u001b[0msuper\u001b[0m\u001b[0;34m(\u001b[0m\u001b[0mImage\u001b[0m\u001b[0;34m,\u001b[0m\u001b[0mself\u001b[0m\u001b[0;34m)\u001b[0m\u001b[0;34m.\u001b[0m\u001b[0mreload\u001b[0m\u001b[0;34m(\u001b[0m\u001b[0;34m)\u001b[0m\u001b[0;34m\u001b[0m\u001b[0m\n\u001b[0m\u001b[1;32m   1180\u001b[0m             \u001b[0;32mif\u001b[0m \u001b[0mself\u001b[0m\u001b[0;34m.\u001b[0m\u001b[0mretina\u001b[0m\u001b[0;34m:\u001b[0m\u001b[0;34m\u001b[0m\u001b[0m\n\u001b[1;32m   1181\u001b[0m                 \u001b[0mself\u001b[0m\u001b[0;34m.\u001b[0m\u001b[0m_retina_shape\u001b[0m\u001b[0;34m(\u001b[0m\u001b[0;34m)\u001b[0m\u001b[0;34m\u001b[0m\u001b[0m\n",
      "\u001b[0;32m~/Programas/miniconda3/lib/python3.6/site-packages/IPython/core/display.py\u001b[0m in \u001b[0;36mreload\u001b[0;34m(self)\u001b[0m\n\u001b[1;32m    632\u001b[0m         \u001b[0;34m\"\"\"Reload the raw data from file or URL.\"\"\"\u001b[0m\u001b[0;34m\u001b[0m\u001b[0m\n\u001b[1;32m    633\u001b[0m         \u001b[0;32mif\u001b[0m \u001b[0mself\u001b[0m\u001b[0;34m.\u001b[0m\u001b[0mfilename\u001b[0m \u001b[0;32mis\u001b[0m \u001b[0;32mnot\u001b[0m \u001b[0;32mNone\u001b[0m\u001b[0;34m:\u001b[0m\u001b[0;34m\u001b[0m\u001b[0m\n\u001b[0;32m--> 634\u001b[0;31m             \u001b[0;32mwith\u001b[0m \u001b[0mopen\u001b[0m\u001b[0;34m(\u001b[0m\u001b[0mself\u001b[0m\u001b[0;34m.\u001b[0m\u001b[0mfilename\u001b[0m\u001b[0;34m,\u001b[0m \u001b[0mself\u001b[0m\u001b[0;34m.\u001b[0m\u001b[0m_read_flags\u001b[0m\u001b[0;34m)\u001b[0m \u001b[0;32mas\u001b[0m \u001b[0mf\u001b[0m\u001b[0;34m:\u001b[0m\u001b[0;34m\u001b[0m\u001b[0m\n\u001b[0m\u001b[1;32m    635\u001b[0m                 \u001b[0mself\u001b[0m\u001b[0;34m.\u001b[0m\u001b[0mdata\u001b[0m \u001b[0;34m=\u001b[0m \u001b[0mf\u001b[0m\u001b[0;34m.\u001b[0m\u001b[0mread\u001b[0m\u001b[0;34m(\u001b[0m\u001b[0;34m)\u001b[0m\u001b[0;34m\u001b[0m\u001b[0m\n\u001b[1;32m    636\u001b[0m         \u001b[0;32melif\u001b[0m \u001b[0mself\u001b[0m\u001b[0;34m.\u001b[0m\u001b[0murl\u001b[0m \u001b[0;32mis\u001b[0m \u001b[0;32mnot\u001b[0m \u001b[0;32mNone\u001b[0m\u001b[0;34m:\u001b[0m\u001b[0;34m\u001b[0m\u001b[0m\n",
      "\u001b[0;31mFileNotFoundError\u001b[0m: [Errno 2] No such file or directory: './img/tutorial1.png'"
     ]
    }
   ],
   "source": [
    "from IPython.display import display, Image\n",
    "\n",
    "display(Image(filename='./img/tutorial1.png'))\n",
    "display(Image(filename='./img/submission1.png'))"
   ]
  },
  {
   "cell_type": "markdown",
   "metadata": {},
   "source": [
    "### 2. Let $ D = \\{d_1 , . . . , d_n \\} $ be a set of documents and $ T = \\{t_1 , . . . , t_m \\} $ a set of terms (words). Let $ TD = (TD_{i,j} )_{i=1...m,j=1...n} $ be a matrix such that $ TD_{i,j} $ corresponds to the number of times the term $ t_i $ appears in the document $ d_j $. Also, let $ l_i $ be the length, number of characters, of term $ t_i $ , and let $ L = (l_1 , . . . , l_m ) $ be a column vector. Finally, assume a process where a document $ d_j $ is randomly chosen with uniform probability and then a term $ t_i $ , present in $ d_j $ , is randomly chosen with a probability proportional to the frequency of $ t_i $ in $ d_j $.\n",
    "\n",
    "For all the following expressions you must provide:\n",
    "\n",
    "* a mathematical expression to calculate it that includes TD, L, constants (scalars, vectors or matrices) and linear algebra operations\n",
    "\n",
    "* a expression in Numpy (http://www.scipy.org) that, when evaluated, generates the requested matrix, vector or scalar (the expression must be a linear algebra expression that does not involve control structures such as for, while etc.)\n",
    "\n",
    "* the result of evaluating the expression, assuming:"
   ]
  },
  {
   "cell_type": "code",
   "execution_count": 17,
   "metadata": {},
   "outputs": [
    {
     "name": "stdout",
     "output_type": "stream",
     "text": [
      "(6, 5)\n",
      "(6, 1)\n"
     ]
    }
   ],
   "source": [
    "import numpy as np\n",
    "\n",
    "TD=np.array([(2, 3, 0, 3, 7),\n",
    "            (0, 5, 5, 0, 3),\n",
    "            (5, 0, 7, 3, 3),\n",
    "            (3, 1, 0, 9, 9),\n",
    "            (0, 0, 7, 1, 3),\n",
    "            (6, 9, 4, 6, 0)])\n",
    "\n",
    "L=np.array([[5],\n",
    "            [2],\n",
    "            [3],\n",
    "            [6],\n",
    "            [4],\n",
    "            [3]])\n",
    "\n",
    "m = TD.shape[0]\n",
    "n = TD.shape[1]\n",
    "\n",
    "print(TD.shape)\n",
    "print(L.shape)"
   ]
  },
  {
   "cell_type": "markdown",
   "metadata": {},
   "source": [
    "### 2.a \n",
    "\n",
    "\n",
    "\\begin{equation*}\n",
    "\\large\n",
    "P(T, D)_{m_{x}n} = P(D) P(T | D)_{m_{x}n}    \n",
    "\\end{equation*}\n",
    "\n",
    "$$ \\large P(t_i | d_j) = \\frac{TD_{i,j}}{ \\sum_{k=0}^{i} t_{k,j} } $$\n",
    "\n",
    "$$ \\large P(T | D) = TD * (I_n * J_{n,m} \\bullet TD)^{-1} $$\n",
    "\n",
    "\\begin{equation*}\n",
    "\\large\n",
    "P(T, D)_{m_{x}n} = \\frac{1}{n}* TD \\oslash \\lgroup TD^T * \\textbf{1}_{n_{x}1} * \\textbf{1}_{n_{x}1} \\rgroup ^T\n",
    "\\end{equation*}\n"
   ]
  },
  {
   "cell_type": "code",
   "execution_count": 40,
   "metadata": {},
   "outputs": [
    {
     "name": "stdout",
     "output_type": "stream",
     "text": [
      "[[16.  0.  0.  0.  0.]\n",
      " [ 0. 18.  0.  0.  0.]\n",
      " [ 0.  0. 23.  0.  0.]\n",
      " [ 0.  0.  0. 22.  0.]\n",
      " [ 0.  0.  0.  0. 25.]]\n"
     ]
    },
    {
     "ename": "ValueError",
     "evalue": "shapes (6,5) and (6,5) not aligned: 5 (dim 1) != 6 (dim 0)",
     "output_type": "error",
     "traceback": [
      "\u001b[0;31m---------------------------------------------------------------------------\u001b[0m",
      "\u001b[0;31mValueError\u001b[0m                                Traceback (most recent call last)",
      "\u001b[0;32m<ipython-input-40-f826f909c868>\u001b[0m in \u001b[0;36m<module>\u001b[0;34m()\u001b[0m\n\u001b[1;32m      8\u001b[0m \u001b[0;34m\u001b[0m\u001b[0m\n\u001b[1;32m      9\u001b[0m \u001b[0;31m# Calc de joint probability\u001b[0m\u001b[0;34m\u001b[0m\u001b[0;34m\u001b[0m\u001b[0m\n\u001b[0;32m---> 10\u001b[0;31m \u001b[0mpTD\u001b[0m \u001b[0;34m=\u001b[0m \u001b[0mnp\u001b[0m\u001b[0;34m.\u001b[0m\u001b[0mmatmul\u001b[0m\u001b[0;34m(\u001b[0m\u001b[0mp_D\u001b[0m\u001b[0;34m,\u001b[0m \u001b[0mp_T_given_D\u001b[0m\u001b[0;34m)\u001b[0m\u001b[0;34m\u001b[0m\u001b[0m\n\u001b[0m\u001b[1;32m     11\u001b[0m \u001b[0;34m\u001b[0m\u001b[0m\n\u001b[1;32m     12\u001b[0m \u001b[0mprint\u001b[0m\u001b[0;34m(\u001b[0m\u001b[0mnp\u001b[0m\u001b[0;34m.\u001b[0m\u001b[0msum\u001b[0m\u001b[0;34m(\u001b[0m\u001b[0mpTD\u001b[0m\u001b[0;34m)\u001b[0m\u001b[0;34m)\u001b[0m\u001b[0;34m\u001b[0m\u001b[0m\n",
      "\u001b[0;31mValueError\u001b[0m: shapes (6,5) and (6,5) not aligned: 5 (dim 1) != 6 (dim 0)"
     ]
    }
   ],
   "source": [
    "# The documents are in the columns and have uniform distribution\n",
    "p_D = (1/n)*TD\n",
    "\n",
    "# Divide the occurences of each element (cell) by the number of terms in the document (column sum)\n",
    "col_sum  = np.eye(n) * np.ones((n, m)).dot(TD)\n",
    "print(col_sum)\n",
    "p_T_given_D = np.matmul(TD, np.linalg.inv(col_sum))\n",
    "\n",
    "# Calc de joint probability\n",
    "pTD = np.matmul(p_D, p_T_given_D)\n",
    "\n",
    "print(np.sum(pTD))\n",
    "\n",
    "pTD"
   ]
  },
  {
   "cell_type": "code",
   "execution_count": 10,
   "metadata": {},
   "outputs": [
    {
     "name": "stdout",
     "output_type": "stream",
     "text": [
      "1.0\n"
     ]
    },
    {
     "data": {
      "text/plain": [
       "array([[0.025     , 0.03333333, 0.        , 0.02727273, 0.056     ],\n",
       "       [0.        , 0.05555556, 0.04347826, 0.        , 0.024     ],\n",
       "       [0.0625    , 0.        , 0.06086957, 0.02727273, 0.024     ],\n",
       "       [0.0375    , 0.01111111, 0.        , 0.08181818, 0.072     ],\n",
       "       [0.        , 0.        , 0.06086957, 0.00909091, 0.024     ],\n",
       "       [0.075     , 0.1       , 0.03478261, 0.05454545, 0.        ]])"
      ]
     },
     "execution_count": 10,
     "metadata": {},
     "output_type": "execute_result"
    }
   ],
   "source": [
    "a = np.matmul(TD.T, np.ones((m, 1)))\n",
    "a = np.matmul(a, np.ones((1, m)))\n",
    "\n",
    "b = TD / a.T\n",
    "\n",
    "pTD = (1/n)*b\n",
    "\n",
    "print(np.sum(pTD))\n",
    "\n",
    "pTD"
   ]
  },
  {
   "cell_type": "markdown",
   "metadata": {},
   "source": [
    "### 2.b\n",
    "\n",
    "\n",
    "\\begin{equation*}\n",
    "\\large\n",
    "P(T | D)_{m_{x}n} = TD \\oslash \\lgroup TD^T * \\textbf{1}_{n_{x}1} * \\textbf{1}_{n_{x}1} \\rgroup ^T\n",
    "\\end{equation*}\n"
   ]
  },
  {
   "cell_type": "code",
   "execution_count": 11,
   "metadata": {},
   "outputs": [
    {
     "data": {
      "text/plain": [
       "array([[0.125     , 0.16666667, 0.        , 0.13636364, 0.28      ],\n",
       "       [0.        , 0.27777778, 0.2173913 , 0.        , 0.12      ],\n",
       "       [0.3125    , 0.        , 0.30434783, 0.13636364, 0.12      ],\n",
       "       [0.1875    , 0.05555556, 0.        , 0.40909091, 0.36      ],\n",
       "       [0.        , 0.        , 0.30434783, 0.04545455, 0.12      ],\n",
       "       [0.375     , 0.5       , 0.17391304, 0.27272727, 0.        ]])"
      ]
     },
     "execution_count": 11,
     "metadata": {},
     "output_type": "execute_result"
    }
   ],
   "source": [
    "a = np.matmul(TD.T, np.ones((m, 1)))\n",
    "a = np.matmul(a, np.ones((1, m)))\n",
    "\n",
    "pTgivenD = TD / a.T\n",
    "\n",
    "pTgivenD"
   ]
  },
  {
   "cell_type": "markdown",
   "metadata": {},
   "source": [
    "## 2.d\n",
    "\n",
    "\n",
    "\\begin{equation*}\n",
    "\\large\n",
    "P(D)_{} = \\frac{1}{n} * \\textbf{1}_{n_{x}1}\n",
    "\\end{equation*}"
   ]
  },
  {
   "cell_type": "code",
   "execution_count": 12,
   "metadata": {},
   "outputs": [
    {
     "data": {
      "text/plain": [
       "array([[0.2],\n",
       "       [0.2],\n",
       "       [0.2],\n",
       "       [0.2],\n",
       "       [0.2]])"
      ]
     },
     "execution_count": 12,
     "metadata": {},
     "output_type": "execute_result"
    }
   ],
   "source": [
    "pD = [1/n] * np.ones((n, 1))\n",
    "\n",
    "pD"
   ]
  },
  {
   "cell_type": "markdown",
   "metadata": {},
   "source": [
    "## 2.f\n",
    "\n",
    "\n",
    "\\begin{equation*}\n",
    "\\large\n",
    "E[l] = \\sum_{i} l_i P(l_i) = \\frac{1}{m} * L * \\textbf{1}_{m_{x}1}\n",
    "\\end{equation*}"
   ]
  },
  {
   "cell_type": "code",
   "execution_count": 13,
   "metadata": {},
   "outputs": [
    {
     "data": {
      "text/plain": [
       "array([3.83333333])"
      ]
     },
     "execution_count": 13,
     "metadata": {},
     "output_type": "execute_result"
    }
   ],
   "source": [
    "E = (1/m) * L.dot(np.ones((m,1)))\n",
    "E"
   ]
  },
  {
   "cell_type": "markdown",
   "metadata": {},
   "source": [
    "## 2.f\n",
    "\n",
    "\n",
    "\\begin{equation*}\n",
    "\\large\n",
    "B = L - \\mu \\\\\n",
    "\\large\n",
    "Var[l] = E[(l-\\mu)^2] = \\frac{1}{m} * (B \\circ B) * \\textbf{1}_{m_{x}1}\n",
    "\\end{equation*}"
   ]
  },
  {
   "cell_type": "code",
   "execution_count": 14,
   "metadata": {},
   "outputs": [
    {
     "name": "stdout",
     "output_type": "stream",
     "text": [
      "[1.36111111 3.36111111 0.69444444 4.69444444 0.02777778 0.69444444]\n",
      "[1.36111111 3.36111111 0.69444444 4.69444444 0.02777778 0.69444444]\n"
     ]
    },
    {
     "data": {
      "text/plain": [
       "array([1.80555556])"
      ]
     },
     "execution_count": 14,
     "metadata": {},
     "output_type": "execute_result"
    }
   ],
   "source": [
    "b = np.power((L-np.mean(L)), 2)\n",
    "\n",
    "print(b)\n",
    "\n",
    "b = L-np.mean(L)\n",
    "# Hadamard product\n",
    "b = np.multiply(b, b)\n",
    "\n",
    "print(b)\n",
    "\n",
    "var = (1/m) * b.dot(np.ones((m,1)))\n",
    "\n",
    "var"
   ]
  },
  {
   "cell_type": "code",
   "execution_count": null,
   "metadata": {},
   "outputs": [],
   "source": []
  }
 ],
 "metadata": {
  "kernelspec": {
   "display_name": "Python [default]",
   "language": "python",
   "name": "python3"
  },
  "language_info": {
   "codemirror_mode": {
    "name": "ipython",
    "version": 3
   },
   "file_extension": ".py",
   "mimetype": "text/x-python",
   "name": "python",
   "nbconvert_exporter": "python",
   "pygments_lexer": "ipython3",
   "version": "3.6.5"
  }
 },
 "nbformat": 4,
 "nbformat_minor": 2
}
