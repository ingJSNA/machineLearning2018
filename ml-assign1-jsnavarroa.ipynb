{
 "cells": [
  {
   "cell_type": "markdown",
   "metadata": {},
   "source": [
    "# Assigment 1\n",
    "\n",
    "Juan Navarro, <jsnavarroa@unal.edu.co>\n",
    "\n",
    "## 1.\n",
    "\n",
    "| Tutorial                    | Kaggle        |\n",
    "| :-------------:             |:-------------:| \n",
    "| ![title](img/tutorial1.png) | ![title](img/submission1.png) |\n",
    "\n",
    "## 2.\n"
   ]
  },
  {
   "cell_type": "code",
   "execution_count": 37,
   "metadata": {},
   "outputs": [
    {
     "name": "stdout",
     "output_type": "stream",
     "text": [
      "(6, 5)\n",
      "(6,)\n"
     ]
    }
   ],
   "source": [
    "import numpy as np\n",
    "\n",
    "TD=np.array([(2, 3, 0, 3, 7),\n",
    "            (0, 5, 5, 0, 3),\n",
    "            (5, 0, 7, 3, 3),\n",
    "            (3, 1, 0, 9, 9),\n",
    "            (0, 0, 7, 1, 3),\n",
    "            (6, 9, 4, 6, 0)])\n",
    "\n",
    "L=np.array([5,\n",
    "            2,\n",
    "            3,\n",
    "            6,\n",
    "            4,\n",
    "            3])\n",
    "\n",
    "m = TD.shape[0]\n",
    "n = TD.shape[1]\n",
    "\n",
    "print(TD.shape)\n",
    "print(L.shape)"
   ]
  },
  {
   "cell_type": "markdown",
   "metadata": {},
   "source": [
    "### 2.a \n",
    "\n",
    "\n",
    "\\begin{equation*}\n",
    "\\large\n",
    "P(T, D)_{m_{x}n} = P(D) P(T | D)_{m_{x}n}    \n",
    "\\end{equation*}\n",
    "\n",
    "\\begin{equation*}\n",
    "\\large\n",
    "P(T, D)_{m_{x}n} = \\frac{1}{n}* TD \\oslash \\lgroup TD^T * \\textbf{1}_{n_{x}1} * \\textbf{1}_{n_{x}1} \\rgroup ^T\n",
    "\\end{equation*}\n"
   ]
  },
  {
   "cell_type": "code",
   "execution_count": 38,
   "metadata": {},
   "outputs": [
    {
     "name": "stdout",
     "output_type": "stream",
     "text": [
      "1.0\n"
     ]
    },
    {
     "data": {
      "text/plain": [
       "array([[0.025     , 0.03333333, 0.        , 0.02727273, 0.056     ],\n",
       "       [0.        , 0.05555556, 0.04347826, 0.        , 0.024     ],\n",
       "       [0.0625    , 0.        , 0.06086957, 0.02727273, 0.024     ],\n",
       "       [0.0375    , 0.01111111, 0.        , 0.08181818, 0.072     ],\n",
       "       [0.        , 0.        , 0.06086957, 0.00909091, 0.024     ],\n",
       "       [0.075     , 0.1       , 0.03478261, 0.05454545, 0.        ]])"
      ]
     },
     "execution_count": 38,
     "metadata": {},
     "output_type": "execute_result"
    }
   ],
   "source": [
    "a = np.matmul(TD.T, np.ones((m, 1)))\n",
    "a = np.matmul(a, np.ones((1, m)))\n",
    "\n",
    "b = TD / a.T\n",
    "\n",
    "pTD = (1/n)*b\n",
    "\n",
    "print(np.sum(pTD))\n",
    "\n",
    "pTD"
   ]
  },
  {
   "cell_type": "markdown",
   "metadata": {},
   "source": [
    "### 2.b\n",
    "\n",
    "\n",
    "\\begin{equation*}\n",
    "\\large\n",
    "P(T | D)_{m_{x}n} = TD \\oslash \\lgroup TD^T * \\textbf{1}_{n_{x}1} * \\textbf{1}_{n_{x}1} \\rgroup ^T\n",
    "\\end{equation*}\n"
   ]
  },
  {
   "cell_type": "code",
   "execution_count": 39,
   "metadata": {},
   "outputs": [
    {
     "data": {
      "text/plain": [
       "array([[0.125     , 0.16666667, 0.        , 0.13636364, 0.28      ],\n",
       "       [0.        , 0.27777778, 0.2173913 , 0.        , 0.12      ],\n",
       "       [0.3125    , 0.        , 0.30434783, 0.13636364, 0.12      ],\n",
       "       [0.1875    , 0.05555556, 0.        , 0.40909091, 0.36      ],\n",
       "       [0.        , 0.        , 0.30434783, 0.04545455, 0.12      ],\n",
       "       [0.375     , 0.5       , 0.17391304, 0.27272727, 0.        ]])"
      ]
     },
     "execution_count": 39,
     "metadata": {},
     "output_type": "execute_result"
    }
   ],
   "source": [
    "a = np.matmul(TD.T, np.ones((m, 1)))\n",
    "a = np.matmul(a, np.ones((1, m)))\n",
    "\n",
    "pTgivenD = TD / a.T\n",
    "\n",
    "pTgivenD"
   ]
  },
  {
   "cell_type": "markdown",
   "metadata": {},
   "source": [
    "## 2.d\n",
    "\n",
    "\n",
    "\\begin{equation*}\n",
    "\\large\n",
    "P(D)_{} = \\frac{1}{n} * \\textbf{1}_{n_{x}1}\n",
    "\\end{equation*}"
   ]
  },
  {
   "cell_type": "code",
   "execution_count": 40,
   "metadata": {},
   "outputs": [
    {
     "data": {
      "text/plain": [
       "array([[0.2],\n",
       "       [0.2],\n",
       "       [0.2],\n",
       "       [0.2],\n",
       "       [0.2]])"
      ]
     },
     "execution_count": 40,
     "metadata": {},
     "output_type": "execute_result"
    }
   ],
   "source": [
    "pD = [1/n] * np.ones((n, 1))\n",
    "\n",
    "pD"
   ]
  },
  {
   "cell_type": "markdown",
   "metadata": {},
   "source": [
    "## 2.f\n",
    "\n",
    "\n",
    "\\begin{equation*}\n",
    "\\large\n",
    "E[l] = \\sum_{i} l_i P(l_i) = \\frac{1}{m} * L * \\textbf{1}_{m_{x}1}\n",
    "\\end{equation*}"
   ]
  },
  {
   "cell_type": "code",
   "execution_count": 41,
   "metadata": {},
   "outputs": [
    {
     "data": {
      "text/plain": [
       "array([3.83333333])"
      ]
     },
     "execution_count": 41,
     "metadata": {},
     "output_type": "execute_result"
    }
   ],
   "source": [
    "E = (1/m) * L.dot(np.ones((m,1)))\n",
    "E"
   ]
  },
  {
   "cell_type": "markdown",
   "metadata": {},
   "source": [
    "## 2.f\n",
    "\n",
    "\n",
    "\\begin{equation*}\n",
    "\\large\n",
    "B = L - \\mu \\\\\n",
    "\\large\n",
    "Var[l] = E[(l-\\mu)^2] = \\frac{1}{m} * (B \\circ B) * \\textbf{1}_{m_{x}1}\n",
    "\\end{equation*}"
   ]
  },
  {
   "cell_type": "code",
   "execution_count": 42,
   "metadata": {},
   "outputs": [
    {
     "name": "stdout",
     "output_type": "stream",
     "text": [
      "[1.36111111 3.36111111 0.69444444 4.69444444 0.02777778 0.69444444]\n",
      "[1.36111111 3.36111111 0.69444444 4.69444444 0.02777778 0.69444444]\n"
     ]
    },
    {
     "data": {
      "text/plain": [
       "array([1.80555556])"
      ]
     },
     "execution_count": 42,
     "metadata": {},
     "output_type": "execute_result"
    }
   ],
   "source": [
    "b = np.power((L-np.mean(L)), 2)\n",
    "\n",
    "print(b)\n",
    "\n",
    "b = L-np.mean(L)\n",
    "# Hadamard product\n",
    "b = np.multiply(b, b)\n",
    "\n",
    "print(b)\n",
    "\n",
    "var = (1/m) * b.dot(np.ones((m,1)))\n",
    "\n",
    "var"
   ]
  },
  {
   "cell_type": "code",
   "execution_count": null,
   "metadata": {},
   "outputs": [],
   "source": []
  }
 ],
 "metadata": {
  "kernelspec": {
   "display_name": "Python [default]",
   "language": "python",
   "name": "python3"
  },
  "language_info": {
   "codemirror_mode": {
    "name": "ipython",
    "version": 3
   },
   "file_extension": ".py",
   "mimetype": "text/x-python",
   "name": "python",
   "nbconvert_exporter": "python",
   "pygments_lexer": "ipython3",
   "version": "3.6.4"
  }
 },
 "nbformat": 4,
 "nbformat_minor": 2
}
