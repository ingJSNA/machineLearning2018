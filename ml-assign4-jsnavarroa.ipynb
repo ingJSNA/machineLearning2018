{
 "cells": [
  {
   "cell_type": "markdown",
   "metadata": {},
   "source": [
    "# Assignment 4\n",
    "## [Machine Learning 2018-1](https://fagonzalezo.github.io/ml-2018-1/)\n",
    "**Submission:** Sunday May 6th\n",
    "\n",
    "2 students per group\n",
    "\n",
    "-------------------------------\n"
   ]
  },
  {
   "cell_type": "code",
   "execution_count": 1,
   "metadata": {
    "collapsed": true
   },
   "outputs": [],
   "source": [
    "import numpy as np\n",
    "import pylab as pl\n",
    "\n",
    "%matplotlib inline\n"
   ]
  },
  {
   "cell_type": "markdown",
   "metadata": {},
   "source": [
    "### 1. (2.0)\n",
    "Consider the following neural network:\n",
    "\n",
    "![title](nn.jpg)\n",
    "\n",
    "where $a_{i}=\\sum_{j}w_{j}^{i}z_{j}$ , $z_{i}=f_{i}(a_{i})$ for\n",
    "$i=1,2,3,4$, $z_{5}=a_{5}$ (an input neuron), $f_{2}(x)=\\textrm{relu}(x)$,\n",
    "and $f_{1}(x)=f_{3}(x)=f_{4}(x)=\\textrm{sigmoid}(x)$. $\\textrm{relu}(x)$\n",
    "corresponds to a rectifier linear unit transfer function defined as:\n",
    "$$\n",
    "\\textrm{relu}(x)=\\begin{cases}\n",
    "x & \\textrm{if }x\\ge0\\\\\n",
    "0 & \\textrm{otherwise}\n",
    "\\end{cases}\n",
    "$$\n",
    "\n",
    "1.a Write a function to simulate the neural network:"
   ]
  },
  {
   "cell_type": "code",
   "execution_count": 2,
   "metadata": {
    "collapsed": true
   },
   "outputs": [],
   "source": [
    "def forward_propagate(x, w):\n",
    "    '''\n",
    "    x: input value for neuron 5\n",
    "    w: weights array in the following order\n",
    "       [w13, w12, w14, w32, w42, w53, w54]\n",
    "    Returns: a pair of arrays (a, z), where \n",
    "             a has the activation values for each neuron, and\n",
    "             z the output values for each neuron\n",
    "    '''\n",
    "    z = np.zeros(5)\n",
    "    a = np.zeros(5)\n",
    "    # your code here\n",
    "    return (a, z)"
   ]
  },
  {
   "cell_type": "markdown",
   "metadata": {},
   "source": [
    "1.b Deduce the equations to calculate $\\delta_{i}$ (the error value per\n",
    "neuron) for all the neurons. Write a function that given a training\n",
    "sample and the weights of the network calculate $\\delta_{i}$ for\n",
    "each neuron. Assume a square error loss:\n",
    "\n",
    "$$ L_2(f, D) =\\sum_{(x_{i},r_{i})\\in D} (r_i - f(x_i))^2 $$"
   ]
  },
  {
   "cell_type": "code",
   "execution_count": 3,
   "metadata": {
    "collapsed": true
   },
   "outputs": [],
   "source": [
    "def bp(x, y, w):\n",
    "    '''\n",
    "    x: input value for neuron 5\n",
    "    y: output value for neuron 1\n",
    "    w: weights array in the following order\n",
    "       [w13, w12, w14, w32, w42, w53, w54]\n",
    "    Returns: an array delta with the delta values for each\n",
    "             neuron\n",
    "    '''\n",
    "    delta = np.zeros(5)\n",
    "    return delta"
   ]
  },
  {
   "cell_type": "markdown",
   "metadata": {},
   "source": [
    "1.c Write a function to update the neural network weights when a new training sample is shown using stochastic gradient descent."
   ]
  },
  {
   "cell_type": "code",
   "execution_count": 4,
   "metadata": {
    "collapsed": true
   },
   "outputs": [],
   "source": [
    "def train_step(x, y, w, eta):\n",
    "    '''\n",
    "    x: input value for neuron 5\n",
    "    y: output value for neuron 1\n",
    "    w: weights array in the following order\n",
    "       [w13, w12, w14, w32, w42, w53, w54]\n",
    "    eta: learning rate\n",
    "    Returns: updated w array\n",
    "    '''\n",
    "    # Calculate dw\n",
    "    # Your code here\n",
    "    dw = np.zeros(5)\n",
    "    w = w - eta*dw\n",
    "    return w"
   ]
  },
  {
   "cell_type": "markdown",
   "metadata": {},
   "source": [
    "1.d Use the previous function to train the network with these [training samples](http://fagonzalezo.github.io/ml/samples_assign4.txt).  Plot the evolution of the error and the predictions of the trained network. Write down the weights of the trained network."
   ]
  },
  {
   "cell_type": "markdown",
   "metadata": {
    "collapsed": true
   },
   "source": [
    "## 2. (1.0) The hangman\n",
    "\n",
    "Design a function able to find the missing characters from a word. The function must work as follows:\n",
    "\n",
    "```\n",
    ">>> hangman(\"pe_p_e\")\n",
    "'people'\n",
    "\n",
    ">>> hangman(\"phi__sop_y\")\n",
    "'philosophy'\n",
    "\n",
    ">>> hangman(\"si_nif_c_nc_\")\n",
    "'significance'\n",
    "\n",
    ">>> hangman(\"kn__l_d_e\")\n",
    "'knowledge'\n",
    "\n",
    ">>> hangman(\"inte_r_ga_i_n\")\n",
    "'interrogation'\n",
    "```\n",
    "\n",
    "The function must be able to deal with up to 4 unknowns in arbitrary length words. The function must work in a reasonable time (max 30 seconds in a laptop). "
   ]
  },
  {
   "cell_type": "code",
   "execution_count": 2,
   "metadata": {},
   "outputs": [
    {
     "name": "stderr",
     "output_type": "stream",
     "text": [
      "Using TensorFlow backend.\n"
     ]
    }
   ],
   "source": [
    "def hangman(word):\n",
    "    ### your code here\n",
    "    return ''"
   ]
  },
  {
   "cell_type": "markdown",
   "metadata": {},
   "source": [
    "### 3. (2.0) Bird classification. \n",
    "\n",
    "1. Direct prediction\n",
    "   * Download the dataset birds from http://www-cvr.ai.uiuc.edu/ponce_grp/data/.\n",
    "   * Use [Keras](https://keras.io/) and the [MobileNet](https://keras.io/applications/#mobilenet) pre-trained model, to classify the images in the birds dataset. Construct a confusion matrix that relates the bird classes with the 10 most frequent classes from ImageNet predicted by the model.\n",
    "2. Transfer learning\n",
    "   * Use the pre-trained MobileNet model as a feature extractor. Create a new model that replaces the top part of MobileNet with two layers of 256 and 6 neurons respectively.\n",
    "   * Change the attribute trainable of the other layers to be False. This will prevent the weights of these layers to be changed during training.\n",
    "   * Train the model with the training images from the bird dataset. \n",
    "   * Evaluate the performance over the test dataset reporting the results in a confusion matrix. Discuss the results. \n",
    "3. Fine tuning\n",
    "   * Repeat the experiment from the last question, but this time allow all the layers to be trained. \n",
    "   * Compare and discuss the results."
   ]
  },
  {
   "cell_type": "markdown",
   "metadata": {},
   "source": [
    "----------------------\n",
    "\n",
    "The assignment must be submitted as a [Jupyter notebook](http://jupyter.org/) through the following [Dropbox file request](https://www.dropbox.com/request/KqkTCJ1gENtNkNRaWomX), before midnight of the deadline date. The file must be named as ml-assign4-unalusername1-unalusername2.ipynb, where unalusername is the user name assigned by the university (include the usernames of all the members of the group). Check that the notebook executes properly and that the corresponding outputs render appropriately.  If there are several files, please put them in a zip file."
   ]
  }
 ],
 "metadata": {
  "kernelspec": {
   "display_name": "Python [default]",
   "language": "python",
   "name": "python3"
  },
  "language_info": {
   "codemirror_mode": {
    "name": "ipython",
    "version": 3
   },
   "file_extension": ".py",
   "mimetype": "text/x-python",
   "name": "python",
   "nbconvert_exporter": "python",
   "pygments_lexer": "ipython3",
   "version": "3.6.5"
  }
 },
 "nbformat": 4,
 "nbformat_minor": 1
}
