{
 "cells": [
  {
   "cell_type": "code",
   "execution_count": 14,
   "metadata": {},
   "outputs": [],
   "source": [
    "import numpy as np\n",
    "import pandas as pd\n",
    "from matplotlib import pyplot as plt\n",
    "\n",
    "import pybrain\n",
    "\n",
    "#pd.core.format.set_option('notebook_repr_html',True)\n",
    "%matplotlib inline"
   ]
  },
  {
   "cell_type": "markdown",
   "metadata": {},
   "source": [
    "# Quick and Dirty Introduction to Neural Networks\n",
    "\n",
    "[Fabio A. González](http://dis.unal.edu.co/~fgonza/), Universidad Nacional de Colombia\n",
    "\n",
    "## Artificial Neuron\n",
    "\n",
    "\n",
    "\n",
    "\n",
    "<img src=\"http://upload.wikimedia.org/wikipedia/commons/thumb/6/60/ArtificialNeuronModel_english.png/600px-ArtificialNeuronModel_english.png\">\n",
    "\n",
    "$$o_j^{(n)} = f\\left(\\sum_{i\\; in\\; layer (n-1)}w_{ij}o_i^{(n-1)} \\right)$$\n",
    "\n",
    "## Step activation function\n",
    "<img src=\"https://c.mql5.com/2/4/act1.png\">\n",
    "\n",
    "## Logistic activation function\n",
    "\n",
    "$$f(x) = \\frac{1}{1 - e^{-(x-b)}}$$\n",
    "\n",
    "<img width= 300 src=\"http://upload.wikimedia.org/wikipedia/commons/thumb/b/b5/SigmoidFunction.png/400px-SigmoidFunction.png\">\n",
    "\n",
    "## Question: How to program an artificial neuron to calculate the *and* function?"
   ]
  },
  {
   "cell_type": "markdown",
   "metadata": {},
   "source": [
    "<table>\n",
    "<tr>\n",
    "<th>X</th>\n",
    "<th>Y</th>\n",
    "<th>X and Y</th>\n",
    "</tr>\n",
    "<tr>\n",
    "<td>0</td>\n",
    "<td>0</td>\n",
    "<td style=\"text-align:center\">0</td>\n",
    "</tr>\n",
    "<tr>\n",
    "<td>0</td>\n",
    "<td>1</td>\n",
    "<td style=\"text-align:center\">0</td>\n",
    "</tr>\n",
    "<tr>\n",
    "<td>1</td>\n",
    "<td>0</td>\n",
    "<td style=\"text-align:center\">0</td>\n",
    "</tr>\n",
    "<tr>\n",
    "<td>1</td>\n",
    "<td>1</td>\n",
    "<td style=\"text-align:center\">1</td>\n",
    "</tr>\n",
    "</table>\n",
    "\n",
    "<img width=500 src=\"2in-neuron.jpg\">\n",
    "\n"
   ]
  },
  {
   "cell_type": "code",
   "execution_count": 15,
   "metadata": {},
   "outputs": [
    {
     "name": "stdout",
     "output_type": "stream",
     "text": [
      "[-2.1318009  -0.12742832  1.43336073]\n"
     ]
    }
   ],
   "source": [
    "from pybrain.tools.shortcuts import buildNetwork\n",
    "net = buildNetwork(2, 1, outclass=pybrain.SigmoidLayer)\n",
    "print(net.params)\n"
   ]
  },
  {
   "cell_type": "code",
   "execution_count": 16,
   "metadata": {},
   "outputs": [
    {
     "data": {
      "text/html": [
       "<div>\n",
       "<style scoped>\n",
       "    .dataframe tbody tr th:only-of-type {\n",
       "        vertical-align: middle;\n",
       "    }\n",
       "\n",
       "    .dataframe tbody tr th {\n",
       "        vertical-align: top;\n",
       "    }\n",
       "\n",
       "    .dataframe thead th {\n",
       "        text-align: right;\n",
       "    }\n",
       "</style>\n",
       "<table border=\"1\" class=\"dataframe\">\n",
       "  <thead>\n",
       "    <tr style=\"text-align: right;\">\n",
       "      <th></th>\n",
       "      <th>X</th>\n",
       "      <th>Y</th>\n",
       "      <th>output</th>\n",
       "    </tr>\n",
       "  </thead>\n",
       "  <tbody>\n",
       "    <tr>\n",
       "      <th>0</th>\n",
       "      <td>0.0</td>\n",
       "      <td>0.0</td>\n",
       "      <td>0.106</td>\n",
       "    </tr>\n",
       "    <tr>\n",
       "      <th>1</th>\n",
       "      <td>0.0</td>\n",
       "      <td>1.0</td>\n",
       "      <td>0.332</td>\n",
       "    </tr>\n",
       "    <tr>\n",
       "      <th>2</th>\n",
       "      <td>1.0</td>\n",
       "      <td>0.0</td>\n",
       "      <td>0.095</td>\n",
       "    </tr>\n",
       "    <tr>\n",
       "      <th>3</th>\n",
       "      <td>1.0</td>\n",
       "      <td>1.0</td>\n",
       "      <td>0.305</td>\n",
       "    </tr>\n",
       "  </tbody>\n",
       "</table>\n",
       "</div>"
      ],
      "text/plain": [
       "     X    Y  output\n",
       "0  0.0  0.0   0.106\n",
       "1  0.0  1.0   0.332\n",
       "2  1.0  0.0   0.095\n",
       "3  1.0  1.0   0.305"
      ]
     },
     "execution_count": 16,
     "metadata": {},
     "output_type": "execute_result"
    }
   ],
   "source": [
    "def print_pred2(dataset, network):\n",
    "    df = pd.DataFrame(dataset.data['sample'][:dataset.getLength()],columns=['X', 'Y'])\n",
    "    prediction = np.round(network.activateOnDataset(dataset),3)\n",
    "    df['output'] = pd.DataFrame(prediction)\n",
    "    return df\n",
    "\n",
    "from pybrain.datasets import UnsupervisedDataSet, SupervisedDataSet\n",
    "D = UnsupervisedDataSet(2) # define a dataset in pybrain\n",
    "D.addSample([0,0])\n",
    "D.addSample([0,1])\n",
    "D.addSample([1,0])\n",
    "D.addSample([1,1])\n",
    "print_pred2(D, net)"
   ]
  },
  {
   "cell_type": "code",
   "execution_count": 17,
   "metadata": {},
   "outputs": [
    {
     "data": {
      "text/html": [
       "<div>\n",
       "<style scoped>\n",
       "    .dataframe tbody tr th:only-of-type {\n",
       "        vertical-align: middle;\n",
       "    }\n",
       "\n",
       "    .dataframe tbody tr th {\n",
       "        vertical-align: top;\n",
       "    }\n",
       "\n",
       "    .dataframe thead th {\n",
       "        text-align: right;\n",
       "    }\n",
       "</style>\n",
       "<table border=\"1\" class=\"dataframe\">\n",
       "  <thead>\n",
       "    <tr style=\"text-align: right;\">\n",
       "      <th></th>\n",
       "      <th>X</th>\n",
       "      <th>Y</th>\n",
       "      <th>output</th>\n",
       "    </tr>\n",
       "  </thead>\n",
       "  <tbody>\n",
       "    <tr>\n",
       "      <th>0</th>\n",
       "      <td>0.0</td>\n",
       "      <td>0.0</td>\n",
       "      <td>0.0</td>\n",
       "    </tr>\n",
       "    <tr>\n",
       "      <th>1</th>\n",
       "      <td>0.0</td>\n",
       "      <td>1.0</td>\n",
       "      <td>1.0</td>\n",
       "    </tr>\n",
       "    <tr>\n",
       "      <th>2</th>\n",
       "      <td>1.0</td>\n",
       "      <td>0.0</td>\n",
       "      <td>1.0</td>\n",
       "    </tr>\n",
       "    <tr>\n",
       "      <th>3</th>\n",
       "      <td>1.0</td>\n",
       "      <td>1.0</td>\n",
       "      <td>1.0</td>\n",
       "    </tr>\n",
       "  </tbody>\n",
       "</table>\n",
       "</div>"
      ],
      "text/plain": [
       "     X    Y  output\n",
       "0  0.0  0.0     0.0\n",
       "1  0.0  1.0     1.0\n",
       "2  1.0  0.0     1.0\n",
       "3  1.0  1.0     1.0"
      ]
     },
     "execution_count": 17,
     "metadata": {},
     "output_type": "execute_result"
    }
   ],
   "source": [
    "net.params[:] = [-40, 50,  50]\n",
    "print_pred2(D, net)"
   ]
  },
  {
   "cell_type": "markdown",
   "metadata": {},
   "source": [
    "## Question: How to program an artificial neuron to calculate the *xor* function?\n",
    "\n",
    "<table>\n",
    "<tr>\n",
    "<th>X</th>\n",
    "<th>Y</th>\n",
    "<th>X and Y</th>\n",
    "</tr>\n",
    "<tr>\n",
    "<td>0</td>\n",
    "<td>0</td>\n",
    "<td style=\"text-align:center\">0</td>\n",
    "</tr>\n",
    "<tr>\n",
    "<td>0</td>\n",
    "<td>1</td>\n",
    "<td style=\"text-align:center\">1</td>\n",
    "</tr>\n",
    "<tr>\n",
    "<td>1</td>\n",
    "<td>0</td>\n",
    "<td style=\"text-align:center\">1</td>\n",
    "</tr>\n",
    "<tr>\n",
    "<td>1</td>\n",
    "<td>1</td>\n",
    "<td style=\"text-align:center\">0</td>\n",
    "</tr>\n",
    "</table>"
   ]
  },
  {
   "cell_type": "code",
   "execution_count": 18,
   "metadata": {
    "scrolled": false
   },
   "outputs": [
    {
     "data": {
      "image/png": "[encoded data removed]",
      "text/plain": [
       "<Figure size 432x288 with 1 Axes>"
      ]
     },
     "metadata": {},
     "output_type": "display_data"
    }
   ],
   "source": [
    "def plot_nn_prediction(N): \n",
    "    # a function to plot the binary output of a network on the [0,1]x[0,1] space\n",
    "    x_list = np.arange(0.0,1.0,0.025)\n",
    "    y_list = np.arange(1.0,0.0,-0.025)    \n",
    "    z = [0.0 if N.activate([x,y])[0] <0.5 else 1.0  for y in y_list for x in x_list]\n",
    "    z = np.array(z)\n",
    "    grid = z.reshape((len(x_list), len(y_list)))\n",
    "    plt.imshow(grid, extent=(x_list.min(), x_list.max(), y_list.min(), y_list.max()),cmap=plt.get_cmap('Greys_r'))\n",
    "    plt.show()\n",
    "\n",
    "net.params[:] = [-30, 20, 20]\n",
    "plot_nn_prediction(net)"
   ]
  },
  {
   "cell_type": "markdown",
   "metadata": {},
   "source": [
    "<br/>\n",
    "<br/>\n",
    "## Answer: It is impossible with only one neuron!\n",
    "<br/>\n",
    "<br/>  \n",
    "<br/>\n",
    "<br/> \n",
    "  \n",
    "## We need to use more than one neuron...."
   ]
  },
  {
   "cell_type": "markdown",
   "metadata": {},
   "source": [
    "<img src=\"http://www.cs.nott.ac.uk/~gxk/courses/g5aiai/006neuralnetworks/images/ffnet.jpg\">"
   ]
  },
  {
   "cell_type": "code",
   "execution_count": 19,
   "metadata": {},
   "outputs": [
    {
     "name": "stdout",
     "output_type": "stream",
     "text": [
      "[-3.62933454 -2.28573083 -7.15865781  5.32760118  5.32877405  4.65335671\n",
      "  4.65405001  7.64912883 -7.894928  ]\n"
     ]
    },
    {
     "data": {
      "text/html": [
       "<div>\n",
       "<style scoped>\n",
       "    .dataframe tbody tr th:only-of-type {\n",
       "        vertical-align: middle;\n",
       "    }\n",
       "\n",
       "    .dataframe tbody tr th {\n",
       "        vertical-align: top;\n",
       "    }\n",
       "\n",
       "    .dataframe thead th {\n",
       "        text-align: right;\n",
       "    }\n",
       "</style>\n",
       "<table border=\"1\" class=\"dataframe\">\n",
       "  <thead>\n",
       "    <tr style=\"text-align: right;\">\n",
       "      <th></th>\n",
       "      <th>X</th>\n",
       "      <th>Y</th>\n",
       "      <th>output</th>\n",
       "    </tr>\n",
       "  </thead>\n",
       "  <tbody>\n",
       "    <tr>\n",
       "      <th>0</th>\n",
       "      <td>0.0</td>\n",
       "      <td>0.0</td>\n",
       "      <td>0.051</td>\n",
       "    </tr>\n",
       "    <tr>\n",
       "      <th>1</th>\n",
       "      <td>0.0</td>\n",
       "      <td>1.0</td>\n",
       "      <td>0.956</td>\n",
       "    </tr>\n",
       "    <tr>\n",
       "      <th>2</th>\n",
       "      <td>1.0</td>\n",
       "      <td>0.0</td>\n",
       "      <td>0.956</td>\n",
       "    </tr>\n",
       "    <tr>\n",
       "      <th>3</th>\n",
       "      <td>1.0</td>\n",
       "      <td>1.0</td>\n",
       "      <td>0.045</td>\n",
       "    </tr>\n",
       "  </tbody>\n",
       "</table>\n",
       "</div>"
      ],
      "text/plain": [
       "     X    Y  output\n",
       "0  0.0  0.0   0.051\n",
       "1  0.0  1.0   0.956\n",
       "2  1.0  0.0   0.956\n",
       "3  1.0  1.0   0.045"
      ]
     },
     "execution_count": 19,
     "metadata": {},
     "output_type": "execute_result"
    }
   ],
   "source": [
    "Dtrain = SupervisedDataSet(2,1) # define a dataset in pybrain\n",
    "Dtrain.addSample([0,0],[0])\n",
    "Dtrain.addSample([0,1],[1])\n",
    "Dtrain.addSample([1,0],[1])\n",
    "Dtrain.addSample([1,1],[0])\n",
    "\n",
    "from pybrain.supervised.trainers import BackpropTrainer\n",
    "\n",
    "net = buildNetwork(2, 2, 1, hiddenclass=pybrain.SigmoidLayer, outclass=pybrain.SigmoidLayer)\n",
    "T = BackpropTrainer(net, learningrate=0.01, momentum=0.99)\n",
    "T.trainOnDataset(Dtrain, 1000)\n",
    "print(net.params)\n",
    "print_pred2(D, net)"
   ]
  },
  {
   "cell_type": "code",
   "execution_count": 20,
   "metadata": {},
   "outputs": [
    {
     "data": {
      "image/png": "[encoded data removed]",
      "text/plain": [
       "<Figure size 432x288 with 1 Axes>"
      ]
     },
     "metadata": {},
     "output_type": "display_data"
    }
   ],
   "source": [
    "plot_nn_prediction(net)"
   ]
  },
  {
   "cell_type": "markdown",
   "metadata": {},
   "source": [
    "## The Little Red Riding Hood Neural Network\n",
    "\n",
    "<img src=\"http://themaleharem.com/wp-content/uploads/2014/06/Walter-crane-little-red-riding-hood-meets-the-wolf-in-the-woods.jpg\">"
   ]
  },
  {
   "cell_type": "markdown",
   "metadata": {},
   "source": [
    "<img src=\"lrrh net.jpg\">"
   ]
  },
  {
   "cell_type": "markdown",
   "metadata": {},
   "source": [
    "\n",
    "### Training"
   ]
  },
  {
   "cell_type": "code",
   "execution_count": 21,
   "metadata": {},
   "outputs": [
    {
     "name": "stdout",
     "output_type": "stream",
     "text": [
      "input: dim(6, 4)\n",
      "[[1. 1. 0. 0.]\n",
      " [0. 1. 1. 0.]\n",
      " [0. 0. 0. 1.]]\n",
      "\n",
      "target: dim(6, 4)\n",
      "[[1. 0. 0. 0.]\n",
      " [0. 0. 1. 1.]\n",
      " [0. 1. 1. 0.]]\n",
      "\n",
      "\n",
      "   Big Ears  Big Teeth  Handsome  Wrinkled  Scream  Hug  Food  Kiss\n",
      "0       1.0        1.0       0.0       0.0     1.0  0.0   0.0   0.0\n",
      "1       0.0        1.0       1.0       0.0     0.0  0.0   1.0   1.0\n",
      "2       0.0        0.0       0.0       1.0     0.0  1.0   1.0   0.0\n"
     ]
    }
   ],
   "source": [
    "from pybrain.tools.validation import Validator\n",
    "\n",
    "validator =  Validator()\n",
    "Dlrrh = SupervisedDataSet(4,4) \n",
    "Dlrrh.addSample([1,1,0,0],[1,0,0,0])\n",
    "Dlrrh.addSample([0,1,1,0],[0,0,1,1])\n",
    "Dlrrh.addSample([0,0,0,1],[0,1,1,0])\n",
    "print(Dlrrh)\n",
    "df = pd.DataFrame(Dlrrh['input'],columns=['Big Ears', 'Big Teeth', 'Handsome', 'Wrinkled'])\n",
    "print(df.join(pd.DataFrame(Dlrrh['target'],columns=['Scream', 'Hug', 'Food', 'Kiss'])))\n",
    "net = buildNetwork(4, 3, 4, hiddenclass=pybrain.SigmoidLayer, outclass=pybrain.SigmoidLayer)\n"
   ]
  },
  {
   "cell_type": "code",
   "execution_count": 22,
   "metadata": {},
   "outputs": [
    {
     "data": {
      "text/plain": [
       "[<matplotlib.lines.Line2D at 0x7f707e6ac198>]"
      ]
     },
     "execution_count": 22,
     "metadata": {},
     "output_type": "execute_result"
    },
    {
     "data": {
      "image/png": "[encoded data removed]",
      "text/plain": [
       "<Figure size 432x288 with 1 Axes>"
      ]
     },
     "metadata": {},
     "output_type": "display_data"
    }
   ],
   "source": [
    "T = BackpropTrainer(net, learningrate=0.01, momentum=0.99)\n",
    "scores = []\n",
    "for i in range(1000):\n",
    "    T.trainOnDataset(Dlrrh, 1)\n",
    "    prediction = net.activateOnDataset(Dlrrh)\n",
    "    scores.append(validator.MSE(prediction, Dlrrh.getField('target')))\n",
    "plt.ylabel('Mean Square Error')\n",
    "plt.xlabel('Iteration')\n",
    "plt.plot(scores)\n"
   ]
  },
  {
   "cell_type": "markdown",
   "metadata": {},
   "source": [
    "### Prediction"
   ]
  },
  {
   "cell_type": "code",
   "execution_count": 23,
   "metadata": {},
   "outputs": [],
   "source": [
    "def lrrh_input(vals):\n",
    "    return pd.DataFrame(vals,index=['big ears', 'big teeth', 'handsome', 'wrinkled'], columns=['input'])\n",
    "\n",
    "def lrrh_output(vals):\n",
    "    return pd.DataFrame(vals,index=['scream', 'hug', 'offer food', 'kiss cheek'], columns=['output'])"
   ]
  },
  {
   "cell_type": "code",
   "execution_count": 24,
   "metadata": {},
   "outputs": [
    {
     "data": {
      "text/html": [
       "<div>\n",
       "<style scoped>\n",
       "    .dataframe tbody tr th:only-of-type {\n",
       "        vertical-align: middle;\n",
       "    }\n",
       "\n",
       "    .dataframe tbody tr th {\n",
       "        vertical-align: top;\n",
       "    }\n",
       "\n",
       "    .dataframe thead th {\n",
       "        text-align: right;\n",
       "    }\n",
       "</style>\n",
       "<table border=\"1\" class=\"dataframe\">\n",
       "  <thead>\n",
       "    <tr style=\"text-align: right;\">\n",
       "      <th></th>\n",
       "      <th>input</th>\n",
       "    </tr>\n",
       "  </thead>\n",
       "  <tbody>\n",
       "    <tr>\n",
       "      <th>big ears</th>\n",
       "      <td>1</td>\n",
       "    </tr>\n",
       "    <tr>\n",
       "      <th>big teeth</th>\n",
       "      <td>1</td>\n",
       "    </tr>\n",
       "    <tr>\n",
       "      <th>handsome</th>\n",
       "      <td>1</td>\n",
       "    </tr>\n",
       "    <tr>\n",
       "      <th>wrinkled</th>\n",
       "      <td>0</td>\n",
       "    </tr>\n",
       "  </tbody>\n",
       "</table>\n",
       "</div>"
      ],
      "text/plain": [
       "           input\n",
       "big ears       1\n",
       "big teeth      1\n",
       "handsome       1\n",
       "wrinkled       0"
      ]
     },
     "execution_count": 24,
     "metadata": {},
     "output_type": "execute_result"
    }
   ],
   "source": [
    "in_vals = [1,1,1,0]\n",
    "lrrh_input(in_vals)"
   ]
  },
  {
   "cell_type": "code",
   "execution_count": 25,
   "metadata": {},
   "outputs": [
    {
     "data": {
      "text/html": [
       "<div>\n",
       "<style scoped>\n",
       "    .dataframe tbody tr th:only-of-type {\n",
       "        vertical-align: middle;\n",
       "    }\n",
       "\n",
       "    .dataframe tbody tr th {\n",
       "        vertical-align: top;\n",
       "    }\n",
       "\n",
       "    .dataframe thead th {\n",
       "        text-align: right;\n",
       "    }\n",
       "</style>\n",
       "<table border=\"1\" class=\"dataframe\">\n",
       "  <thead>\n",
       "    <tr style=\"text-align: right;\">\n",
       "      <th></th>\n",
       "      <th>output</th>\n",
       "    </tr>\n",
       "  </thead>\n",
       "  <tbody>\n",
       "    <tr>\n",
       "      <th>scream</th>\n",
       "      <td>0.776998</td>\n",
       "    </tr>\n",
       "    <tr>\n",
       "      <th>hug</th>\n",
       "      <td>0.002428</td>\n",
       "    </tr>\n",
       "    <tr>\n",
       "      <th>offer food</th>\n",
       "      <td>0.275798</td>\n",
       "    </tr>\n",
       "    <tr>\n",
       "      <th>kiss cheek</th>\n",
       "      <td>0.652750</td>\n",
       "    </tr>\n",
       "  </tbody>\n",
       "</table>\n",
       "</div>"
      ],
      "text/plain": [
       "              output\n",
       "scream      0.776998\n",
       "hug         0.002428\n",
       "offer food  0.275798\n",
       "kiss cheek  0.652750"
      ]
     },
     "execution_count": 25,
     "metadata": {},
     "output_type": "execute_result"
    }
   ],
   "source": [
    "lrrh_output(net.activate(in_vals))"
   ]
  },
  {
   "cell_type": "code",
   "execution_count": null,
   "metadata": {},
   "outputs": [],
   "source": []
  }
 ],
 "metadata": {
  "kernelspec": {
   "display_name": "Python [conda env:ml]",
   "language": "python",
   "name": "conda-env-ml-py"
  },
  "language_info": {
   "codemirror_mode": {
    "name": "ipython",
    "version": 3
   },
   "file_extension": ".py",
   "mimetype": "text/x-python",
   "name": "python",
   "nbconvert_exporter": "python",
   "pygments_lexer": "ipython3",
   "version": "3.6.4"
  }
 },
 "nbformat": 4,
 "nbformat_minor": 1
}
